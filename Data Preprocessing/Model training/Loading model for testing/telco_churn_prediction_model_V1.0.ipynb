{
 "cells": [
  {
   "cell_type": "code",
   "execution_count": 2,
   "id": "5a0cd4c2",
   "metadata": {},
   "outputs": [
    {
     "data": {
      "text/html": [
       "<pre style=\"white-space:pre;overflow-x:auto;line-height:normal;font-family:Menlo,'DejaVu Sans Mono',consolas,'Courier New',monospace\"><span style=\"font-weight: bold\">Model: \"sequential_1\"</span>\n",
       "</pre>\n"
      ],
      "text/plain": [
       "\u001b[1mModel: \"sequential_1\"\u001b[0m\n"
      ]
     },
     "metadata": {},
     "output_type": "display_data"
    },
    {
     "data": {
      "text/html": [
       "<pre style=\"white-space:pre;overflow-x:auto;line-height:normal;font-family:Menlo,'DejaVu Sans Mono',consolas,'Courier New',monospace\">┏━━━━━━━━━━━━━━━━━━━━━━━━━━━━━━━━━┳━━━━━━━━━━━━━━━━━━━━━━━━┳━━━━━━━━━━━━━━━┓\n",
       "┃<span style=\"font-weight: bold\"> Layer (type)                    </span>┃<span style=\"font-weight: bold\"> Output Shape           </span>┃<span style=\"font-weight: bold\">       Param # </span>┃\n",
       "┡━━━━━━━━━━━━━━━━━━━━━━━━━━━━━━━━━╇━━━━━━━━━━━━━━━━━━━━━━━━╇━━━━━━━━━━━━━━━┩\n",
       "│ dense_4 (<span style=\"color: #0087ff; text-decoration-color: #0087ff\">Dense</span>)                 │ (<span style=\"color: #00d7ff; text-decoration-color: #00d7ff\">None</span>, <span style=\"color: #00af00; text-decoration-color: #00af00\">64</span>)             │         <span style=\"color: #00af00; text-decoration-color: #00af00\">3,008</span> │\n",
       "├─────────────────────────────────┼────────────────────────┼───────────────┤\n",
       "│ batch_normalization_3           │ (<span style=\"color: #00d7ff; text-decoration-color: #00d7ff\">None</span>, <span style=\"color: #00af00; text-decoration-color: #00af00\">64</span>)             │           <span style=\"color: #00af00; text-decoration-color: #00af00\">256</span> │\n",
       "│ (<span style=\"color: #0087ff; text-decoration-color: #0087ff\">BatchNormalization</span>)            │                        │               │\n",
       "├─────────────────────────────────┼────────────────────────┼───────────────┤\n",
       "│ dropout (<span style=\"color: #0087ff; text-decoration-color: #0087ff\">Dropout</span>)               │ (<span style=\"color: #00d7ff; text-decoration-color: #00d7ff\">None</span>, <span style=\"color: #00af00; text-decoration-color: #00af00\">64</span>)             │             <span style=\"color: #00af00; text-decoration-color: #00af00\">0</span> │\n",
       "├─────────────────────────────────┼────────────────────────┼───────────────┤\n",
       "│ dense_5 (<span style=\"color: #0087ff; text-decoration-color: #0087ff\">Dense</span>)                 │ (<span style=\"color: #00d7ff; text-decoration-color: #00d7ff\">None</span>, <span style=\"color: #00af00; text-decoration-color: #00af00\">32</span>)             │         <span style=\"color: #00af00; text-decoration-color: #00af00\">2,080</span> │\n",
       "├─────────────────────────────────┼────────────────────────┼───────────────┤\n",
       "│ batch_normalization_4           │ (<span style=\"color: #00d7ff; text-decoration-color: #00d7ff\">None</span>, <span style=\"color: #00af00; text-decoration-color: #00af00\">32</span>)             │           <span style=\"color: #00af00; text-decoration-color: #00af00\">128</span> │\n",
       "│ (<span style=\"color: #0087ff; text-decoration-color: #0087ff\">BatchNormalization</span>)            │                        │               │\n",
       "├─────────────────────────────────┼────────────────────────┼───────────────┤\n",
       "│ dropout_1 (<span style=\"color: #0087ff; text-decoration-color: #0087ff\">Dropout</span>)             │ (<span style=\"color: #00d7ff; text-decoration-color: #00d7ff\">None</span>, <span style=\"color: #00af00; text-decoration-color: #00af00\">32</span>)             │             <span style=\"color: #00af00; text-decoration-color: #00af00\">0</span> │\n",
       "├─────────────────────────────────┼────────────────────────┼───────────────┤\n",
       "│ dense_6 (<span style=\"color: #0087ff; text-decoration-color: #0087ff\">Dense</span>)                 │ (<span style=\"color: #00d7ff; text-decoration-color: #00d7ff\">None</span>, <span style=\"color: #00af00; text-decoration-color: #00af00\">16</span>)             │           <span style=\"color: #00af00; text-decoration-color: #00af00\">528</span> │\n",
       "├─────────────────────────────────┼────────────────────────┼───────────────┤\n",
       "│ batch_normalization_5           │ (<span style=\"color: #00d7ff; text-decoration-color: #00d7ff\">None</span>, <span style=\"color: #00af00; text-decoration-color: #00af00\">16</span>)             │            <span style=\"color: #00af00; text-decoration-color: #00af00\">64</span> │\n",
       "│ (<span style=\"color: #0087ff; text-decoration-color: #0087ff\">BatchNormalization</span>)            │                        │               │\n",
       "├─────────────────────────────────┼────────────────────────┼───────────────┤\n",
       "│ dropout_2 (<span style=\"color: #0087ff; text-decoration-color: #0087ff\">Dropout</span>)             │ (<span style=\"color: #00d7ff; text-decoration-color: #00d7ff\">None</span>, <span style=\"color: #00af00; text-decoration-color: #00af00\">16</span>)             │             <span style=\"color: #00af00; text-decoration-color: #00af00\">0</span> │\n",
       "├─────────────────────────────────┼────────────────────────┼───────────────┤\n",
       "│ dense_7 (<span style=\"color: #0087ff; text-decoration-color: #0087ff\">Dense</span>)                 │ (<span style=\"color: #00d7ff; text-decoration-color: #00d7ff\">None</span>, <span style=\"color: #00af00; text-decoration-color: #00af00\">1</span>)              │            <span style=\"color: #00af00; text-decoration-color: #00af00\">17</span> │\n",
       "└─────────────────────────────────┴────────────────────────┴───────────────┘\n",
       "</pre>\n"
      ],
      "text/plain": [
       "┏━━━━━━━━━━━━━━━━━━━━━━━━━━━━━━━━━┳━━━━━━━━━━━━━━━━━━━━━━━━┳━━━━━━━━━━━━━━━┓\n",
       "┃\u001b[1m \u001b[0m\u001b[1mLayer (type)                   \u001b[0m\u001b[1m \u001b[0m┃\u001b[1m \u001b[0m\u001b[1mOutput Shape          \u001b[0m\u001b[1m \u001b[0m┃\u001b[1m \u001b[0m\u001b[1m      Param #\u001b[0m\u001b[1m \u001b[0m┃\n",
       "┡━━━━━━━━━━━━━━━━━━━━━━━━━━━━━━━━━╇━━━━━━━━━━━━━━━━━━━━━━━━╇━━━━━━━━━━━━━━━┩\n",
       "│ dense_4 (\u001b[38;5;33mDense\u001b[0m)                 │ (\u001b[38;5;45mNone\u001b[0m, \u001b[38;5;34m64\u001b[0m)             │         \u001b[38;5;34m3,008\u001b[0m │\n",
       "├─────────────────────────────────┼────────────────────────┼───────────────┤\n",
       "│ batch_normalization_3           │ (\u001b[38;5;45mNone\u001b[0m, \u001b[38;5;34m64\u001b[0m)             │           \u001b[38;5;34m256\u001b[0m │\n",
       "│ (\u001b[38;5;33mBatchNormalization\u001b[0m)            │                        │               │\n",
       "├─────────────────────────────────┼────────────────────────┼───────────────┤\n",
       "│ dropout (\u001b[38;5;33mDropout\u001b[0m)               │ (\u001b[38;5;45mNone\u001b[0m, \u001b[38;5;34m64\u001b[0m)             │             \u001b[38;5;34m0\u001b[0m │\n",
       "├─────────────────────────────────┼────────────────────────┼───────────────┤\n",
       "│ dense_5 (\u001b[38;5;33mDense\u001b[0m)                 │ (\u001b[38;5;45mNone\u001b[0m, \u001b[38;5;34m32\u001b[0m)             │         \u001b[38;5;34m2,080\u001b[0m │\n",
       "├─────────────────────────────────┼────────────────────────┼───────────────┤\n",
       "│ batch_normalization_4           │ (\u001b[38;5;45mNone\u001b[0m, \u001b[38;5;34m32\u001b[0m)             │           \u001b[38;5;34m128\u001b[0m │\n",
       "│ (\u001b[38;5;33mBatchNormalization\u001b[0m)            │                        │               │\n",
       "├─────────────────────────────────┼────────────────────────┼───────────────┤\n",
       "│ dropout_1 (\u001b[38;5;33mDropout\u001b[0m)             │ (\u001b[38;5;45mNone\u001b[0m, \u001b[38;5;34m32\u001b[0m)             │             \u001b[38;5;34m0\u001b[0m │\n",
       "├─────────────────────────────────┼────────────────────────┼───────────────┤\n",
       "│ dense_6 (\u001b[38;5;33mDense\u001b[0m)                 │ (\u001b[38;5;45mNone\u001b[0m, \u001b[38;5;34m16\u001b[0m)             │           \u001b[38;5;34m528\u001b[0m │\n",
       "├─────────────────────────────────┼────────────────────────┼───────────────┤\n",
       "│ batch_normalization_5           │ (\u001b[38;5;45mNone\u001b[0m, \u001b[38;5;34m16\u001b[0m)             │            \u001b[38;5;34m64\u001b[0m │\n",
       "│ (\u001b[38;5;33mBatchNormalization\u001b[0m)            │                        │               │\n",
       "├─────────────────────────────────┼────────────────────────┼───────────────┤\n",
       "│ dropout_2 (\u001b[38;5;33mDropout\u001b[0m)             │ (\u001b[38;5;45mNone\u001b[0m, \u001b[38;5;34m16\u001b[0m)             │             \u001b[38;5;34m0\u001b[0m │\n",
       "├─────────────────────────────────┼────────────────────────┼───────────────┤\n",
       "│ dense_7 (\u001b[38;5;33mDense\u001b[0m)                 │ (\u001b[38;5;45mNone\u001b[0m, \u001b[38;5;34m1\u001b[0m)              │            \u001b[38;5;34m17\u001b[0m │\n",
       "└─────────────────────────────────┴────────────────────────┴───────────────┘\n"
      ]
     },
     "metadata": {},
     "output_type": "display_data"
    },
    {
     "data": {
      "text/html": [
       "<pre style=\"white-space:pre;overflow-x:auto;line-height:normal;font-family:Menlo,'DejaVu Sans Mono',consolas,'Courier New',monospace\"><span style=\"font-weight: bold\"> Total params: </span><span style=\"color: #00af00; text-decoration-color: #00af00\">17,798</span> (69.53 KB)\n",
       "</pre>\n"
      ],
      "text/plain": [
       "\u001b[1m Total params: \u001b[0m\u001b[38;5;34m17,798\u001b[0m (69.53 KB)\n"
      ]
     },
     "metadata": {},
     "output_type": "display_data"
    },
    {
     "data": {
      "text/html": [
       "<pre style=\"white-space:pre;overflow-x:auto;line-height:normal;font-family:Menlo,'DejaVu Sans Mono',consolas,'Courier New',monospace\"><span style=\"font-weight: bold\"> Trainable params: </span><span style=\"color: #00af00; text-decoration-color: #00af00\">5,857</span> (22.88 KB)\n",
       "</pre>\n"
      ],
      "text/plain": [
       "\u001b[1m Trainable params: \u001b[0m\u001b[38;5;34m5,857\u001b[0m (22.88 KB)\n"
      ]
     },
     "metadata": {},
     "output_type": "display_data"
    },
    {
     "data": {
      "text/html": [
       "<pre style=\"white-space:pre;overflow-x:auto;line-height:normal;font-family:Menlo,'DejaVu Sans Mono',consolas,'Courier New',monospace\"><span style=\"font-weight: bold\"> Non-trainable params: </span><span style=\"color: #00af00; text-decoration-color: #00af00\">224</span> (896.00 B)\n",
       "</pre>\n"
      ],
      "text/plain": [
       "\u001b[1m Non-trainable params: \u001b[0m\u001b[38;5;34m224\u001b[0m (896.00 B)\n"
      ]
     },
     "metadata": {},
     "output_type": "display_data"
    },
    {
     "data": {
      "text/html": [
       "<pre style=\"white-space:pre;overflow-x:auto;line-height:normal;font-family:Menlo,'DejaVu Sans Mono',consolas,'Courier New',monospace\"><span style=\"font-weight: bold\"> Optimizer params: </span><span style=\"color: #00af00; text-decoration-color: #00af00\">11,717</span> (45.77 KB)\n",
       "</pre>\n"
      ],
      "text/plain": [
       "\u001b[1m Optimizer params: \u001b[0m\u001b[38;5;34m11,717\u001b[0m (45.77 KB)\n"
      ]
     },
     "metadata": {},
     "output_type": "display_data"
    }
   ],
   "source": [
    "# --- Load Model ---\n",
    "from tensorflow import keras\n",
    "\n",
    "# Define the filename you used earlier\n",
    "model_filename = 'telco_churn_prediction_model_V1.0.keras'\n",
    "\n",
    "# Load the saved model\n",
    "loaded_model = keras.models.load_model(model_filename)\n",
    "\n",
    "# Verify the model is loaded and ready\n",
    "loaded_model.summary()"
   ]
  },
  {
   "cell_type": "code",
   "execution_count": 3,
   "id": "f6d0cd2e",
   "metadata": {},
   "outputs": [],
   "source": [
    "def tenure_z_score_calculation (value: float) -> float:\n",
    "    import pandas as pd\n",
    "    import pickle\n",
    "    with open('tenure_zscore_scaler.pkl', 'rb') as f:\n",
    "        tenure_scaler = pickle.load(f)\n",
    "    tenure_df = pd.DataFrame({'tenure': [value]})\n",
    "    final = tenure_scaler.transform(tenure_df)[0][0]\n",
    "    return final\n",
    "\n"
   ]
  },
  {
   "cell_type": "code",
   "execution_count": 4,
   "id": "7b6c9668",
   "metadata": {},
   "outputs": [],
   "source": [
    "def MonthlyCharges_TotalCharges_minmaxscaler_calculation (MonthlyCharges_value: float, TotalCharges_value:float) -> float:\n",
    "    import pandas as pd\n",
    "    import pickle\n",
    "    with open('charges_minmax_scaler.pkl', 'rb') as f:\n",
    "        charges_scaler = pickle.load(f)\n",
    "    MonthlyCharges_TotalCharges_df = pd.DataFrame({'MonthlyCharges': [68.61],'TotalCharges': [205.83]})\n",
    "    MonthlyCharges_final = charges_scaler.transform(MonthlyCharges_TotalCharges_df)[0][0]\n",
    "    TotalCharges_final = charges_scaler.transform(MonthlyCharges_TotalCharges_df)[0][1]\n",
    "    return MonthlyCharges_final,TotalCharges_final\n",
    "\n"
   ]
  },
  {
   "cell_type": "code",
   "execution_count": 5,
   "id": "8f607070",
   "metadata": {},
   "outputs": [],
   "source": [
    "SeniorCitizen=0\n",
    "tenure=3\n",
    "PhoneService=1\n",
    "PaperlessBilling=0\n",
    "MonthlyCharges=68.61\n",
    "TotalCharges=205.83\n",
    "Contract_Month_to_Month=1 \n",
    "Contract_One_year=0\n",
    "Contract_Two_year=0 \n",
    "PaymentMethod_Bank_transfer_automatic=0\n",
    "PaymentMethod_CreditP_card_automatic=0\n",
    "PaymentMethod_Electronic_check=0\n",
    "PaymentMethod_Mailed_check=1\n",
    "PaymentMethod_Unknown=0\n",
    "gender_Female=1\n",
    "gender_Unknown=0  \n",
    "Partner_No=1\n",
    "Partner_Unknown=0\n",
    "Partner_Yes=0\n",
    "Dependents_No=0\n",
    "Dependents_Unknown=0\n",
    "Dependents_Yes=1\n",
    "MultipleLines_No=0\n",
    "MultipleLines_Unknown=0\n",
    "MultipleLines_Yes=1\n",
    "InternetService_DSL=0\n",
    "InternetService_Fiber_optic=0\n",
    "InternetService_No=1\n",
    "OnlineSecurity_No=1\n",
    "OnlineSecurity_Unknown=0\n",
    "OnlineSecurity_Yes=0\n",
    "OnlineBackup_No=1\n",
    "OnlineBackup_Unknown=0\n",
    "OnlineBackup_Yes=0\n",
    "DeviceProtection_No=1\n",
    "DeviceProtection_Unknown=0\n",
    "DeviceProtection_Yes=0\n",
    "TechSupport_No=1\n",
    "TechSupport_Unknown=0\n",
    "TechSupport_Yes=0\n",
    "StreamingTV_No=1\n",
    "StreamingTV_Unknown=0\n",
    "StreamingTV_Yes=0\n",
    "StreamingMovies_No=1\n",
    "StreamingMovies_Unknown=0\n",
    "StreamingMovies_Yes=0\n",
    "\n",
    "\n",
    "tenure = tenure_z_score_calculation(tenure)\n",
    "MonthlyCharges,TotalCharges=MonthlyCharges_TotalCharges_minmaxscaler_calculation(68.61,205.83)\n",
    "\n"
   ]
  },
  {
   "cell_type": "code",
   "execution_count": 6,
   "id": "ebfad416",
   "metadata": {},
   "outputs": [],
   "source": [
    "sample_customer_features = [\n",
    "    SeniorCitizen, tenure, PhoneService, PaperlessBilling, MonthlyCharges, TotalCharges, Contract_Month_to_Month, Contract_One_year, Contract_Two_year, PaymentMethod_Bank_transfer_automatic, PaymentMethod_CreditP_card_automatic, PaymentMethod_Electronic_check, PaymentMethod_Mailed_check, PaymentMethod_Unknown, gender_Female, gender_Unknown, Partner_No, Partner_Unknown, Partner_Yes, Dependents_No, Dependents_Unknown, Dependents_Yes, MultipleLines_No, MultipleLines_Unknown, MultipleLines_Yes, InternetService_DSL, InternetService_Fiber_optic, InternetService_No, OnlineSecurity_No, OnlineSecurity_Unknown, OnlineSecurity_Yes, OnlineBackup_No, OnlineBackup_Unknown, OnlineBackup_Yes, DeviceProtection_No, DeviceProtection_Unknown, DeviceProtection_Yes, TechSupport_No, TechSupport_Unknown, TechSupport_Yes, StreamingTV_No, StreamingTV_Unknown, StreamingTV_Yes, StreamingMovies_No, StreamingMovies_Unknown, StreamingMovies_Yes\n",
    "]"
   ]
  },
  {
   "cell_type": "code",
   "execution_count": 17,
   "id": "d0e88ee9",
   "metadata": {},
   "outputs": [],
   "source": [
    "def predict_new_customer_churn(customer_data, model, threshold=0.5):\n",
    "    import numpy as np\n",
    "    # 1. Convert the list/array to a NumPy array\n",
    "    data_array = np.array(customer_data, dtype=np.float32)\n",
    "\n",
    "    # 2. Reshape the array to (1, 46) to match the model's expected input shape (samples, features)\n",
    "    X_new = data_array.reshape(1, -1)\n",
    "\n",
    "    # 3. Generate the probability prediction\n",
    "    probability = model.predict(X_new, verbose=0)[0][0]\n",
    "\n",
    "    # 4. Apply the classification threshold\n",
    "    prediction = 1 if probability >= threshold else 0\n",
    "\n",
    "    return prediction, probability"
   ]
  },
  {
   "cell_type": "code",
   "execution_count": 18,
   "id": "f0fcad89",
   "metadata": {},
   "outputs": [
    {
     "data": {
      "text/plain": [
       "(1, np.float32(0.6774466))"
      ]
     },
     "execution_count": 18,
     "metadata": {},
     "output_type": "execute_result"
    }
   ],
   "source": [
    "# Assuming your model is loaded as 'loaded_model'\n",
    "prediction, probability = predict_new_customer_churn(\n",
    "    customer_data=sample_customer_features, \n",
    "    model=loaded_model, \n",
    "    threshold=0.5\n",
    ")\n",
    "prediction, probability"
   ]
  }
 ],
 "metadata": {
  "kernelspec": {
   "display_name": "venv_TensorFlow_cpu_1 (3.12.10)",
   "language": "python",
   "name": "python3"
  },
  "language_info": {
   "codemirror_mode": {
    "name": "ipython",
    "version": 3
   },
   "file_extension": ".py",
   "mimetype": "text/x-python",
   "name": "python",
   "nbconvert_exporter": "python",
   "pygments_lexer": "ipython3",
   "version": "3.12.10"
  }
 },
 "nbformat": 4,
 "nbformat_minor": 5
}
