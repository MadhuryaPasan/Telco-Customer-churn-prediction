{
 "cells": [
  {
   "cell_type": "code",
   "execution_count": 10,
   "id": "228a8792",
   "metadata": {},
   "outputs": [],
   "source": [
    "import pandas as pd\n",
    "import numpy as np\n",
    "import matplotlib.pyplot as plt\n",
    "import seaborn as sns"
   ]
  },
  {
   "cell_type": "code",
   "execution_count": 11,
   "id": "abc8a73b",
   "metadata": {},
   "outputs": [
    {
     "name": "stdout",
     "output_type": "stream",
     "text": [
      "Loaded cleaned data: (60175, 21)\n"
     ]
    },
    {
     "data": {
      "application/vnd.microsoft.datawrangler.viewer.v0+json": {
       "columns": [
        {
         "name": "index",
         "rawType": "int64",
         "type": "integer"
        },
        {
         "name": "customerID",
         "rawType": "object",
         "type": "string"
        },
        {
         "name": "gender",
         "rawType": "object",
         "type": "string"
        },
        {
         "name": "SeniorCitizen",
         "rawType": "int64",
         "type": "integer"
        },
        {
         "name": "Partner",
         "rawType": "object",
         "type": "string"
        },
        {
         "name": "Dependents",
         "rawType": "object",
         "type": "string"
        },
        {
         "name": "tenure",
         "rawType": "float64",
         "type": "float"
        },
        {
         "name": "PhoneService",
         "rawType": "object",
         "type": "string"
        },
        {
         "name": "MultipleLines",
         "rawType": "object",
         "type": "string"
        },
        {
         "name": "InternetService",
         "rawType": "object",
         "type": "string"
        },
        {
         "name": "OnlineSecurity",
         "rawType": "object",
         "type": "string"
        },
        {
         "name": "OnlineBackup",
         "rawType": "object",
         "type": "string"
        },
        {
         "name": "DeviceProtection",
         "rawType": "object",
         "type": "string"
        },
        {
         "name": "TechSupport",
         "rawType": "object",
         "type": "string"
        },
        {
         "name": "StreamingTV",
         "rawType": "object",
         "type": "string"
        },
        {
         "name": "StreamingMovies",
         "rawType": "object",
         "type": "string"
        },
        {
         "name": "Contract",
         "rawType": "object",
         "type": "string"
        },
        {
         "name": "PaperlessBilling",
         "rawType": "object",
         "type": "string"
        },
        {
         "name": "PaymentMethod",
         "rawType": "object",
         "type": "string"
        },
        {
         "name": "MonthlyCharges",
         "rawType": "float64",
         "type": "float"
        },
        {
         "name": "TotalCharges",
         "rawType": "float64",
         "type": "float"
        },
        {
         "name": "Churn",
         "rawType": "object",
         "type": "string"
        }
       ],
       "ref": "78332d40-6e93-4415-9ac1-8aa04432016e",
       "rows": [
        [
         "0",
         "CUST00001",
         "Male",
         "0",
         "No",
         "Yes",
         "3.0428",
         "Yes",
         "Yes",
         "No",
         "No",
         "No",
         "No",
         "No",
         "No",
         "No",
         "Month-to-month",
         "No",
         "Mailed check",
         "71.90797968624295",
         "99.81018013433749",
         "Yes"
        ],
        [
         "1",
         "CUST00002",
         "Male",
         "1",
         "Yes",
         "No",
         "3.0428",
         "Yes",
         "Yes",
         "DSL",
         "No",
         "No",
         "No",
         "Yes",
         "Unknown",
         "No",
         "One year",
         "Yes",
         "Bank transfer (automatic)",
         "21.35117747611865",
         "99.81018013433749",
         "No"
        ],
        [
         "2",
         "CUST00003",
         "Female",
         "0",
         "No",
         "No",
         "36.87",
         "Yes",
         "Yes",
         "DSL",
         "No",
         "Yes",
         "No",
         "Unknown",
         "Yes",
         "Yes",
         "Month-to-month",
         "No",
         "Electronic check",
         "41.157793644408684",
         "1727.3070384693672",
         "Yes"
        ],
        [
         "3",
         "CUST00005",
         "Male",
         "1",
         "Yes",
         "Yes",
         "14.1083",
         "Yes",
         "Unknown",
         "Fiber optic",
         "Yes",
         "No",
         "Yes",
         "No",
         "No",
         "No",
         "Two year",
         "Yes",
         "Electronic check",
         "21.35117747611865",
         "324.7893821882952",
         "Yes"
        ],
        [
         "4",
         "CUST00006",
         "Male",
         "0",
         "Yes",
         "No",
         "20.0413",
         "Yes",
         "No",
         "Fiber optic",
         "No",
         "No",
         "Unknown",
         "Yes",
         "Unknown",
         "No",
         "One year",
         "No",
         "Electronic check",
         "34.567088989441935",
         "556.8986605597964",
         "Yes"
        ]
       ],
       "shape": {
        "columns": 21,
        "rows": 5
       }
      },
      "text/html": [
       "<div>\n",
       "<style scoped>\n",
       "    .dataframe tbody tr th:only-of-type {\n",
       "        vertical-align: middle;\n",
       "    }\n",
       "\n",
       "    .dataframe tbody tr th {\n",
       "        vertical-align: top;\n",
       "    }\n",
       "\n",
       "    .dataframe thead th {\n",
       "        text-align: right;\n",
       "    }\n",
       "</style>\n",
       "<table border=\"1\" class=\"dataframe\">\n",
       "  <thead>\n",
       "    <tr style=\"text-align: right;\">\n",
       "      <th></th>\n",
       "      <th>customerID</th>\n",
       "      <th>gender</th>\n",
       "      <th>SeniorCitizen</th>\n",
       "      <th>Partner</th>\n",
       "      <th>Dependents</th>\n",
       "      <th>tenure</th>\n",
       "      <th>PhoneService</th>\n",
       "      <th>MultipleLines</th>\n",
       "      <th>InternetService</th>\n",
       "      <th>OnlineSecurity</th>\n",
       "      <th>...</th>\n",
       "      <th>DeviceProtection</th>\n",
       "      <th>TechSupport</th>\n",
       "      <th>StreamingTV</th>\n",
       "      <th>StreamingMovies</th>\n",
       "      <th>Contract</th>\n",
       "      <th>PaperlessBilling</th>\n",
       "      <th>PaymentMethod</th>\n",
       "      <th>MonthlyCharges</th>\n",
       "      <th>TotalCharges</th>\n",
       "      <th>Churn</th>\n",
       "    </tr>\n",
       "  </thead>\n",
       "  <tbody>\n",
       "    <tr>\n",
       "      <th>0</th>\n",
       "      <td>CUST00001</td>\n",
       "      <td>Male</td>\n",
       "      <td>0</td>\n",
       "      <td>No</td>\n",
       "      <td>Yes</td>\n",
       "      <td>3.0428</td>\n",
       "      <td>Yes</td>\n",
       "      <td>Yes</td>\n",
       "      <td>No</td>\n",
       "      <td>No</td>\n",
       "      <td>...</td>\n",
       "      <td>No</td>\n",
       "      <td>No</td>\n",
       "      <td>No</td>\n",
       "      <td>No</td>\n",
       "      <td>Month-to-month</td>\n",
       "      <td>No</td>\n",
       "      <td>Mailed check</td>\n",
       "      <td>71.907980</td>\n",
       "      <td>99.810180</td>\n",
       "      <td>Yes</td>\n",
       "    </tr>\n",
       "    <tr>\n",
       "      <th>1</th>\n",
       "      <td>CUST00002</td>\n",
       "      <td>Male</td>\n",
       "      <td>1</td>\n",
       "      <td>Yes</td>\n",
       "      <td>No</td>\n",
       "      <td>3.0428</td>\n",
       "      <td>Yes</td>\n",
       "      <td>Yes</td>\n",
       "      <td>DSL</td>\n",
       "      <td>No</td>\n",
       "      <td>...</td>\n",
       "      <td>No</td>\n",
       "      <td>Yes</td>\n",
       "      <td>Unknown</td>\n",
       "      <td>No</td>\n",
       "      <td>One year</td>\n",
       "      <td>Yes</td>\n",
       "      <td>Bank transfer (automatic)</td>\n",
       "      <td>21.351177</td>\n",
       "      <td>99.810180</td>\n",
       "      <td>No</td>\n",
       "    </tr>\n",
       "    <tr>\n",
       "      <th>2</th>\n",
       "      <td>CUST00003</td>\n",
       "      <td>Female</td>\n",
       "      <td>0</td>\n",
       "      <td>No</td>\n",
       "      <td>No</td>\n",
       "      <td>36.8700</td>\n",
       "      <td>Yes</td>\n",
       "      <td>Yes</td>\n",
       "      <td>DSL</td>\n",
       "      <td>No</td>\n",
       "      <td>...</td>\n",
       "      <td>No</td>\n",
       "      <td>Unknown</td>\n",
       "      <td>Yes</td>\n",
       "      <td>Yes</td>\n",
       "      <td>Month-to-month</td>\n",
       "      <td>No</td>\n",
       "      <td>Electronic check</td>\n",
       "      <td>41.157794</td>\n",
       "      <td>1727.307038</td>\n",
       "      <td>Yes</td>\n",
       "    </tr>\n",
       "    <tr>\n",
       "      <th>3</th>\n",
       "      <td>CUST00005</td>\n",
       "      <td>Male</td>\n",
       "      <td>1</td>\n",
       "      <td>Yes</td>\n",
       "      <td>Yes</td>\n",
       "      <td>14.1083</td>\n",
       "      <td>Yes</td>\n",
       "      <td>Unknown</td>\n",
       "      <td>Fiber optic</td>\n",
       "      <td>Yes</td>\n",
       "      <td>...</td>\n",
       "      <td>Yes</td>\n",
       "      <td>No</td>\n",
       "      <td>No</td>\n",
       "      <td>No</td>\n",
       "      <td>Two year</td>\n",
       "      <td>Yes</td>\n",
       "      <td>Electronic check</td>\n",
       "      <td>21.351177</td>\n",
       "      <td>324.789382</td>\n",
       "      <td>Yes</td>\n",
       "    </tr>\n",
       "    <tr>\n",
       "      <th>4</th>\n",
       "      <td>CUST00006</td>\n",
       "      <td>Male</td>\n",
       "      <td>0</td>\n",
       "      <td>Yes</td>\n",
       "      <td>No</td>\n",
       "      <td>20.0413</td>\n",
       "      <td>Yes</td>\n",
       "      <td>No</td>\n",
       "      <td>Fiber optic</td>\n",
       "      <td>No</td>\n",
       "      <td>...</td>\n",
       "      <td>Unknown</td>\n",
       "      <td>Yes</td>\n",
       "      <td>Unknown</td>\n",
       "      <td>No</td>\n",
       "      <td>One year</td>\n",
       "      <td>No</td>\n",
       "      <td>Electronic check</td>\n",
       "      <td>34.567089</td>\n",
       "      <td>556.898661</td>\n",
       "      <td>Yes</td>\n",
       "    </tr>\n",
       "  </tbody>\n",
       "</table>\n",
       "<p>5 rows × 21 columns</p>\n",
       "</div>"
      ],
      "text/plain": [
       "  customerID  gender  SeniorCitizen Partner Dependents   tenure PhoneService  \\\n",
       "0  CUST00001    Male              0      No        Yes   3.0428          Yes   \n",
       "1  CUST00002    Male              1     Yes         No   3.0428          Yes   \n",
       "2  CUST00003  Female              0      No         No  36.8700          Yes   \n",
       "3  CUST00005    Male              1     Yes        Yes  14.1083          Yes   \n",
       "4  CUST00006    Male              0     Yes         No  20.0413          Yes   \n",
       "\n",
       "  MultipleLines InternetService OnlineSecurity  ... DeviceProtection  \\\n",
       "0           Yes              No             No  ...               No   \n",
       "1           Yes             DSL             No  ...               No   \n",
       "2           Yes             DSL             No  ...               No   \n",
       "3       Unknown     Fiber optic            Yes  ...              Yes   \n",
       "4            No     Fiber optic             No  ...          Unknown   \n",
       "\n",
       "  TechSupport StreamingTV StreamingMovies        Contract PaperlessBilling  \\\n",
       "0          No          No              No  Month-to-month               No   \n",
       "1         Yes     Unknown              No        One year              Yes   \n",
       "2     Unknown         Yes             Yes  Month-to-month               No   \n",
       "3          No          No              No        Two year              Yes   \n",
       "4         Yes     Unknown              No        One year               No   \n",
       "\n",
       "               PaymentMethod MonthlyCharges  TotalCharges  Churn  \n",
       "0               Mailed check      71.907980     99.810180    Yes  \n",
       "1  Bank transfer (automatic)      21.351177     99.810180     No  \n",
       "2           Electronic check      41.157794   1727.307038    Yes  \n",
       "3           Electronic check      21.351177    324.789382    Yes  \n",
       "4           Electronic check      34.567089    556.898661    Yes  \n",
       "\n",
       "[5 rows x 21 columns]"
      ]
     },
     "execution_count": 11,
     "metadata": {},
     "output_type": "execute_result"
    }
   ],
   "source": [
    "# Load cleaned dataset (Member 1's output)\n",
    "cleaned_data = pd.read_csv(\"01.cleaned_telco_customer_data.csv\")\n",
    "print(\"Loaded cleaned data:\", cleaned_data.shape)\n",
    "\n",
    "# Work on a copy for integration\n",
    "df = cleaned_data.copy()\n",
    "df.head()\n"
   ]
  },
  {
   "cell_type": "markdown",
   "id": "8a7f8932",
   "metadata": {},
   "source": [
    " 1) Schema normalization (strings trimmed, numeric coercion)"
   ]
  },
  {
   "cell_type": "code",
   "execution_count": 12,
   "id": "7933c68c",
   "metadata": {},
   "outputs": [
    {
     "name": "stdout",
     "output_type": "stream",
     "text": [
      "Before normalization dtypes:\n",
      " customerID           object\n",
      "gender               object\n",
      "SeniorCitizen         int64\n",
      "Partner              object\n",
      "Dependents           object\n",
      "tenure              float64\n",
      "PhoneService         object\n",
      "MultipleLines        object\n",
      "InternetService      object\n",
      "OnlineSecurity       object\n",
      "OnlineBackup         object\n",
      "DeviceProtection     object\n",
      "TechSupport          object\n",
      "StreamingTV          object\n",
      "StreamingMovies      object\n",
      "Contract             object\n",
      "PaperlessBilling     object\n",
      "PaymentMethod        object\n",
      "MonthlyCharges      float64\n",
      "TotalCharges        float64\n",
      "Churn                object\n",
      "dtype: object\n",
      "\n",
      "After normalization dtypes:\n",
      " SeniorCitizen       int64\n",
      "tenure            float64\n",
      "MonthlyCharges    float64\n",
      "TotalCharges      float64\n",
      "dtype: object\n"
     ]
    }
   ],
   "source": [
    "\n",
    "print(\"Before normalization dtypes:\\n\", df.dtypes)\n",
    "\n",
    "# Trim whitespace on object columns\n",
    "for col in df.select_dtypes(include=['object']).columns:\n",
    "    df[col] = df[col].astype(str).str.strip()\n",
    "\n",
    "# Ensure numeric columns are numeric\n",
    "numeric_cols = [\"SeniorCitizen\", \"tenure\", \"MonthlyCharges\", \"TotalCharges\"]\n",
    "for col in numeric_cols:\n",
    "    if col in df.columns:\n",
    "        df[col] = pd.to_numeric(df[col], errors=\"coerce\")\n",
    "\n",
    "print(\"\\nAfter normalization dtypes:\\n\", df.dtypes[numeric_cols])\n"
   ]
  },
  {
   "cell_type": "markdown",
   "id": "59af99a6",
   "metadata": {},
   "source": [
    "2) Entity identification: detect near-duplicate customerIDs and similar names"
   ]
  },
  {
   "cell_type": "code",
   "execution_count": 13,
   "id": "0d3061b1",
   "metadata": {},
   "outputs": [
    {
     "name": "stdout",
     "output_type": "stream",
     "text": [
      "Duplicates removed. Shape: (60175, 21)\n"
     ]
    }
   ],
   "source": [
    "df = df.drop_duplicates(subset=[\"customerID\"], keep=\"first\").reset_index(drop=True)\n",
    "print(\"Duplicates removed. Shape:\", df.shape)"
   ]
  },
  {
   "cell_type": "markdown",
   "id": "912aa8a9",
   "metadata": {},
   "source": [
    "3) Value conflict resolution for Charges"
   ]
  },
  {
   "cell_type": "code",
   "execution_count": 14,
   "id": "ef8aebd3",
   "metadata": {},
   "outputs": [
    {
     "name": "stdout",
     "output_type": "stream",
     "text": [
      "TotalCharges conflicts found: 56379\n"
     ]
    }
   ],
   "source": [
    "# 3. Resolve TotalCharges conflicts (vectorized)\n",
    "if set([\"MonthlyCharges\",\"tenure\",\"TotalCharges\"]).issubset(df.columns):\n",
    "    derived = (df[\"MonthlyCharges\"] * df[\"tenure\"]).round(2)\n",
    "    diff = (df[\"TotalCharges\"] - derived).abs()\n",
    "    conflict_mask = diff > np.maximum(1.0, 0.02 * derived)\n",
    "    print(\"TotalCharges conflicts found:\", conflict_mask.sum())\n",
    "\n",
    "    # Correct by averaging existing and derived\n",
    "    df.loc[conflict_mask, \"TotalCharges\"] = (\n",
    "        (df.loc[conflict_mask, \"TotalCharges\"] + derived[conflict_mask]) / 2\n",
    "    )\n"
   ]
  },
  {
   "cell_type": "markdown",
   "id": "a59dea3f",
   "metadata": {},
   "source": [
    "4) Service logic: if InternetService == \"No\" -> set online/streaming/tech fields to \"No\""
   ]
  },
  {
   "cell_type": "code",
   "execution_count": 15,
   "id": "abeaa96d",
   "metadata": {},
   "outputs": [
    {
     "name": "stdout",
     "output_type": "stream",
     "text": [
      "Service conflicts resolved.\n"
     ]
    }
   ],
   "source": [
    "# 4. Service logic correction (vectorized)\n",
    "if \"InternetService\" in df.columns:\n",
    "    related = [c for c in df.columns if any(x in c.lower() for x in [\"online\",\"stream\",\"device\",\"techsupport\"])]\n",
    "    mask_no_internet = df[\"InternetService\"].str.lower().isin([\"no\", \"none\", \"no internet service\"])\n",
    "    for c in related:\n",
    "        df.loc[mask_no_internet, c] = \"No\"\n",
    "print(\"Service conflicts resolved.\")\n"
   ]
  },
  {
   "cell_type": "markdown",
   "id": "d18c7668",
   "metadata": {},
   "source": [
    "5) Redundancy detection: correlation matrix, heatmap, drop very-highly-correlated (>0.98)"
   ]
  },
  {
   "cell_type": "code",
   "execution_count": 16,
   "id": "ebcdc45f",
   "metadata": {},
   "outputs": [
    {
     "data": {
      "image/png": "[encoded data removed]",
      "text/plain": [
       "<Figure size 800x600 with 2 Axes>"
      ]
     },
     "metadata": {},
     "output_type": "display_data"
    },
    {
     "name": "stdout",
     "output_type": "stream",
     "text": [
      "Dropped redundant columns: []\n"
     ]
    }
   ],
   "source": [
    "# 5. Redundancy detection via correlation\n",
    "num_df = df.select_dtypes(include=[np.number])\n",
    "if num_df.shape[1] >= 2:\n",
    "    corr = num_df.corr().abs()\n",
    "    plt.figure(figsize=(8,6))\n",
    "    sns.heatmap(corr, annot=True, fmt=\".2f\", cmap=\"coolwarm\")\n",
    "    plt.title(\"Correlation Heatmap\")\n",
    "    plt.show()\n",
    "\n",
    "    # Drop redundant (>0.98 correlation)\n",
    "    upper = corr.where(np.triu(np.ones(corr.shape), k=1).astype(bool))\n",
    "    to_drop = [c for c in upper.columns if any(upper[c] > 0.98)]\n",
    "    df = df.drop(columns=to_drop)\n",
    "    print(\"Dropped redundant columns:\", to_drop)\n"
   ]
  },
  {
   "cell_type": "code",
   "execution_count": 17,
   "id": "fafc78b1",
   "metadata": {},
   "outputs": [],
   "source": [
    "# 6) Final schema enforcement & cleanup, show head, save final integrated dataset\n",
    "\n",
    "# Ensure categorical fields are strings and numeric fields floats\n",
    "for c in df.columns:\n",
    "    if c == 'tenure':\n",
    "        # If tenure values are all integers, convert to Int64, else keep as float\n",
    "        if (df[c].dropna() == df[c].dropna().astype(int)).all():\n",
    "            df[c] = pd.to_numeric(df[c], errors='coerce').astype('Int64')\n",
    "        else:\n",
    "            df[c] = pd.to_numeric(df[c], errors='coerce').astype(float)\n",
    "    elif df[c].dtype == object:\n",
    "        df[c] = df[c].astype(str)\n",
    "    elif pd.api.types.is_integer_dtype(df[c]) or pd.api.types.is_float_dtype(df[c]):\n",
    "        df[c] = pd.to_numeric(df[c], errors='coerce').astype(float)\n",
    "\n",
    "# Keep derived_TotalCharges if you want audit info, else drop:\n",
    "# df = df.drop(columns=['derived_TotalCharges', 'total_diff_abs', 'total_conflict'], errors='ignore')\n"
   ]
  },
  {
   "cell_type": "code",
   "execution_count": 18,
   "id": "fe27ffeb",
   "metadata": {},
   "outputs": [],
   "source": [
    "\n",
    "# Drop helper normalization column if you don't want it saved\n",
    "if 'name_norm' in df.columns:\n",
    "    df = df.drop(columns=['name_norm'])\n"
   ]
  },
  {
   "cell_type": "code",
   "execution_count": 19,
   "id": "6f12c1be",
   "metadata": {},
   "outputs": [
    {
     "name": "stdout",
     "output_type": "stream",
     "text": [
      "Final dataframe shape: (60175, 21)\n"
     ]
    },
    {
     "data": {
      "application/vnd.microsoft.datawrangler.viewer.v0+json": {
       "columns": [
        {
         "name": "index",
         "rawType": "int64",
         "type": "integer"
        },
        {
         "name": "customerID",
         "rawType": "object",
         "type": "string"
        },
        {
         "name": "gender",
         "rawType": "object",
         "type": "string"
        },
        {
         "name": "SeniorCitizen",
         "rawType": "float64",
         "type": "float"
        },
        {
         "name": "Partner",
         "rawType": "object",
         "type": "string"
        },
        {
         "name": "Dependents",
         "rawType": "object",
         "type": "string"
        },
        {
         "name": "tenure",
         "rawType": "float64",
         "type": "float"
        },
        {
         "name": "PhoneService",
         "rawType": "object",
         "type": "string"
        },
        {
         "name": "MultipleLines",
         "rawType": "object",
         "type": "string"
        },
        {
         "name": "InternetService",
         "rawType": "object",
         "type": "string"
        },
        {
         "name": "OnlineSecurity",
         "rawType": "object",
         "type": "string"
        },
        {
         "name": "OnlineBackup",
         "rawType": "object",
         "type": "string"
        },
        {
         "name": "DeviceProtection",
         "rawType": "object",
         "type": "string"
        },
        {
         "name": "TechSupport",
         "rawType": "object",
         "type": "string"
        },
        {
         "name": "StreamingTV",
         "rawType": "object",
         "type": "string"
        },
        {
         "name": "StreamingMovies",
         "rawType": "object",
         "type": "string"
        },
        {
         "name": "Contract",
         "rawType": "object",
         "type": "string"
        },
        {
         "name": "PaperlessBilling",
         "rawType": "object",
         "type": "string"
        },
        {
         "name": "PaymentMethod",
         "rawType": "object",
         "type": "string"
        },
        {
         "name": "MonthlyCharges",
         "rawType": "float64",
         "type": "float"
        },
        {
         "name": "TotalCharges",
         "rawType": "float64",
         "type": "float"
        },
        {
         "name": "Churn",
         "rawType": "object",
         "type": "string"
        }
       ],
       "ref": "1dcd1d62-6c7e-41a0-9583-e194b1dcab70",
       "rows": [
        [
         "0",
         "CUST00001",
         "Male",
         "0.0",
         "No",
         "Yes",
         "3.0428",
         "Yes",
         "Yes",
         "No",
         "No",
         "No",
         "No",
         "No",
         "No",
         "No",
         "Month-to-month",
         "No",
         "Mailed check",
         "71.90797968624295",
         "159.30509006716875",
         "Yes"
        ],
        [
         "1",
         "CUST00002",
         "Male",
         "1.0",
         "Yes",
         "No",
         "3.0428",
         "Yes",
         "Yes",
         "DSL",
         "No",
         "No",
         "No",
         "Yes",
         "Unknown",
         "No",
         "One year",
         "Yes",
         "Bank transfer (automatic)",
         "21.35117747611865",
         "82.39009006716874",
         "No"
        ],
        [
         "2",
         "CUST00003",
         "Female",
         "0.0",
         "No",
         "No",
         "36.87",
         "Yes",
         "Yes",
         "DSL",
         "No",
         "Yes",
         "No",
         "Unknown",
         "Yes",
         "Yes",
         "Month-to-month",
         "No",
         "Electronic check",
         "41.157793644408684",
         "1622.3985192346836",
         "Yes"
        ],
        [
         "3",
         "CUST00005",
         "Male",
         "1.0",
         "Yes",
         "Yes",
         "14.1083",
         "Yes",
         "Unknown",
         "Fiber optic",
         "Yes",
         "No",
         "Yes",
         "No",
         "No",
         "No",
         "Two year",
         "Yes",
         "Electronic check",
         "21.35117747611865",
         "313.00969109414757",
         "Yes"
        ],
        [
         "4",
         "CUST00006",
         "Male",
         "0.0",
         "Yes",
         "No",
         "20.0413",
         "Yes",
         "No",
         "Fiber optic",
         "No",
         "No",
         "Unknown",
         "Yes",
         "Unknown",
         "No",
         "One year",
         "No",
         "Electronic check",
         "34.567088989441935",
         "624.8343302798983",
         "Yes"
        ]
       ],
       "shape": {
        "columns": 21,
        "rows": 5
       }
      },
      "text/html": [
       "<div>\n",
       "<style scoped>\n",
       "    .dataframe tbody tr th:only-of-type {\n",
       "        vertical-align: middle;\n",
       "    }\n",
       "\n",
       "    .dataframe tbody tr th {\n",
       "        vertical-align: top;\n",
       "    }\n",
       "\n",
       "    .dataframe thead th {\n",
       "        text-align: right;\n",
       "    }\n",
       "</style>\n",
       "<table border=\"1\" class=\"dataframe\">\n",
       "  <thead>\n",
       "    <tr style=\"text-align: right;\">\n",
       "      <th></th>\n",
       "      <th>customerID</th>\n",
       "      <th>gender</th>\n",
       "      <th>SeniorCitizen</th>\n",
       "      <th>Partner</th>\n",
       "      <th>Dependents</th>\n",
       "      <th>tenure</th>\n",
       "      <th>PhoneService</th>\n",
       "      <th>MultipleLines</th>\n",
       "      <th>InternetService</th>\n",
       "      <th>OnlineSecurity</th>\n",
       "      <th>...</th>\n",
       "      <th>DeviceProtection</th>\n",
       "      <th>TechSupport</th>\n",
       "      <th>StreamingTV</th>\n",
       "      <th>StreamingMovies</th>\n",
       "      <th>Contract</th>\n",
       "      <th>PaperlessBilling</th>\n",
       "      <th>PaymentMethod</th>\n",
       "      <th>MonthlyCharges</th>\n",
       "      <th>TotalCharges</th>\n",
       "      <th>Churn</th>\n",
       "    </tr>\n",
       "  </thead>\n",
       "  <tbody>\n",
       "    <tr>\n",
       "      <th>0</th>\n",
       "      <td>CUST00001</td>\n",
       "      <td>Male</td>\n",
       "      <td>0.0</td>\n",
       "      <td>No</td>\n",
       "      <td>Yes</td>\n",
       "      <td>3.0428</td>\n",
       "      <td>Yes</td>\n",
       "      <td>Yes</td>\n",
       "      <td>No</td>\n",
       "      <td>No</td>\n",
       "      <td>...</td>\n",
       "      <td>No</td>\n",
       "      <td>No</td>\n",
       "      <td>No</td>\n",
       "      <td>No</td>\n",
       "      <td>Month-to-month</td>\n",
       "      <td>No</td>\n",
       "      <td>Mailed check</td>\n",
       "      <td>71.907980</td>\n",
       "      <td>159.305090</td>\n",
       "      <td>Yes</td>\n",
       "    </tr>\n",
       "    <tr>\n",
       "      <th>1</th>\n",
       "      <td>CUST00002</td>\n",
       "      <td>Male</td>\n",
       "      <td>1.0</td>\n",
       "      <td>Yes</td>\n",
       "      <td>No</td>\n",
       "      <td>3.0428</td>\n",
       "      <td>Yes</td>\n",
       "      <td>Yes</td>\n",
       "      <td>DSL</td>\n",
       "      <td>No</td>\n",
       "      <td>...</td>\n",
       "      <td>No</td>\n",
       "      <td>Yes</td>\n",
       "      <td>Unknown</td>\n",
       "      <td>No</td>\n",
       "      <td>One year</td>\n",
       "      <td>Yes</td>\n",
       "      <td>Bank transfer (automatic)</td>\n",
       "      <td>21.351177</td>\n",
       "      <td>82.390090</td>\n",
       "      <td>No</td>\n",
       "    </tr>\n",
       "    <tr>\n",
       "      <th>2</th>\n",
       "      <td>CUST00003</td>\n",
       "      <td>Female</td>\n",
       "      <td>0.0</td>\n",
       "      <td>No</td>\n",
       "      <td>No</td>\n",
       "      <td>36.8700</td>\n",
       "      <td>Yes</td>\n",
       "      <td>Yes</td>\n",
       "      <td>DSL</td>\n",
       "      <td>No</td>\n",
       "      <td>...</td>\n",
       "      <td>No</td>\n",
       "      <td>Unknown</td>\n",
       "      <td>Yes</td>\n",
       "      <td>Yes</td>\n",
       "      <td>Month-to-month</td>\n",
       "      <td>No</td>\n",
       "      <td>Electronic check</td>\n",
       "      <td>41.157794</td>\n",
       "      <td>1622.398519</td>\n",
       "      <td>Yes</td>\n",
       "    </tr>\n",
       "    <tr>\n",
       "      <th>3</th>\n",
       "      <td>CUST00005</td>\n",
       "      <td>Male</td>\n",
       "      <td>1.0</td>\n",
       "      <td>Yes</td>\n",
       "      <td>Yes</td>\n",
       "      <td>14.1083</td>\n",
       "      <td>Yes</td>\n",
       "      <td>Unknown</td>\n",
       "      <td>Fiber optic</td>\n",
       "      <td>Yes</td>\n",
       "      <td>...</td>\n",
       "      <td>Yes</td>\n",
       "      <td>No</td>\n",
       "      <td>No</td>\n",
       "      <td>No</td>\n",
       "      <td>Two year</td>\n",
       "      <td>Yes</td>\n",
       "      <td>Electronic check</td>\n",
       "      <td>21.351177</td>\n",
       "      <td>313.009691</td>\n",
       "      <td>Yes</td>\n",
       "    </tr>\n",
       "    <tr>\n",
       "      <th>4</th>\n",
       "      <td>CUST00006</td>\n",
       "      <td>Male</td>\n",
       "      <td>0.0</td>\n",
       "      <td>Yes</td>\n",
       "      <td>No</td>\n",
       "      <td>20.0413</td>\n",
       "      <td>Yes</td>\n",
       "      <td>No</td>\n",
       "      <td>Fiber optic</td>\n",
       "      <td>No</td>\n",
       "      <td>...</td>\n",
       "      <td>Unknown</td>\n",
       "      <td>Yes</td>\n",
       "      <td>Unknown</td>\n",
       "      <td>No</td>\n",
       "      <td>One year</td>\n",
       "      <td>No</td>\n",
       "      <td>Electronic check</td>\n",
       "      <td>34.567089</td>\n",
       "      <td>624.834330</td>\n",
       "      <td>Yes</td>\n",
       "    </tr>\n",
       "  </tbody>\n",
       "</table>\n",
       "<p>5 rows × 21 columns</p>\n",
       "</div>"
      ],
      "text/plain": [
       "  customerID  gender  SeniorCitizen Partner Dependents   tenure PhoneService  \\\n",
       "0  CUST00001    Male            0.0      No        Yes   3.0428          Yes   \n",
       "1  CUST00002    Male            1.0     Yes         No   3.0428          Yes   \n",
       "2  CUST00003  Female            0.0      No         No  36.8700          Yes   \n",
       "3  CUST00005    Male            1.0     Yes        Yes  14.1083          Yes   \n",
       "4  CUST00006    Male            0.0     Yes         No  20.0413          Yes   \n",
       "\n",
       "  MultipleLines InternetService OnlineSecurity  ... DeviceProtection  \\\n",
       "0           Yes              No             No  ...               No   \n",
       "1           Yes             DSL             No  ...               No   \n",
       "2           Yes             DSL             No  ...               No   \n",
       "3       Unknown     Fiber optic            Yes  ...              Yes   \n",
       "4            No     Fiber optic             No  ...          Unknown   \n",
       "\n",
       "  TechSupport StreamingTV StreamingMovies        Contract PaperlessBilling  \\\n",
       "0          No          No              No  Month-to-month               No   \n",
       "1         Yes     Unknown              No        One year              Yes   \n",
       "2     Unknown         Yes             Yes  Month-to-month               No   \n",
       "3          No          No              No        Two year              Yes   \n",
       "4         Yes     Unknown              No        One year               No   \n",
       "\n",
       "               PaymentMethod MonthlyCharges  TotalCharges  Churn  \n",
       "0               Mailed check      71.907980    159.305090    Yes  \n",
       "1  Bank transfer (automatic)      21.351177     82.390090     No  \n",
       "2           Electronic check      41.157794   1622.398519    Yes  \n",
       "3           Electronic check      21.351177    313.009691    Yes  \n",
       "4           Electronic check      34.567089    624.834330    Yes  \n",
       "\n",
       "[5 rows x 21 columns]"
      ]
     },
     "metadata": {},
     "output_type": "display_data"
    }
   ],
   "source": [
    "print(\"Final dataframe shape:\", df.shape)\n",
    "display(df.head())"
   ]
  },
  {
   "cell_type": "code",
   "execution_count": 20,
   "id": "99e5e4ef",
   "metadata": {},
   "outputs": [
    {
     "name": "stdout",
     "output_type": "stream",
     "text": [
      "Integrated dataset saved as: 02.integrated_telco_data.csv\n"
     ]
    }
   ],
   "source": [
    "# Save integrated file with exact filename requested\n",
    "out_path = \"02.integrated_telco_data.csv\"\n",
    "df.to_csv(out_path, index=False)\n",
    "print(f\"Integrated dataset saved as: {out_path}\")\n"
   ]
  }
 ],
 "metadata": {
  "kernelspec": {
   "display_name": "venv_TensorFlow_cpu_1 (3.12.10)",
   "language": "python",
   "name": "python3"
  },
  "language_info": {
   "codemirror_mode": {
    "name": "ipython",
    "version": 3
   },
   "file_extension": ".py",
   "mimetype": "text/x-python",
   "name": "python",
   "nbconvert_exporter": "python",
   "pygments_lexer": "ipython3",
   "version": "3.12.10"
  }
 },
 "nbformat": 4,
 "nbformat_minor": 5
}
