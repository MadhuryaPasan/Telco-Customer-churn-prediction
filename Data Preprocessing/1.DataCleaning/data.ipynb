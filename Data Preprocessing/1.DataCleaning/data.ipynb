{
 "cells": [
  {
   "cell_type": "code",
   "execution_count": 181,
   "id": "2183bb13",
   "metadata": {},
   "outputs": [],
   "source": [
    "import pandas as pd \n",
    "import numpy as np\n",
    "import matplotlib.pyplot as plt"
   ]
  },
  {
   "cell_type": "code",
   "execution_count": 182,
   "id": "afdc7d6b",
   "metadata": {},
   "outputs": [
    {
     "data": {
      "application/vnd.microsoft.datawrangler.viewer.v0+json": {
       "columns": [
        {
         "name": "index",
         "rawType": "int64",
         "type": "integer"
        },
        {
         "name": "customerID",
         "rawType": "object",
         "type": "string"
        },
        {
         "name": "gender",
         "rawType": "object",
         "type": "unknown"
        },
        {
         "name": "SeniorCitizen",
         "rawType": "object",
         "type": "unknown"
        },
        {
         "name": "Partner",
         "rawType": "object",
         "type": "unknown"
        },
        {
         "name": "Dependents",
         "rawType": "object",
         "type": "unknown"
        },
        {
         "name": "tenure",
         "rawType": "float64",
         "type": "float"
        },
        {
         "name": "PhoneService",
         "rawType": "object",
         "type": "string"
        },
        {
         "name": "MultipleLines",
         "rawType": "object",
         "type": "unknown"
        },
        {
         "name": "InternetService",
         "rawType": "object",
         "type": "string"
        },
        {
         "name": "OnlineSecurity",
         "rawType": "object",
         "type": "unknown"
        },
        {
         "name": "OnlineBackup",
         "rawType": "object",
         "type": "unknown"
        },
        {
         "name": "DeviceProtection",
         "rawType": "object",
         "type": "unknown"
        },
        {
         "name": "TechSupport",
         "rawType": "object",
         "type": "unknown"
        },
        {
         "name": "StreamingTV",
         "rawType": "object",
         "type": "unknown"
        },
        {
         "name": "StreamingMovies",
         "rawType": "object",
         "type": "unknown"
        },
        {
         "name": "Contract",
         "rawType": "object",
         "type": "string"
        },
        {
         "name": "PaperlessBilling",
         "rawType": "object",
         "type": "string"
        },
        {
         "name": "PaymentMethod",
         "rawType": "object",
         "type": "unknown"
        },
        {
         "name": "MonthlyCharges",
         "rawType": "float64",
         "type": "float"
        },
        {
         "name": "TotalCharges",
         "rawType": "object",
         "type": "unknown"
        },
        {
         "name": "Churn",
         "rawType": "object",
         "type": "string"
        }
       ],
       "ref": "d8e0f037-949f-40ff-8f53-ead8191524e0",
       "rows": [
        [
         "0",
         "CUST00001",
         "Male",
         "0",
         "No",
         "Yes",
         "3.0",
         "Yes",
         "Yes",
         "No",
         "No internet service",
         "No internet service",
         "No internet service",
         "No internet service",
         "No internet service",
         "No internet service",
         "Month-to-month",
         "No",
         "Mailed check",
         "68.61",
         "205.83",
         "Yes"
        ],
        [
         "1",
         "CUST00002",
         "Male",
         "1",
         "Yes",
         "No",
         "2.0",
         "Yes",
         "Yes",
         "DSL",
         "No",
         "No",
         "No internet service",
         "Yes",
         null,
         "No",
         "One year",
         "Yes",
         "Bank transfer (automatic)",
         "23.15",
         "46.3",
         "No"
        ],
        [
         "2",
         "CUST00003",
         "Female",
         "No",
         "No",
         "No",
         "42.0",
         "Yes",
         "Yes",
         "DSL",
         "No",
         "Yes",
         "No",
         null,
         "Yes",
         "Yes",
         "Month-to-month",
         "No",
         "Electronic check",
         "42.63",
         "1790.46",
         "Yes"
        ],
        [
         "3",
         "CUST00004",
         "Female",
         "0",
         "No",
         "Yes",
         "40.0",
         "Yes",
         "Yes",
         "Fiber optic",
         "No",
         "No",
         "Yes",
         "No",
         "No",
         "No internet service",
         "Month-to-month",
         "No",
         "Electronic check",
         "75.04",
         "3001.6",
         "No"
        ],
        [
         "4",
         "CUST00005",
         "Male",
         "Yes",
         "Yes",
         "Yes",
         "17.0",
         "Yes",
         null,
         "Fiber optic",
         "Yes",
         "No",
         "Yes",
         "No",
         "No internet service",
         "No",
         "Two year",
         "Yes",
         "Electronic check",
         "22.38",
         "380.46",
         "Yes"
        ],
        [
         "5",
         "CUST00006",
         "Male",
         "0",
         "Yes",
         "No",
         "18.0",
         "Yes",
         "No",
         "Fiber optic",
         "No",
         "No",
         null,
         "Yes",
         null,
         "No",
         "One year",
         "No",
         "Electronic check",
         "37.23",
         "670.14",
         "Yes"
        ],
        [
         "6",
         "CUST00007",
         "Female",
         "0",
         "No",
         "No",
         "25.0",
         "Yes",
         "Yes",
         "No",
         "No internet service",
         "No internet service",
         "No internet service",
         "No internet service",
         "No internet service",
         "No internet service",
         "One year",
         "Yes",
         "Mailed check",
         "67.47",
         "1686.75",
         "No"
        ],
        [
         "7",
         "CUST00008",
         "Female",
         "0",
         "Yes",
         "No",
         "33.0",
         "Yes",
         "Yes",
         "Fiber optic",
         "No",
         null,
         "No",
         "No",
         "No",
         null,
         "Two year",
         "No",
         "Electronic check",
         "76.3",
         "2517.9",
         "No"
        ],
        [
         "8",
         "CUST00009",
         "Female",
         "0",
         "Yes",
         "No",
         "6.0",
         "Yes",
         "Yes",
         "DSL",
         "Yes",
         "No",
         "No",
         "No internet service",
         "No",
         "No internet service",
         "Month-to-month",
         "No",
         "Electronic check",
         "64.86",
         "389.16",
         "No"
        ],
        [
         "9",
         "CUST00010",
         "f",
         "0",
         "Yes",
         "No",
         "-5.0",
         "Yes",
         "No",
         "No",
         "No internet service",
         "No internet service",
         "No internet service",
         "No internet service",
         "No internet service",
         "No internet service",
         "Month-to-month",
         "No",
         "Electronic check",
         "18.6",
         "0",
         "Yes"
        ],
        [
         "10",
         "CUST00011",
         "Female",
         "0",
         "No",
         "No",
         "18.0",
         "Yes",
         "No",
         "No",
         "No internet service",
         "No internet service",
         "No internet service",
         "No internet service",
         "No internet service",
         "No internet service",
         "One year",
         "No",
         "Electronic check",
         "49.17",
         "885.06",
         "No"
        ],
        [
         "11",
         "CUST00012",
         "Male",
         "0",
         "Yes",
         "No",
         "22.0",
         "Yes",
         "No",
         "No",
         "No internet service",
         "No internet service",
         "No internet service",
         "No internet service",
         "No internet service",
         "No internet service",
         "Month-to-month",
         "Yes",
         "Mailed check",
         "23.2",
         "510.4",
         "Yes"
        ],
        [
         "12",
         "CUST00013",
         "Female",
         "1",
         "Yes",
         "No",
         "10.0",
         "Yes",
         "Yes",
         "DSL",
         "No",
         "No",
         "No",
         "Yes",
         "No",
         "No",
         "Month-to-month",
         "Yes",
         "Electronic check",
         "34.57",
         "345.7",
         "No"
        ],
        [
         "13",
         "CUST00014",
         "Male",
         "0",
         "Yes",
         "No",
         "2.0",
         "Yes",
         null,
         "Fiber optic",
         "No internet service",
         "No",
         "No",
         null,
         "No",
         "No",
         "Month-to-month",
         "Yes",
         "Electronic check",
         "48.36",
         "96.72",
         "Yes"
        ],
        [
         "14",
         "CUST00015",
         "Male",
         "0",
         "Yes",
         "No",
         "8.0",
         "Yes",
         "Yes",
         "Fiber optic",
         "Yes",
         "No",
         "Yes",
         "No",
         "No",
         "No",
         "Two year",
         "No",
         "Credit card (automatic)",
         "53.36",
         "426.88",
         "No"
        ],
        [
         "15",
         "CUST00016",
         "Female",
         "0",
         "No",
         "No",
         "5.0",
         "No",
         "No phone service",
         "Fiber optic",
         "Yes",
         "No",
         "Yes",
         "Yes",
         "No",
         "No",
         "One year",
         "No",
         "Credit card (automatic)",
         "39.14",
         "195.7",
         "No"
        ],
        [
         "16",
         "CUST00017",
         "Female",
         "0",
         "Yes",
         "No",
         "47.0",
         "Yes",
         "Yes",
         "No",
         "No internet service",
         "No internet service",
         "No internet service",
         "No internet service",
         "No internet service",
         "No internet service",
         "One year",
         "Yes",
         "Bank transfer (automatic)",
         "38.42",
         "1805.74",
         "No"
        ],
        [
         "17",
         "CUST00018",
         "Female",
         "0",
         "Yes",
         "No",
         "28.0",
         "Yes",
         "Yes",
         "No",
         "No internet service",
         "No internet service",
         "No internet service",
         "No internet service",
         "No internet service",
         "No internet service",
         "Two year",
         "No",
         "Electronic check",
         "99.53",
         "2786.84",
         "No"
        ],
        [
         "18",
         "CUST00019",
         "Female",
         "0",
         "Yes",
         "No",
         "44.0",
         "Yes",
         "No",
         "DSL",
         "No",
         "No",
         "No",
         "No",
         "Yes",
         "No",
         "One year",
         "No",
         "Electronic check",
         "22.64",
         "996.16",
         "No"
        ],
        [
         "19",
         "CUST00020",
         "Male",
         "0",
         "Yes",
         "Yes",
         "12.0",
         "Yes",
         "No",
         "No",
         "No internet service",
         "No internet service",
         "No internet service",
         "No internet service",
         "No internet service",
         "No internet service",
         "One year",
         "No",
         "Bank transfer (automatic)",
         "117.22",
         "1406.64",
         "No"
        ],
        [
         "20",
         "CUST00021",
         "Male",
         "0",
         "No",
         "Yes",
         "-10.0",
         "Yes",
         "No",
         "Fiber optic",
         "No",
         "No",
         "Yes",
         "Yes",
         "No internet service",
         "Yes",
         "Month-to-month",
         "Yes",
         "Electronic check",
         "102.35",
         "0",
         "Yes"
        ],
        [
         "21",
         "CUST00022",
         "Female",
         "0",
         "No",
         "No",
         "38.0",
         "Yes",
         "Yes",
         "No",
         "No internet service",
         "No internet service",
         "No internet service",
         "No internet service",
         "No internet service",
         "No internet service",
         "Month-to-month",
         "No",
         "Mailed check",
         "61.27",
         "2328.26",
         "Yes"
        ],
        [
         "22",
         "CUST00023",
         "Male",
         "0",
         "Yes",
         "No",
         "21.0",
         "Yes",
         "Yes",
         "Fiber optic",
         "Yes",
         "No internet service",
         "No",
         "Yes",
         "No",
         "No",
         "Two year",
         "Yes",
         "Bank transfer (automatic)",
         "36.96",
         "776.16",
         "Yes"
        ],
        [
         "23",
         "CUST00024",
         "Male",
         "0",
         "No",
         "No",
         "4.0",
         "Yes",
         null,
         "DSL",
         "Yes",
         "No",
         "No",
         "Yes",
         "Yes",
         "No",
         "Month-to-month",
         "No",
         "Bank transfer (automatic)",
         "42.01",
         "168.04",
         "No"
        ],
        [
         "24",
         "CUST00025",
         "Male",
         "0",
         "Yes",
         "No",
         "16.0",
         "Yes",
         "No",
         "Fiber optic",
         "No",
         "No",
         "No",
         "No",
         "No",
         "Yes",
         "Month-to-month",
         "No",
         "Electronic check",
         "1212.43",
         "19398.88",
         "Yes"
        ],
        [
         "25",
         "CUST00026",
         "Male",
         "1",
         "No",
         "No",
         "29.0",
         "Yes",
         "Yes",
         "DSL",
         "Yes",
         "No",
         "No",
         null,
         null,
         "Yes",
         "One year",
         "Yes",
         "Electronic check",
         "111.0",
         "3219.0",
         "No"
        ],
        [
         "26",
         "CUST00027",
         "Male",
         "0",
         "No",
         "No",
         "5.0",
         "Yes",
         "Yes",
         "No",
         "No internet service",
         "No internet service",
         "No internet service",
         "No internet service",
         "No internet service",
         "No internet service",
         "Two year",
         "Yes",
         "Mailed check",
         "43.36",
         "216.8",
         "No"
        ],
        [
         "27",
         "CUST00028",
         "Female",
         "0",
         "No",
         "No",
         "51.0",
         "Yes",
         "No",
         "Fiber optic",
         "No",
         "No",
         "No",
         "No",
         "Yes",
         "No",
         "Month-to-month",
         "No",
         "Mailed check",
         "100.42",
         "5121.42",
         "Yes"
        ],
        [
         "28",
         "CUST00029",
         "Female",
         "0",
         "No",
         "No",
         "15.0",
         "Yes",
         "Yes",
         "Fiber optic",
         "No",
         "No",
         "No",
         "No",
         "No",
         "No",
         "Month-to-month",
         "Yes",
         "Mailed check",
         "68.06",
         "1020.9",
         "Yes"
        ],
        [
         "29",
         "CUST00030",
         "Male",
         "0",
         "Yes",
         "No",
         "10.0",
         "Yes",
         "No",
         "Fiber optic",
         "Yes",
         "No",
         "Yes",
         "No",
         "No",
         "No",
         "Two year",
         "No",
         "Mailed check",
         "115.47",
         "1154.7",
         "No"
        ],
        [
         "30",
         "CUST00031",
         "Female",
         "1",
         "No",
         "No",
         "9.0",
         "Yes",
         "No",
         "DSL",
         "No",
         "No",
         null,
         "No",
         null,
         "No",
         "One year",
         "No",
         "Mailed check",
         "24.62",
         "221.58",
         "No"
        ],
        [
         "31",
         "CUST00032",
         "Man",
         "0",
         "No",
         "No",
         "23.0",
         "Yes",
         "No phone service",
         "Fiber optic",
         "No",
         "No",
         "No",
         "No",
         "No",
         "Yes",
         "Month-to-month",
         "Yes",
         "Credit card (automatic)",
         "49.92",
         "1148.16",
         "Yes"
        ],
        [
         "32",
         "CUST00033",
         "Female",
         "0",
         "No",
         "Yes",
         "43.0",
         "Yes",
         "Yes",
         "Fiber optic",
         "No",
         "No",
         "No",
         "No",
         "No",
         "Yes",
         "Month-to-month",
         "No",
         "Mailed check",
         "77.96",
         "3352.28",
         "Yes"
        ],
        [
         "33",
         "CUST00034",
         "Male",
         "1",
         "Yes",
         "No",
         "34.0",
         "Yes",
         "Yes",
         "No",
         "No internet service",
         "No internet service",
         "No internet service",
         "No internet service",
         "No internet service",
         "No internet service",
         "Month-to-month",
         "Yes",
         "Electronic check",
         "21.07",
         "716.38,USD",
         "Yes"
        ],
        [
         "34",
         "CUST00035",
         "Female",
         "0",
         "No",
         "Yes",
         "6.0",
         "Yes",
         "No",
         "DSL",
         "No",
         "No",
         "Yes",
         "No",
         "No",
         "Yes",
         "Month-to-month",
         "No",
         "Electronic check",
         "99.14",
         "594.84",
         "Yes"
        ],
        [
         "35",
         "CUST00036",
         "Female",
         "0",
         "No",
         "Yes",
         "31.0",
         "Yes",
         "Yes",
         "No",
         "No internet service",
         "No internet service",
         "No internet service",
         "No internet service",
         "No internet service",
         "No internet service",
         "Month-to-month",
         "No",
         "Electronic check",
         "85.96",
         "2664.76",
         "Yes"
        ],
        [
         "36",
         "CUST00037",
         "Male",
         "0",
         "Yes",
         "Yes",
         "31.0",
         "Yes",
         "Yes",
         "Fiber optic",
         "No",
         null,
         "No",
         "Yes",
         "Yes",
         "No internet service",
         "Two year",
         "No",
         "Electronic check",
         "45.99",
         "1425.69",
         "No"
        ],
        [
         "37",
         "CUST00038",
         "Female",
         "0",
         "Yes",
         "Yes",
         "19.0",
         "Yes",
         "No",
         "DSL",
         "No",
         "No",
         "No",
         "No",
         "No internet service",
         "No",
         "Two year",
         "Yes",
         "Electronic check",
         "23.12",
         "439.28",
         "No"
        ],
        [
         "38",
         "CUST00039",
         "Male",
         "0",
         "No",
         "No",
         "45.0",
         "Yes",
         "Yes",
         "No",
         "No internet service",
         "No internet service",
         "No internet service",
         "No internet service",
         "No internet service",
         "No internet service",
         "Month-to-month",
         "No",
         "Bank transfer (automatic)",
         "37.07",
         "1668.15",
         "Yes"
        ],
        [
         "39",
         "CUST00040",
         "Male",
         "0",
         "No",
         "Yes",
         "29.0",
         "Yes",
         "No",
         "DSL",
         "No internet service",
         "No",
         "No",
         "Yes",
         "No",
         "No",
         "Two year",
         "No",
         "Mailed check",
         "35.99",
         "1043.71",
         "No"
        ],
        [
         "40",
         "CUST00041",
         "Female",
         "0",
         "Yes",
         "Yes",
         "17.0",
         "Yes",
         "No",
         "Fiber optic",
         "No internet service",
         "Yes",
         "No",
         "No",
         "No",
         "No",
         "Month-to-month",
         "No",
         "Electronic check",
         "117.44",
         "1996.48",
         "Yes"
        ],
        [
         "41",
         "CUST00042",
         "Male",
         "0",
         "Yes",
         "Yes",
         "999.0",
         "Yes",
         "Yes",
         "Fiber optic",
         "No internet service",
         "No",
         "Yes",
         "No",
         "No",
         "No",
         "Month-to-month",
         "Yes",
         "Electronic check",
         "31.6",
         "31568.4",
         "No"
        ],
        [
         "42",
         "CUST00043",
         "Female",
         "0",
         "Yes",
         "Yes",
         "2.0",
         "Yes",
         null,
         "Fiber optic",
         "No",
         null,
         "No",
         "No",
         "Yes",
         "Yes",
         "One year",
         "Yes",
         "Mailed check",
         "44.4",
         "88.8",
         "No"
        ],
        [
         "43",
         "CUST00044",
         "Female",
         "No",
         "No",
         "No",
         "42.0",
         "Yes",
         "Yes",
         "No",
         "No internet service",
         "No internet service",
         "No internet service",
         "No internet service",
         "No internet service",
         "No internet service",
         "Month-to-month",
         "Yes",
         "Bank transfer (automatic)",
         "18.33",
         "769.86",
         "Yes"
        ],
        [
         "44",
         "CUST00045",
         "Female",
         "0",
         null,
         "No",
         "29.0",
         "Yes",
         "No",
         "Fiber optic",
         "Yes",
         "Yes",
         "No internet service",
         "No",
         "No",
         "No",
         "Two year",
         "No",
         "Mailed check",
         "50.0",
         "1450.0$",
         "No"
        ],
        [
         "45",
         "CUST00046",
         null,
         "0",
         "No",
         "No",
         "8.0",
         "Yes",
         "Yes",
         "DSL",
         "No",
         "Yes",
         "Yes",
         "No",
         "Yes",
         "No",
         "Month-to-month",
         "Yes",
         "Mailed check",
         "48.06",
         "384.48",
         "Yes"
        ],
        [
         "46",
         "CUST00047",
         "FEMALE",
         "0",
         "No",
         "Yes",
         "7.0",
         "Yes",
         "Yes",
         "No",
         "No internet service",
         "No internet service",
         "No internet service",
         "No internet service",
         "No internet service",
         "No internet service",
         "Month-to-month",
         "Yes",
         "Bank transfer (automatic)",
         "102.27",
         "715.89",
         "Yes"
        ],
        [
         "47",
         "CUST00048",
         "Female",
         "0",
         "No",
         "Yes",
         "17.0",
         "Yes",
         "No",
         "Fiber optic",
         "No",
         "Yes",
         "No",
         "No",
         "Yes",
         "No",
         "Month-to-month",
         "No",
         "Mailed check",
         "96.78",
         "1645.26",
         "No"
        ],
        [
         "48",
         "CUST00049",
         "Male",
         "No",
         "Yes",
         "Yes",
         "25.0",
         "Yes",
         "Yes",
         "No",
         "No internet service",
         "No internet service",
         "No internet service",
         "No internet service",
         "No internet service",
         "No internet service",
         "One year",
         "Yes",
         "Electronic check",
         "20.99",
         "524.75",
         "No"
        ],
        [
         "49",
         "CUST00050",
         "Male",
         "0",
         "No",
         "Yes",
         "16.0",
         "Yes",
         "No",
         "Fiber optic",
         "No",
         null,
         "Yes",
         "No internet service",
         "Yes",
         null,
         "One year",
         "No",
         "Mailed check",
         "79.64",
         "1274.24",
         "No"
        ]
       ],
       "shape": {
        "columns": 21,
        "rows": 70000
       }
      },
      "text/html": [
       "<div>\n",
       "<style scoped>\n",
       "    .dataframe tbody tr th:only-of-type {\n",
       "        vertical-align: middle;\n",
       "    }\n",
       "\n",
       "    .dataframe tbody tr th {\n",
       "        vertical-align: top;\n",
       "    }\n",
       "\n",
       "    .dataframe thead th {\n",
       "        text-align: right;\n",
       "    }\n",
       "</style>\n",
       "<table border=\"1\" class=\"dataframe\">\n",
       "  <thead>\n",
       "    <tr style=\"text-align: right;\">\n",
       "      <th></th>\n",
       "      <th>customerID</th>\n",
       "      <th>gender</th>\n",
       "      <th>SeniorCitizen</th>\n",
       "      <th>Partner</th>\n",
       "      <th>Dependents</th>\n",
       "      <th>tenure</th>\n",
       "      <th>PhoneService</th>\n",
       "      <th>MultipleLines</th>\n",
       "      <th>InternetService</th>\n",
       "      <th>OnlineSecurity</th>\n",
       "      <th>...</th>\n",
       "      <th>DeviceProtection</th>\n",
       "      <th>TechSupport</th>\n",
       "      <th>StreamingTV</th>\n",
       "      <th>StreamingMovies</th>\n",
       "      <th>Contract</th>\n",
       "      <th>PaperlessBilling</th>\n",
       "      <th>PaymentMethod</th>\n",
       "      <th>MonthlyCharges</th>\n",
       "      <th>TotalCharges</th>\n",
       "      <th>Churn</th>\n",
       "    </tr>\n",
       "  </thead>\n",
       "  <tbody>\n",
       "    <tr>\n",
       "      <th>0</th>\n",
       "      <td>CUST00001</td>\n",
       "      <td>Male</td>\n",
       "      <td>0</td>\n",
       "      <td>No</td>\n",
       "      <td>Yes</td>\n",
       "      <td>3.0</td>\n",
       "      <td>Yes</td>\n",
       "      <td>Yes</td>\n",
       "      <td>No</td>\n",
       "      <td>No internet service</td>\n",
       "      <td>...</td>\n",
       "      <td>No internet service</td>\n",
       "      <td>No internet service</td>\n",
       "      <td>No internet service</td>\n",
       "      <td>No internet service</td>\n",
       "      <td>Month-to-month</td>\n",
       "      <td>No</td>\n",
       "      <td>Mailed check</td>\n",
       "      <td>68.61</td>\n",
       "      <td>205.83</td>\n",
       "      <td>Yes</td>\n",
       "    </tr>\n",
       "    <tr>\n",
       "      <th>1</th>\n",
       "      <td>CUST00002</td>\n",
       "      <td>Male</td>\n",
       "      <td>1</td>\n",
       "      <td>Yes</td>\n",
       "      <td>No</td>\n",
       "      <td>2.0</td>\n",
       "      <td>Yes</td>\n",
       "      <td>Yes</td>\n",
       "      <td>DSL</td>\n",
       "      <td>No</td>\n",
       "      <td>...</td>\n",
       "      <td>No internet service</td>\n",
       "      <td>Yes</td>\n",
       "      <td>NaN</td>\n",
       "      <td>No</td>\n",
       "      <td>One year</td>\n",
       "      <td>Yes</td>\n",
       "      <td>Bank transfer (automatic)</td>\n",
       "      <td>23.15</td>\n",
       "      <td>46.3</td>\n",
       "      <td>No</td>\n",
       "    </tr>\n",
       "    <tr>\n",
       "      <th>2</th>\n",
       "      <td>CUST00003</td>\n",
       "      <td>Female</td>\n",
       "      <td>No</td>\n",
       "      <td>No</td>\n",
       "      <td>No</td>\n",
       "      <td>42.0</td>\n",
       "      <td>Yes</td>\n",
       "      <td>Yes</td>\n",
       "      <td>DSL</td>\n",
       "      <td>No</td>\n",
       "      <td>...</td>\n",
       "      <td>No</td>\n",
       "      <td>NaN</td>\n",
       "      <td>Yes</td>\n",
       "      <td>Yes</td>\n",
       "      <td>Month-to-month</td>\n",
       "      <td>No</td>\n",
       "      <td>Electronic check</td>\n",
       "      <td>42.63</td>\n",
       "      <td>1790.46</td>\n",
       "      <td>Yes</td>\n",
       "    </tr>\n",
       "    <tr>\n",
       "      <th>3</th>\n",
       "      <td>CUST00004</td>\n",
       "      <td>Female</td>\n",
       "      <td>0</td>\n",
       "      <td>No</td>\n",
       "      <td>Yes</td>\n",
       "      <td>40.0</td>\n",
       "      <td>Yes</td>\n",
       "      <td>Yes</td>\n",
       "      <td>Fiber optic</td>\n",
       "      <td>No</td>\n",
       "      <td>...</td>\n",
       "      <td>Yes</td>\n",
       "      <td>No</td>\n",
       "      <td>No</td>\n",
       "      <td>No internet service</td>\n",
       "      <td>Month-to-month</td>\n",
       "      <td>No</td>\n",
       "      <td>Electronic check</td>\n",
       "      <td>75.04</td>\n",
       "      <td>3001.6</td>\n",
       "      <td>No</td>\n",
       "    </tr>\n",
       "    <tr>\n",
       "      <th>4</th>\n",
       "      <td>CUST00005</td>\n",
       "      <td>Male</td>\n",
       "      <td>Yes</td>\n",
       "      <td>Yes</td>\n",
       "      <td>Yes</td>\n",
       "      <td>17.0</td>\n",
       "      <td>Yes</td>\n",
       "      <td>NaN</td>\n",
       "      <td>Fiber optic</td>\n",
       "      <td>Yes</td>\n",
       "      <td>...</td>\n",
       "      <td>Yes</td>\n",
       "      <td>No</td>\n",
       "      <td>No internet service</td>\n",
       "      <td>No</td>\n",
       "      <td>Two year</td>\n",
       "      <td>Yes</td>\n",
       "      <td>Electronic check</td>\n",
       "      <td>22.38</td>\n",
       "      <td>380.46</td>\n",
       "      <td>Yes</td>\n",
       "    </tr>\n",
       "    <tr>\n",
       "      <th>...</th>\n",
       "      <td>...</td>\n",
       "      <td>...</td>\n",
       "      <td>...</td>\n",
       "      <td>...</td>\n",
       "      <td>...</td>\n",
       "      <td>...</td>\n",
       "      <td>...</td>\n",
       "      <td>...</td>\n",
       "      <td>...</td>\n",
       "      <td>...</td>\n",
       "      <td>...</td>\n",
       "      <td>...</td>\n",
       "      <td>...</td>\n",
       "      <td>...</td>\n",
       "      <td>...</td>\n",
       "      <td>...</td>\n",
       "      <td>...</td>\n",
       "      <td>...</td>\n",
       "      <td>...</td>\n",
       "      <td>...</td>\n",
       "      <td>...</td>\n",
       "    </tr>\n",
       "    <tr>\n",
       "      <th>69995</th>\n",
       "      <td>CUST69996</td>\n",
       "      <td>Male</td>\n",
       "      <td>1</td>\n",
       "      <td>Yes</td>\n",
       "      <td>Yes</td>\n",
       "      <td>30.0</td>\n",
       "      <td>Yes</td>\n",
       "      <td>Yes</td>\n",
       "      <td>Fiber optic</td>\n",
       "      <td>Yes</td>\n",
       "      <td>...</td>\n",
       "      <td>No</td>\n",
       "      <td>Yes</td>\n",
       "      <td>No</td>\n",
       "      <td>No</td>\n",
       "      <td>Two year</td>\n",
       "      <td>No</td>\n",
       "      <td>Electronic check</td>\n",
       "      <td>74.85</td>\n",
       "      <td>2245.5</td>\n",
       "      <td>No</td>\n",
       "    </tr>\n",
       "    <tr>\n",
       "      <th>69996</th>\n",
       "      <td>CUST69997</td>\n",
       "      <td>Male</td>\n",
       "      <td>0</td>\n",
       "      <td>Yes</td>\n",
       "      <td>NaN</td>\n",
       "      <td>15.0</td>\n",
       "      <td>Yes</td>\n",
       "      <td>Yes</td>\n",
       "      <td>Fiber optic</td>\n",
       "      <td>No</td>\n",
       "      <td>...</td>\n",
       "      <td>No</td>\n",
       "      <td>No</td>\n",
       "      <td>No</td>\n",
       "      <td>No</td>\n",
       "      <td>Month-to-month</td>\n",
       "      <td>Yes</td>\n",
       "      <td>Bank transfer (automatic)</td>\n",
       "      <td>40.67</td>\n",
       "      <td>610.05</td>\n",
       "      <td>Yes</td>\n",
       "    </tr>\n",
       "    <tr>\n",
       "      <th>69997</th>\n",
       "      <td>CUST69998</td>\n",
       "      <td>Male</td>\n",
       "      <td>0</td>\n",
       "      <td>NaN</td>\n",
       "      <td>No</td>\n",
       "      <td>20.0</td>\n",
       "      <td>Yes</td>\n",
       "      <td>No</td>\n",
       "      <td>DSL</td>\n",
       "      <td>Yes</td>\n",
       "      <td>...</td>\n",
       "      <td>No</td>\n",
       "      <td>No</td>\n",
       "      <td>NaN</td>\n",
       "      <td>No</td>\n",
       "      <td>Month-to-month</td>\n",
       "      <td>Yes</td>\n",
       "      <td>Mailed check</td>\n",
       "      <td>29.44</td>\n",
       "      <td>588.8</td>\n",
       "      <td>No</td>\n",
       "    </tr>\n",
       "    <tr>\n",
       "      <th>69998</th>\n",
       "      <td>CUST69999</td>\n",
       "      <td>Male</td>\n",
       "      <td>0</td>\n",
       "      <td>No</td>\n",
       "      <td>No</td>\n",
       "      <td>21.0</td>\n",
       "      <td>Yes</td>\n",
       "      <td>No</td>\n",
       "      <td>Fiber optic</td>\n",
       "      <td>No</td>\n",
       "      <td>...</td>\n",
       "      <td>No</td>\n",
       "      <td>No</td>\n",
       "      <td>Yes</td>\n",
       "      <td>No internet service</td>\n",
       "      <td>Month-to-month</td>\n",
       "      <td>Yes</td>\n",
       "      <td>Electronic check</td>\n",
       "      <td>46.77</td>\n",
       "      <td>982.17</td>\n",
       "      <td>No</td>\n",
       "    </tr>\n",
       "    <tr>\n",
       "      <th>69999</th>\n",
       "      <td>CUST70000</td>\n",
       "      <td>Female</td>\n",
       "      <td>0</td>\n",
       "      <td>No</td>\n",
       "      <td>No</td>\n",
       "      <td>3.0</td>\n",
       "      <td>Yes</td>\n",
       "      <td>Yes</td>\n",
       "      <td>No</td>\n",
       "      <td>No internet service</td>\n",
       "      <td>...</td>\n",
       "      <td>No internet service</td>\n",
       "      <td>No internet service</td>\n",
       "      <td>No internet service</td>\n",
       "      <td>No internet service</td>\n",
       "      <td>Month-to-month</td>\n",
       "      <td>No</td>\n",
       "      <td>Electronic check</td>\n",
       "      <td>72.41</td>\n",
       "      <td>217.23</td>\n",
       "      <td>Yes</td>\n",
       "    </tr>\n",
       "  </tbody>\n",
       "</table>\n",
       "<p>70000 rows × 21 columns</p>\n",
       "</div>"
      ],
      "text/plain": [
       "      customerID  gender SeniorCitizen Partner Dependents  tenure  \\\n",
       "0      CUST00001    Male             0      No        Yes     3.0   \n",
       "1      CUST00002    Male             1     Yes         No     2.0   \n",
       "2      CUST00003  Female            No      No         No    42.0   \n",
       "3      CUST00004  Female             0      No        Yes    40.0   \n",
       "4      CUST00005    Male           Yes     Yes        Yes    17.0   \n",
       "...          ...     ...           ...     ...        ...     ...   \n",
       "69995  CUST69996    Male             1     Yes        Yes    30.0   \n",
       "69996  CUST69997    Male             0     Yes        NaN    15.0   \n",
       "69997  CUST69998    Male             0     NaN         No    20.0   \n",
       "69998  CUST69999    Male             0      No         No    21.0   \n",
       "69999  CUST70000  Female             0      No         No     3.0   \n",
       "\n",
       "      PhoneService MultipleLines InternetService       OnlineSecurity  ...  \\\n",
       "0              Yes           Yes              No  No internet service  ...   \n",
       "1              Yes           Yes             DSL                   No  ...   \n",
       "2              Yes           Yes             DSL                   No  ...   \n",
       "3              Yes           Yes     Fiber optic                   No  ...   \n",
       "4              Yes           NaN     Fiber optic                  Yes  ...   \n",
       "...            ...           ...             ...                  ...  ...   \n",
       "69995          Yes           Yes     Fiber optic                  Yes  ...   \n",
       "69996          Yes           Yes     Fiber optic                   No  ...   \n",
       "69997          Yes            No             DSL                  Yes  ...   \n",
       "69998          Yes            No     Fiber optic                   No  ...   \n",
       "69999          Yes           Yes              No  No internet service  ...   \n",
       "\n",
       "          DeviceProtection          TechSupport          StreamingTV  \\\n",
       "0      No internet service  No internet service  No internet service   \n",
       "1      No internet service                  Yes                  NaN   \n",
       "2                       No                  NaN                  Yes   \n",
       "3                      Yes                   No                   No   \n",
       "4                      Yes                   No  No internet service   \n",
       "...                    ...                  ...                  ...   \n",
       "69995                   No                  Yes                   No   \n",
       "69996                   No                   No                   No   \n",
       "69997                   No                   No                  NaN   \n",
       "69998                   No                   No                  Yes   \n",
       "69999  No internet service  No internet service  No internet service   \n",
       "\n",
       "           StreamingMovies        Contract PaperlessBilling  \\\n",
       "0      No internet service  Month-to-month               No   \n",
       "1                       No        One year              Yes   \n",
       "2                      Yes  Month-to-month               No   \n",
       "3      No internet service  Month-to-month               No   \n",
       "4                       No        Two year              Yes   \n",
       "...                    ...             ...              ...   \n",
       "69995                   No        Two year               No   \n",
       "69996                   No  Month-to-month              Yes   \n",
       "69997                   No  Month-to-month              Yes   \n",
       "69998  No internet service  Month-to-month              Yes   \n",
       "69999  No internet service  Month-to-month               No   \n",
       "\n",
       "                   PaymentMethod MonthlyCharges  TotalCharges Churn  \n",
       "0                   Mailed check          68.61        205.83   Yes  \n",
       "1      Bank transfer (automatic)          23.15          46.3    No  \n",
       "2               Electronic check          42.63       1790.46   Yes  \n",
       "3               Electronic check          75.04        3001.6    No  \n",
       "4               Electronic check          22.38        380.46   Yes  \n",
       "...                          ...            ...           ...   ...  \n",
       "69995           Electronic check          74.85        2245.5    No  \n",
       "69996  Bank transfer (automatic)          40.67        610.05   Yes  \n",
       "69997               Mailed check          29.44         588.8    No  \n",
       "69998           Electronic check          46.77        982.17    No  \n",
       "69999           Electronic check          72.41        217.23   Yes  \n",
       "\n",
       "[70000 rows x 21 columns]"
      ]
     },
     "execution_count": 182,
     "metadata": {},
     "output_type": "execute_result"
    }
   ],
   "source": [
    "data = pd.read_csv('telco_customer_data_v2.csv')\n",
    "data"
   ]
  },
  {
   "cell_type": "code",
   "execution_count": 183,
   "id": "8c2503dc",
   "metadata": {},
   "outputs": [
    {
     "name": "stdout",
     "output_type": "stream",
     "text": [
      "<class 'pandas.core.frame.DataFrame'>\n",
      "RangeIndex: 70000 entries, 0 to 69999\n",
      "Data columns (total 21 columns):\n",
      " #   Column            Non-Null Count  Dtype  \n",
      "---  ------            --------------  -----  \n",
      " 0   customerID        70000 non-null  object \n",
      " 1   gender            69252 non-null  object \n",
      " 2   SeniorCitizen     69341 non-null  object \n",
      " 3   Partner           66470 non-null  object \n",
      " 4   Dependents        66435 non-null  object \n",
      " 5   tenure            69433 non-null  float64\n",
      " 6   PhoneService      70000 non-null  object \n",
      " 7   MultipleLines     68132 non-null  object \n",
      " 8   InternetService   70000 non-null  object \n",
      " 9   OnlineSecurity    67078 non-null  object \n",
      " 10  OnlineBackup      67253 non-null  object \n",
      " 11  DeviceProtection  67106 non-null  object \n",
      " 12  TechSupport       67267 non-null  object \n",
      " 13  StreamingTV       67173 non-null  object \n",
      " 14  StreamingMovies   67215 non-null  object \n",
      " 15  Contract          70000 non-null  object \n",
      " 16  PaperlessBilling  70000 non-null  object \n",
      " 17  PaymentMethod     66431 non-null  object \n",
      " 18  MonthlyCharges    69612 non-null  float64\n",
      " 19  TotalCharges      68938 non-null  object \n",
      " 20  Churn             70000 non-null  object \n",
      "dtypes: float64(2), object(19)\n",
      "memory usage: 11.2+ MB\n"
     ]
    }
   ],
   "source": [
    "data.info()"
   ]
  },
  {
   "cell_type": "code",
   "execution_count": 184,
   "id": "d2bcb73a",
   "metadata": {},
   "outputs": [
    {
     "data": {
      "application/vnd.microsoft.datawrangler.viewer.v0+json": {
       "columns": [
        {
         "name": "index",
         "rawType": "object",
         "type": "string"
        },
        {
         "name": "tenure",
         "rawType": "float64",
         "type": "float"
        },
        {
         "name": "MonthlyCharges",
         "rawType": "float64",
         "type": "float"
        }
       ],
       "ref": "b6726e8a-dda6-42e3-9bc6-4dd16d371d78",
       "rows": [
        [
         "count",
         "69433.0",
         "69612.0"
        ],
        [
         "mean",
         "30.516857978194807",
         "60.588548238809395"
        ],
        [
         "std",
         "89.87376650905121",
         "111.50958827136306"
        ],
        [
         "min",
         "-10.0",
         "18.0"
        ],
        [
         "25%",
         "10.0",
         "29.67"
        ],
        [
         "50%",
         "20.0",
         "41.19"
        ],
        [
         "75%",
         "35.0",
         "63.8825"
        ],
        [
         "max",
         "999.0",
         "1499.77"
        ]
       ],
       "shape": {
        "columns": 2,
        "rows": 8
       }
      },
      "text/html": [
       "<div>\n",
       "<style scoped>\n",
       "    .dataframe tbody tr th:only-of-type {\n",
       "        vertical-align: middle;\n",
       "    }\n",
       "\n",
       "    .dataframe tbody tr th {\n",
       "        vertical-align: top;\n",
       "    }\n",
       "\n",
       "    .dataframe thead th {\n",
       "        text-align: right;\n",
       "    }\n",
       "</style>\n",
       "<table border=\"1\" class=\"dataframe\">\n",
       "  <thead>\n",
       "    <tr style=\"text-align: right;\">\n",
       "      <th></th>\n",
       "      <th>tenure</th>\n",
       "      <th>MonthlyCharges</th>\n",
       "    </tr>\n",
       "  </thead>\n",
       "  <tbody>\n",
       "    <tr>\n",
       "      <th>count</th>\n",
       "      <td>69433.000000</td>\n",
       "      <td>69612.000000</td>\n",
       "    </tr>\n",
       "    <tr>\n",
       "      <th>mean</th>\n",
       "      <td>30.516858</td>\n",
       "      <td>60.588548</td>\n",
       "    </tr>\n",
       "    <tr>\n",
       "      <th>std</th>\n",
       "      <td>89.873767</td>\n",
       "      <td>111.509588</td>\n",
       "    </tr>\n",
       "    <tr>\n",
       "      <th>min</th>\n",
       "      <td>-10.000000</td>\n",
       "      <td>18.000000</td>\n",
       "    </tr>\n",
       "    <tr>\n",
       "      <th>25%</th>\n",
       "      <td>10.000000</td>\n",
       "      <td>29.670000</td>\n",
       "    </tr>\n",
       "    <tr>\n",
       "      <th>50%</th>\n",
       "      <td>20.000000</td>\n",
       "      <td>41.190000</td>\n",
       "    </tr>\n",
       "    <tr>\n",
       "      <th>75%</th>\n",
       "      <td>35.000000</td>\n",
       "      <td>63.882500</td>\n",
       "    </tr>\n",
       "    <tr>\n",
       "      <th>max</th>\n",
       "      <td>999.000000</td>\n",
       "      <td>1499.770000</td>\n",
       "    </tr>\n",
       "  </tbody>\n",
       "</table>\n",
       "</div>"
      ],
      "text/plain": [
       "             tenure  MonthlyCharges\n",
       "count  69433.000000    69612.000000\n",
       "mean      30.516858       60.588548\n",
       "std       89.873767      111.509588\n",
       "min      -10.000000       18.000000\n",
       "25%       10.000000       29.670000\n",
       "50%       20.000000       41.190000\n",
       "75%       35.000000       63.882500\n",
       "max      999.000000     1499.770000"
      ]
     },
     "execution_count": 184,
     "metadata": {},
     "output_type": "execute_result"
    }
   ],
   "source": [
    "data.describe()"
   ]
  },
  {
   "cell_type": "code",
   "execution_count": 185,
   "id": "e54fc4b2",
   "metadata": {},
   "outputs": [
    {
     "data": {
      "application/vnd.microsoft.datawrangler.viewer.v0+json": {
       "columns": [
        {
         "name": "index",
         "rawType": "object",
         "type": "string"
        },
        {
         "name": "0",
         "rawType": "int64",
         "type": "integer"
        }
       ],
       "ref": "643780cc-d4fa-4ad1-a0a0-6d9f5a692027",
       "rows": [
        [
         "customerID",
         "0"
        ],
        [
         "gender",
         "748"
        ],
        [
         "SeniorCitizen",
         "659"
        ],
        [
         "Partner",
         "3530"
        ],
        [
         "Dependents",
         "3565"
        ],
        [
         "tenure",
         "567"
        ],
        [
         "PhoneService",
         "0"
        ],
        [
         "MultipleLines",
         "1868"
        ],
        [
         "InternetService",
         "0"
        ],
        [
         "OnlineSecurity",
         "2922"
        ],
        [
         "OnlineBackup",
         "2747"
        ],
        [
         "DeviceProtection",
         "2894"
        ],
        [
         "TechSupport",
         "2733"
        ],
        [
         "StreamingTV",
         "2827"
        ],
        [
         "StreamingMovies",
         "2785"
        ],
        [
         "Contract",
         "0"
        ],
        [
         "PaperlessBilling",
         "0"
        ],
        [
         "PaymentMethod",
         "3569"
        ],
        [
         "MonthlyCharges",
         "388"
        ],
        [
         "TotalCharges",
         "1062"
        ],
        [
         "Churn",
         "0"
        ]
       ],
       "shape": {
        "columns": 1,
        "rows": 21
       }
      },
      "text/plain": [
       "customerID             0\n",
       "gender               748\n",
       "SeniorCitizen        659\n",
       "Partner             3530\n",
       "Dependents          3565\n",
       "tenure               567\n",
       "PhoneService           0\n",
       "MultipleLines       1868\n",
       "InternetService        0\n",
       "OnlineSecurity      2922\n",
       "OnlineBackup        2747\n",
       "DeviceProtection    2894\n",
       "TechSupport         2733\n",
       "StreamingTV         2827\n",
       "StreamingMovies     2785\n",
       "Contract               0\n",
       "PaperlessBilling       0\n",
       "PaymentMethod       3569\n",
       "MonthlyCharges       388\n",
       "TotalCharges        1062\n",
       "Churn                  0\n",
       "dtype: int64"
      ]
     },
     "execution_count": 185,
     "metadata": {},
     "output_type": "execute_result"
    }
   ],
   "source": [
    "data.isnull().sum()"
   ]
  },
  {
   "cell_type": "code",
   "execution_count": 186,
   "id": "b0f59842",
   "metadata": {},
   "outputs": [],
   "source": [
    "# delete duplicated tows with customerID\n",
    "data = data.drop_duplicates(subset=['customerID'])"
   ]
  },
  {
   "cell_type": "markdown",
   "id": "a23657dd",
   "metadata": {},
   "source": [
    "Handle Inconsistencies"
   ]
  },
  {
   "cell_type": "code",
   "execution_count": 187,
   "id": "8d7ace49",
   "metadata": {},
   "outputs": [
    {
     "data": {
      "application/vnd.microsoft.datawrangler.viewer.v0+json": {
       "columns": [
        {
         "name": "gender",
         "rawType": "object",
         "type": "string"
        },
        {
         "name": "count",
         "rawType": "int64",
         "type": "integer"
        }
       ],
       "ref": "7e515b21-9c65-455e-88fc-d9e4c11d73e9",
       "rows": [
        [
         "Female",
         "34110"
        ],
        [
         "Male",
         "33252"
        ],
        [
         "Man",
         "500"
        ],
        [
         "male",
         "374"
        ],
        [
         "FEMALE",
         "351"
        ],
        [
         "m",
         "339"
        ],
        [
         "f",
         "326"
        ]
       ],
       "shape": {
        "columns": 1,
        "rows": 7
       }
      },
      "text/plain": [
       "gender\n",
       "Female    34110\n",
       "Male      33252\n",
       "Man         500\n",
       "male        374\n",
       "FEMALE      351\n",
       "m           339\n",
       "f           326\n",
       "Name: count, dtype: int64"
      ]
     },
     "execution_count": 187,
     "metadata": {},
     "output_type": "execute_result"
    }
   ],
   "source": [
    "# Gender\n",
    "data['gender'].value_counts() # unique value check"
   ]
  },
  {
   "cell_type": "code",
   "execution_count": 188,
   "id": "45255116",
   "metadata": {},
   "outputs": [],
   "source": [
    "gender_mapping = {\n",
    "    'male': 'Male', 'Man': 'Male', 'm': 'Male', 'Male':'Male',\n",
    "    'f': 'Female', 'FEMALE': 'Female', 'Female':'Female',\n",
    "}"
   ]
  },
  {
   "cell_type": "code",
   "execution_count": 189,
   "id": "fe7f7da9",
   "metadata": {},
   "outputs": [
    {
     "data": {
      "text/plain": [
       "np.int64(748)"
      ]
     },
     "execution_count": 189,
     "metadata": {},
     "output_type": "execute_result"
    }
   ],
   "source": [
    "data['gender'].isnull().sum()"
   ]
  },
  {
   "cell_type": "code",
   "execution_count": 190,
   "id": "e266d439",
   "metadata": {},
   "outputs": [],
   "source": [
    "data['gender'] = data['gender'].map(gender_mapping).fillna(\"Unknown\")"
   ]
  },
  {
   "cell_type": "code",
   "execution_count": 191,
   "id": "a857e436",
   "metadata": {},
   "outputs": [
    {
     "data": {
      "application/vnd.microsoft.datawrangler.viewer.v0+json": {
       "columns": [
        {
         "name": "gender",
         "rawType": "object",
         "type": "string"
        },
        {
         "name": "count",
         "rawType": "int64",
         "type": "integer"
        }
       ],
       "ref": "941acc46-fe05-4ca7-8285-ee63c8a8d644",
       "rows": [
        [
         "Female",
         "34787"
        ],
        [
         "Male",
         "34465"
        ],
        [
         "Unknown",
         "748"
        ]
       ],
       "shape": {
        "columns": 1,
        "rows": 3
       }
      },
      "text/plain": [
       "gender\n",
       "Female     34787\n",
       "Male       34465\n",
       "Unknown      748\n",
       "Name: count, dtype: int64"
      ]
     },
     "execution_count": 191,
     "metadata": {},
     "output_type": "execute_result"
    }
   ],
   "source": [
    "data['gender'].value_counts() # unique value check"
   ]
  },
  {
   "cell_type": "code",
   "execution_count": 192,
   "id": "43c10d79",
   "metadata": {},
   "outputs": [
    {
     "data": {
      "application/vnd.microsoft.datawrangler.viewer.v0+json": {
       "columns": [
        {
         "name": "SeniorCitizen",
         "rawType": "object",
         "type": "string"
        },
        {
         "name": "count",
         "rawType": "int64",
         "type": "integer"
        }
       ],
       "ref": "7bef020b-0205-4bad-ae30-db11a56d6d72",
       "rows": [
        [
         "0",
         "52405"
        ],
        [
         "1",
         "10388"
        ],
        [
         "Yes",
         "3559"
        ],
        [
         "No",
         "2739"
        ],
        [
         "not senior",
         "250"
        ]
       ],
       "shape": {
        "columns": 1,
        "rows": 5
       }
      },
      "text/plain": [
       "SeniorCitizen\n",
       "0             52405\n",
       "1             10388\n",
       "Yes            3559\n",
       "No             2739\n",
       "not senior      250\n",
       "Name: count, dtype: int64"
      ]
     },
     "execution_count": 192,
     "metadata": {},
     "output_type": "execute_result"
    }
   ],
   "source": [
    "# SeniorCitizen\n",
    "data['SeniorCitizen'].value_counts() # unique value check"
   ]
  },
  {
   "cell_type": "code",
   "execution_count": 193,
   "id": "4c7c388d",
   "metadata": {},
   "outputs": [],
   "source": [
    "senior_mapping = {\n",
    "    '1' : 1, 'Yes':1,\n",
    "    '0' : 0, 'No':0, 'not senior':0\n",
    "}"
   ]
  },
  {
   "cell_type": "code",
   "execution_count": 194,
   "id": "e6ad73dc",
   "metadata": {},
   "outputs": [],
   "source": [
    "data['SeniorCitizen'] = data['SeniorCitizen'].map(senior_mapping).fillna(0).astype(int)"
   ]
  },
  {
   "cell_type": "code",
   "execution_count": 195,
   "id": "addc4e9e",
   "metadata": {},
   "outputs": [
    {
     "data": {
      "application/vnd.microsoft.datawrangler.viewer.v0+json": {
       "columns": [
        {
         "name": "SeniorCitizen",
         "rawType": "int64",
         "type": "integer"
        },
        {
         "name": "count",
         "rawType": "int64",
         "type": "integer"
        }
       ],
       "ref": "bfc6059e-d7bc-425f-a239-e9bce8cc2c7c",
       "rows": [
        [
         "0",
         "56053"
        ],
        [
         "1",
         "13947"
        ]
       ],
       "shape": {
        "columns": 1,
        "rows": 2
       }
      },
      "text/plain": [
       "SeniorCitizen\n",
       "0    56053\n",
       "1    13947\n",
       "Name: count, dtype: int64"
      ]
     },
     "execution_count": 195,
     "metadata": {},
     "output_type": "execute_result"
    }
   ],
   "source": [
    "data['SeniorCitizen'].value_counts() # unique value check"
   ]
  },
  {
   "cell_type": "code",
   "execution_count": 196,
   "id": "a1476cd8",
   "metadata": {},
   "outputs": [
    {
     "data": {
      "application/vnd.microsoft.datawrangler.viewer.v0+json": {
       "columns": [
        {
         "name": "Churn",
         "rawType": "object",
         "type": "string"
        },
        {
         "name": "count",
         "rawType": "int64",
         "type": "integer"
        }
       ],
       "ref": "5c5c28ca-8eb7-4e15-b1ee-0e01677306c5",
       "rows": [
        [
         "No",
         "37057"
        ],
        [
         "Yes",
         "32713"
        ],
        [
         "Unknown",
         "54"
        ],
        [
         "CHURNED",
         "46"
        ],
        [
         "N",
         "46"
        ],
        [
         "NO CHURN",
         "45"
        ],
        [
         "Y",
         "39"
        ]
       ],
       "shape": {
        "columns": 1,
        "rows": 7
       }
      },
      "text/plain": [
       "Churn\n",
       "No          37057\n",
       "Yes         32713\n",
       "Unknown        54\n",
       "CHURNED        46\n",
       "N              46\n",
       "NO CHURN       45\n",
       "Y              39\n",
       "Name: count, dtype: int64"
      ]
     },
     "execution_count": 196,
     "metadata": {},
     "output_type": "execute_result"
    }
   ],
   "source": [
    "data['Churn'].value_counts()"
   ]
  },
  {
   "cell_type": "code",
   "execution_count": 197,
   "id": "bd0d188c",
   "metadata": {},
   "outputs": [
    {
     "data": {
      "application/vnd.microsoft.datawrangler.viewer.v0+json": {
       "columns": [
        {
         "name": "PaymentMethod",
         "rawType": "object",
         "type": "string"
        },
        {
         "name": "count",
         "rawType": "int64",
         "type": "integer"
        }
       ],
       "ref": "9da9f57b-942a-4614-92f7-0ddb6bcea065",
       "rows": [
        [
         "Electronic check",
         "27841"
        ],
        [
         "Bank transfer (automatic)",
         "14102"
        ],
        [
         "Mailed check",
         "13963"
        ],
        [
         "Credit card (automatic)",
         "10400"
        ],
        [
         "BANK TRANSFER",
         "125"
        ]
       ],
       "shape": {
        "columns": 1,
        "rows": 5
       }
      },
      "text/plain": [
       "PaymentMethod\n",
       "Electronic check             27841\n",
       "Bank transfer (automatic)    14102\n",
       "Mailed check                 13963\n",
       "Credit card (automatic)      10400\n",
       "BANK TRANSFER                  125\n",
       "Name: count, dtype: int64"
      ]
     },
     "execution_count": 197,
     "metadata": {},
     "output_type": "execute_result"
    }
   ],
   "source": [
    "data['PaymentMethod'].value_counts()"
   ]
  },
  {
   "cell_type": "code",
   "execution_count": 198,
   "id": "94151e51",
   "metadata": {},
   "outputs": [
    {
     "data": {
      "application/vnd.microsoft.datawrangler.viewer.v0+json": {
       "columns": [
        {
         "name": "PaperlessBilling",
         "rawType": "object",
         "type": "string"
        },
        {
         "name": "count",
         "rawType": "int64",
         "type": "integer"
        }
       ],
       "ref": "8304cafe-b6fa-45a7-b328-655d38ce0dec",
       "rows": [
        [
         "Yes",
         "42011"
        ],
        [
         "No",
         "27989"
        ]
       ],
       "shape": {
        "columns": 1,
        "rows": 2
       }
      },
      "text/plain": [
       "PaperlessBilling\n",
       "Yes    42011\n",
       "No     27989\n",
       "Name: count, dtype: int64"
      ]
     },
     "execution_count": 198,
     "metadata": {},
     "output_type": "execute_result"
    }
   ],
   "source": [
    "data['PaperlessBilling'].value_counts()"
   ]
  },
  {
   "cell_type": "code",
   "execution_count": 199,
   "id": "c0413b44",
   "metadata": {},
   "outputs": [
    {
     "data": {
      "application/vnd.microsoft.datawrangler.viewer.v0+json": {
       "columns": [
        {
         "name": "Dependents",
         "rawType": "object",
         "type": "string"
        },
        {
         "name": "count",
         "rawType": "int64",
         "type": "integer"
        }
       ],
       "ref": "9cf05ae6-c335-4939-b3f6-33ca41456588",
       "rows": [
        [
         "No",
         "45375"
        ],
        [
         "Yes",
         "21060"
        ]
       ],
       "shape": {
        "columns": 1,
        "rows": 2
       }
      },
      "text/plain": [
       "Dependents\n",
       "No     45375\n",
       "Yes    21060\n",
       "Name: count, dtype: int64"
      ]
     },
     "execution_count": 199,
     "metadata": {},
     "output_type": "execute_result"
    }
   ],
   "source": [
    "data['Dependents'].value_counts()"
   ]
  },
  {
   "cell_type": "code",
   "execution_count": 200,
   "id": "c22b3db0",
   "metadata": {},
   "outputs": [
    {
     "data": {
      "application/vnd.microsoft.datawrangler.viewer.v0+json": {
       "columns": [
        {
         "name": "Partner",
         "rawType": "object",
         "type": "string"
        },
        {
         "name": "count",
         "rawType": "int64",
         "type": "integer"
        }
       ],
       "ref": "d4099830-c9e6-4d14-a26a-32468f250a15",
       "rows": [
        [
         "No",
         "38344"
        ],
        [
         "Yes",
         "28126"
        ]
       ],
       "shape": {
        "columns": 1,
        "rows": 2
       }
      },
      "text/plain": [
       "Partner\n",
       "No     38344\n",
       "Yes    28126\n",
       "Name: count, dtype: int64"
      ]
     },
     "execution_count": 200,
     "metadata": {},
     "output_type": "execute_result"
    }
   ],
   "source": [
    "data['Partner'].value_counts()"
   ]
  },
  {
   "cell_type": "code",
   "execution_count": 201,
   "id": "f2bbe122",
   "metadata": {},
   "outputs": [
    {
     "data": {
      "application/vnd.microsoft.datawrangler.viewer.v0+json": {
       "columns": [
        {
         "name": "PhoneService",
         "rawType": "object",
         "type": "string"
        },
        {
         "name": "count",
         "rawType": "int64",
         "type": "integer"
        }
       ],
       "ref": "eaca33ee-da84-46dc-a706-7ded50f90557",
       "rows": [
        [
         "Yes",
         "63011"
        ],
        [
         "No",
         "6989"
        ]
       ],
       "shape": {
        "columns": 1,
        "rows": 2
       }
      },
      "text/plain": [
       "PhoneService\n",
       "Yes    63011\n",
       "No      6989\n",
       "Name: count, dtype: int64"
      ]
     },
     "execution_count": 201,
     "metadata": {},
     "output_type": "execute_result"
    }
   ],
   "source": [
    "data['PhoneService'].value_counts()"
   ]
  },
  {
   "cell_type": "code",
   "execution_count": 202,
   "id": "08743fc3",
   "metadata": {},
   "outputs": [
    {
     "data": {
      "application/vnd.microsoft.datawrangler.viewer.v0+json": {
       "columns": [
        {
         "name": "InternetService",
         "rawType": "object",
         "type": "string"
        },
        {
         "name": "count",
         "rawType": "int64",
         "type": "integer"
        }
       ],
       "ref": "8d36cee2-546b-4d09-adf9-a15ae2edc9be",
       "rows": [
        [
         "Fiber optic",
         "38502"
        ],
        [
         "DSL",
         "17594"
        ],
        [
         "No",
         "13904"
        ]
       ],
       "shape": {
        "columns": 1,
        "rows": 3
       }
      },
      "text/plain": [
       "InternetService\n",
       "Fiber optic    38502\n",
       "DSL            17594\n",
       "No             13904\n",
       "Name: count, dtype: int64"
      ]
     },
     "execution_count": 202,
     "metadata": {},
     "output_type": "execute_result"
    }
   ],
   "source": [
    "data['InternetService'].value_counts()"
   ]
  },
  {
   "cell_type": "code",
   "execution_count": 203,
   "id": "b7aa5428",
   "metadata": {},
   "outputs": [
    {
     "data": {
      "application/vnd.microsoft.datawrangler.viewer.v0+json": {
       "columns": [
        {
         "name": "StreamingMovies",
         "rawType": "object",
         "type": "string"
        },
        {
         "name": "count",
         "rawType": "int64",
         "type": "integer"
        }
       ],
       "ref": "d6933085-b384-4b75-8807-f0a3e7ba9ff0",
       "rows": [
        [
         "No",
         "39189"
        ],
        [
         "No internet service",
         "16744"
        ],
        [
         "Yes",
         "11271"
        ],
        [
         "Y",
         "7"
        ],
        [
         "True",
         "4"
        ]
       ],
       "shape": {
        "columns": 1,
        "rows": 5
       }
      },
      "text/plain": [
       "StreamingMovies\n",
       "No                     39189\n",
       "No internet service    16744\n",
       "Yes                    11271\n",
       "Y                          7\n",
       "True                       4\n",
       "Name: count, dtype: int64"
      ]
     },
     "execution_count": 203,
     "metadata": {},
     "output_type": "execute_result"
    }
   ],
   "source": [
    "data['StreamingMovies'].value_counts()"
   ]
  },
  {
   "cell_type": "code",
   "execution_count": 204,
   "id": "6e4e4ff0",
   "metadata": {},
   "outputs": [
    {
     "data": {
      "application/vnd.microsoft.datawrangler.viewer.v0+json": {
       "columns": [
        {
         "name": "StreamingTV",
         "rawType": "object",
         "type": "string"
        },
        {
         "name": "count",
         "rawType": "int64",
         "type": "integer"
        }
       ],
       "ref": "97fb36be-26c3-4216-8d0c-bd9e1305bcc1",
       "rows": [
        [
         "No",
         "39198"
        ],
        [
         "No internet service",
         "16610"
        ],
        [
         "Yes",
         "11355"
        ],
        [
         "Y",
         "5"
        ],
        [
         "True",
         "5"
        ]
       ],
       "shape": {
        "columns": 1,
        "rows": 5
       }
      },
      "text/plain": [
       "StreamingTV\n",
       "No                     39198\n",
       "No internet service    16610\n",
       "Yes                    11355\n",
       "Y                          5\n",
       "True                       5\n",
       "Name: count, dtype: int64"
      ]
     },
     "execution_count": 204,
     "metadata": {},
     "output_type": "execute_result"
    }
   ],
   "source": [
    "data['StreamingTV'].value_counts()"
   ]
  },
  {
   "cell_type": "code",
   "execution_count": 205,
   "id": "6dbcf37d",
   "metadata": {},
   "outputs": [
    {
     "data": {
      "application/vnd.microsoft.datawrangler.viewer.v0+json": {
       "columns": [
        {
         "name": "TechSupport",
         "rawType": "object",
         "type": "string"
        },
        {
         "name": "count",
         "rawType": "int64",
         "type": "integer"
        }
       ],
       "ref": "8548c3c6-9c0f-4e51-93cd-3682a9c2e63e",
       "rows": [
        [
         "No",
         "39401"
        ],
        [
         "No internet service",
         "16616"
        ],
        [
         "Yes",
         "11239"
        ],
        [
         "Y",
         "7"
        ],
        [
         "True",
         "4"
        ]
       ],
       "shape": {
        "columns": 1,
        "rows": 5
       }
      },
      "text/plain": [
       "TechSupport\n",
       "No                     39401\n",
       "No internet service    16616\n",
       "Yes                    11239\n",
       "Y                          7\n",
       "True                       4\n",
       "Name: count, dtype: int64"
      ]
     },
     "execution_count": 205,
     "metadata": {},
     "output_type": "execute_result"
    }
   ],
   "source": [
    "data['TechSupport'].value_counts()"
   ]
  },
  {
   "cell_type": "code",
   "execution_count": 206,
   "id": "3feb80c3",
   "metadata": {},
   "outputs": [
    {
     "data": {
      "application/vnd.microsoft.datawrangler.viewer.v0+json": {
       "columns": [
        {
         "name": "DeviceProtection",
         "rawType": "object",
         "type": "string"
        },
        {
         "name": "count",
         "rawType": "int64",
         "type": "integer"
        }
       ],
       "ref": "41fb459a-e42b-4f5b-8794-f6352b421fb5",
       "rows": [
        [
         "No",
         "39199"
        ],
        [
         "No internet service",
         "16623"
        ],
        [
         "Yes",
         "11277"
        ],
        [
         "Y",
         "6"
        ],
        [
         "True",
         "1"
        ]
       ],
       "shape": {
        "columns": 1,
        "rows": 5
       }
      },
      "text/plain": [
       "DeviceProtection\n",
       "No                     39199\n",
       "No internet service    16623\n",
       "Yes                    11277\n",
       "Y                          6\n",
       "True                       1\n",
       "Name: count, dtype: int64"
      ]
     },
     "execution_count": 206,
     "metadata": {},
     "output_type": "execute_result"
    }
   ],
   "source": [
    "data['DeviceProtection'].value_counts()"
   ]
  },
  {
   "cell_type": "code",
   "execution_count": 207,
   "id": "99040a34",
   "metadata": {},
   "outputs": [
    {
     "data": {
      "application/vnd.microsoft.datawrangler.viewer.v0+json": {
       "columns": [
        {
         "name": "OnlineBackup",
         "rawType": "object",
         "type": "string"
        },
        {
         "name": "count",
         "rawType": "int64",
         "type": "integer"
        }
       ],
       "ref": "576ea184-22c7-42d9-9219-1169dbf20de1",
       "rows": [
        [
         "No",
         "39308"
        ],
        [
         "No internet service",
         "16691"
        ],
        [
         "Yes",
         "11237"
        ],
        [
         "Y",
         "10"
        ],
        [
         "True",
         "7"
        ]
       ],
       "shape": {
        "columns": 1,
        "rows": 5
       }
      },
      "text/plain": [
       "OnlineBackup\n",
       "No                     39308\n",
       "No internet service    16691\n",
       "Yes                    11237\n",
       "Y                         10\n",
       "True                       7\n",
       "Name: count, dtype: int64"
      ]
     },
     "execution_count": 207,
     "metadata": {},
     "output_type": "execute_result"
    }
   ],
   "source": [
    "data['OnlineBackup'].value_counts()"
   ]
  },
  {
   "cell_type": "code",
   "execution_count": 208,
   "id": "e1a5c59b",
   "metadata": {},
   "outputs": [
    {
     "data": {
      "application/vnd.microsoft.datawrangler.viewer.v0+json": {
       "columns": [
        {
         "name": "OnlineSecurity",
         "rawType": "object",
         "type": "string"
        },
        {
         "name": "count",
         "rawType": "int64",
         "type": "integer"
        }
       ],
       "ref": "4b02f335-8616-4f82-9d30-55f09f44b51d",
       "rows": [
        [
         "No",
         "39195"
        ],
        [
         "No internet service",
         "16672"
        ],
        [
         "Yes",
         "11202"
        ],
        [
         "True",
         "6"
        ],
        [
         "Y",
         "3"
        ]
       ],
       "shape": {
        "columns": 1,
        "rows": 5
       }
      },
      "text/plain": [
       "OnlineSecurity\n",
       "No                     39195\n",
       "No internet service    16672\n",
       "Yes                    11202\n",
       "True                       6\n",
       "Y                          3\n",
       "Name: count, dtype: int64"
      ]
     },
     "execution_count": 208,
     "metadata": {},
     "output_type": "execute_result"
    }
   ],
   "source": [
    "data['OnlineSecurity'].value_counts()"
   ]
  },
  {
   "cell_type": "code",
   "execution_count": 209,
   "id": "fc30eed6",
   "metadata": {},
   "outputs": [
    {
     "data": {
      "application/vnd.microsoft.datawrangler.viewer.v0+json": {
       "columns": [
        {
         "name": "MultipleLines",
         "rawType": "object",
         "type": "string"
        },
        {
         "name": "count",
         "rawType": "int64",
         "type": "integer"
        }
       ],
       "ref": "ddea6876-0816-498a-b22a-e0ae7e5be80a",
       "rows": [
        [
         "Yes",
         "34681"
        ],
        [
         "No",
         "25192"
        ],
        [
         "No phone service",
         "8259"
        ]
       ],
       "shape": {
        "columns": 1,
        "rows": 3
       }
      },
      "text/plain": [
       "MultipleLines\n",
       "Yes                 34681\n",
       "No                  25192\n",
       "No phone service     8259\n",
       "Name: count, dtype: int64"
      ]
     },
     "execution_count": 209,
     "metadata": {},
     "output_type": "execute_result"
    }
   ],
   "source": [
    "data['MultipleLines'].value_counts()"
   ]
  },
  {
   "cell_type": "code",
   "execution_count": 210,
   "id": "8d4c209b",
   "metadata": {},
   "outputs": [],
   "source": [
    "# Service fields\n",
    "service_cols = ['MultipleLines', 'OnlineSecurity', 'OnlineBackup', 'DeviceProtection', 'TechSupport', 'StreamingTV', 'StreamingMovies']\n",
    "\n",
    "setvice_map = {\n",
    "    'Yes' : 'Yes', 'True': 'Yes', 'Y': 'Yes', \n",
    "    'No' : 'No', 'No phone service': 'No', 'No internet service': 'No'\n",
    "}\n",
    "\n",
    "for col in service_cols:\n",
    "    data[col] = data[col].map(setvice_map).fillna(\"Unknown\")"
   ]
  },
  {
   "cell_type": "code",
   "execution_count": null,
   "id": "553a4cf7",
   "metadata": {},
   "outputs": [],
   "source": []
  },
  {
   "cell_type": "code",
   "execution_count": null,
   "id": "46d76bc9",
   "metadata": {},
   "outputs": [],
   "source": []
  },
  {
   "cell_type": "code",
   "execution_count": null,
   "id": "265201cd",
   "metadata": {},
   "outputs": [],
   "source": []
  },
  {
   "cell_type": "code",
   "execution_count": 211,
   "id": "cad128f2",
   "metadata": {},
   "outputs": [
    {
     "data": {
      "application/vnd.microsoft.datawrangler.viewer.v0+json": {
       "columns": [
        {
         "name": "Contract",
         "rawType": "object",
         "type": "string"
        },
        {
         "name": "count",
         "rawType": "int64",
         "type": "integer"
        }
       ],
       "ref": "f7d6ae31-0ec1-4426-b46a-0695f8fd5405",
       "rows": [
        [
         "Month-to-month",
         "41845"
        ],
        [
         "One year",
         "14015"
        ],
        [
         "Two year",
         "13974"
        ],
        [
         "M-M",
         "166"
        ]
       ],
       "shape": {
        "columns": 1,
        "rows": 4
       }
      },
      "text/plain": [
       "Contract\n",
       "Month-to-month    41845\n",
       "One year          14015\n",
       "Two year          13974\n",
       "M-M                 166\n",
       "Name: count, dtype: int64"
      ]
     },
     "execution_count": 211,
     "metadata": {},
     "output_type": "execute_result"
    }
   ],
   "source": [
    "data['Contract'].value_counts()"
   ]
  },
  {
   "cell_type": "code",
   "execution_count": 212,
   "id": "63c9570b",
   "metadata": {},
   "outputs": [],
   "source": [
    "data['Contract']=data['Contract'].astype(str).str.lower().str.strip().replace('', 'unknown') "
   ]
  },
  {
   "cell_type": "code",
   "execution_count": 213,
   "id": "3c420dd9",
   "metadata": {},
   "outputs": [
    {
     "data": {
      "application/vnd.microsoft.datawrangler.viewer.v0+json": {
       "columns": [
        {
         "name": "Contract",
         "rawType": "object",
         "type": "string"
        },
        {
         "name": "count",
         "rawType": "int64",
         "type": "integer"
        }
       ],
       "ref": "f11a6331-03da-4381-a5b7-70b8b29b5f13",
       "rows": [
        [
         "month-to-month",
         "41845"
        ],
        [
         "one year",
         "14015"
        ],
        [
         "two year",
         "13974"
        ],
        [
         "m-m",
         "166"
        ]
       ],
       "shape": {
        "columns": 1,
        "rows": 4
       }
      },
      "text/plain": [
       "Contract\n",
       "month-to-month    41845\n",
       "one year          14015\n",
       "two year          13974\n",
       "m-m                 166\n",
       "Name: count, dtype: int64"
      ]
     },
     "execution_count": 213,
     "metadata": {},
     "output_type": "execute_result"
    }
   ],
   "source": [
    "data['Contract'].value_counts()"
   ]
  },
  {
   "cell_type": "code",
   "execution_count": 214,
   "id": "ab750b3a",
   "metadata": {},
   "outputs": [],
   "source": [
    "contract_map = {\n",
    "    \"month-to-month\": \"Month-to-Month\",\n",
    "    \"one year\": \"One year\",\n",
    "    \"two year\": \"Two year\",\n",
    "    \"m-m\": \"Month-to-Month\",\n",
    "}"
   ]
  },
  {
   "cell_type": "code",
   "execution_count": 215,
   "id": "af090fee",
   "metadata": {},
   "outputs": [],
   "source": [
    "data['Contract'] = data['Contract'].map(contract_map).fillna('Unknown')"
   ]
  },
  {
   "cell_type": "code",
   "execution_count": 216,
   "id": "2cac6ad5",
   "metadata": {},
   "outputs": [
    {
     "data": {
      "application/vnd.microsoft.datawrangler.viewer.v0+json": {
       "columns": [
        {
         "name": "Contract",
         "rawType": "object",
         "type": "string"
        },
        {
         "name": "count",
         "rawType": "int64",
         "type": "integer"
        }
       ],
       "ref": "f03f6b98-a59e-488b-89c1-98ccf6025be5",
       "rows": [
        [
         "Month-to-Month",
         "42011"
        ],
        [
         "One year",
         "14015"
        ],
        [
         "Two year",
         "13974"
        ]
       ],
       "shape": {
        "columns": 1,
        "rows": 3
       }
      },
      "text/plain": [
       "Contract\n",
       "Month-to-Month    42011\n",
       "One year          14015\n",
       "Two year          13974\n",
       "Name: count, dtype: int64"
      ]
     },
     "execution_count": 216,
     "metadata": {},
     "output_type": "execute_result"
    }
   ],
   "source": [
    "data['Contract'].value_counts()"
   ]
  },
  {
   "cell_type": "code",
   "execution_count": 217,
   "id": "f2141362",
   "metadata": {},
   "outputs": [
    {
     "data": {
      "application/vnd.microsoft.datawrangler.viewer.v0+json": {
       "columns": [
        {
         "name": "PaymentMethod",
         "rawType": "object",
         "type": "string"
        },
        {
         "name": "count",
         "rawType": "int64",
         "type": "integer"
        }
       ],
       "ref": "d0938de6-a6e6-4257-a246-17cbdc29b584",
       "rows": [
        [
         "Electronic check",
         "27841"
        ],
        [
         "Bank transfer (automatic)",
         "14102"
        ],
        [
         "Mailed check",
         "13963"
        ],
        [
         "Credit card (automatic)",
         "10400"
        ],
        [
         "BANK TRANSFER",
         "125"
        ]
       ],
       "shape": {
        "columns": 1,
        "rows": 5
       }
      },
      "text/plain": [
       "PaymentMethod\n",
       "Electronic check             27841\n",
       "Bank transfer (automatic)    14102\n",
       "Mailed check                 13963\n",
       "Credit card (automatic)      10400\n",
       "BANK TRANSFER                  125\n",
       "Name: count, dtype: int64"
      ]
     },
     "execution_count": 217,
     "metadata": {},
     "output_type": "execute_result"
    }
   ],
   "source": [
    "# PaymentMethod: standardize\n",
    "data['PaymentMethod'].value_counts()"
   ]
  },
  {
   "cell_type": "code",
   "execution_count": null,
   "id": "8343133d",
   "metadata": {},
   "outputs": [],
   "source": []
  },
  {
   "cell_type": "code",
   "execution_count": 218,
   "id": "690545a5",
   "metadata": {},
   "outputs": [],
   "source": [
    "data['PaymentMethod']=data['PaymentMethod'].astype(str).str.lower().str.strip().replace('', 'unknown') "
   ]
  },
  {
   "cell_type": "code",
   "execution_count": 219,
   "id": "dd90e12c",
   "metadata": {},
   "outputs": [
    {
     "data": {
      "application/vnd.microsoft.datawrangler.viewer.v0+json": {
       "columns": [
        {
         "name": "PaymentMethod",
         "rawType": "object",
         "type": "string"
        },
        {
         "name": "count",
         "rawType": "int64",
         "type": "integer"
        }
       ],
       "ref": "c3bff206-860f-4836-810a-18edb7cf5843",
       "rows": [
        [
         "electronic check",
         "27841"
        ],
        [
         "bank transfer (automatic)",
         "14102"
        ],
        [
         "mailed check",
         "13963"
        ],
        [
         "credit card (automatic)",
         "10400"
        ],
        [
         "nan",
         "3569"
        ],
        [
         "bank transfer",
         "125"
        ]
       ],
       "shape": {
        "columns": 1,
        "rows": 6
       }
      },
      "text/plain": [
       "PaymentMethod\n",
       "electronic check             27841\n",
       "bank transfer (automatic)    14102\n",
       "mailed check                 13963\n",
       "credit card (automatic)      10400\n",
       "nan                           3569\n",
       "bank transfer                  125\n",
       "Name: count, dtype: int64"
      ]
     },
     "execution_count": 219,
     "metadata": {},
     "output_type": "execute_result"
    }
   ],
   "source": [
    "data['PaymentMethod'].value_counts()"
   ]
  },
  {
   "cell_type": "code",
   "execution_count": 220,
   "id": "c16cd1c0",
   "metadata": {},
   "outputs": [],
   "source": [
    "payment_map = {\n",
    "    'bank transfer (automatic)': 'Bank transfer (automatic)',\n",
    "    'credit card (automatic)': 'Credit card (automatic)',\n",
    "    'electronic check': 'Electronic check',\n",
    "    'mailed check': 'Mailed check',\n",
    "    'bank transfer': 'Bank transfer (automatic)'  # example for inconsistencies\n",
    "}"
   ]
  },
  {
   "cell_type": "code",
   "execution_count": 221,
   "id": "75fb5a2a",
   "metadata": {},
   "outputs": [],
   "source": [
    "data['PaymentMethod'] = data['PaymentMethod'].map(payment_map).fillna('Unknown')"
   ]
  },
  {
   "cell_type": "code",
   "execution_count": 222,
   "id": "532f2354",
   "metadata": {},
   "outputs": [
    {
     "data": {
      "application/vnd.microsoft.datawrangler.viewer.v0+json": {
       "columns": [
        {
         "name": "PaymentMethod",
         "rawType": "object",
         "type": "string"
        },
        {
         "name": "count",
         "rawType": "int64",
         "type": "integer"
        }
       ],
       "ref": "3557d934-da9d-4c5f-8206-004f850fba13",
       "rows": [
        [
         "Electronic check",
         "27841"
        ],
        [
         "Bank transfer (automatic)",
         "14227"
        ],
        [
         "Mailed check",
         "13963"
        ],
        [
         "Credit card (automatic)",
         "10400"
        ],
        [
         "Unknown",
         "3569"
        ]
       ],
       "shape": {
        "columns": 1,
        "rows": 5
       }
      },
      "text/plain": [
       "PaymentMethod\n",
       "Electronic check             27841\n",
       "Bank transfer (automatic)    14227\n",
       "Mailed check                 13963\n",
       "Credit card (automatic)      10400\n",
       "Unknown                       3569\n",
       "Name: count, dtype: int64"
      ]
     },
     "execution_count": 222,
     "metadata": {},
     "output_type": "execute_result"
    }
   ],
   "source": [
    "data['PaymentMethod'].value_counts()"
   ]
  },
  {
   "cell_type": "code",
   "execution_count": 223,
   "id": "2b008871",
   "metadata": {},
   "outputs": [
    {
     "data": {
      "application/vnd.microsoft.datawrangler.viewer.v0+json": {
       "columns": [
        {
         "name": "Churn",
         "rawType": "object",
         "type": "string"
        },
        {
         "name": "count",
         "rawType": "int64",
         "type": "integer"
        }
       ],
       "ref": "8819de2e-3c21-45f5-8cc5-3f3978e27a23",
       "rows": [
        [
         "No",
         "37057"
        ],
        [
         "Yes",
         "32713"
        ],
        [
         "Unknown",
         "54"
        ],
        [
         "CHURNED",
         "46"
        ],
        [
         "N",
         "46"
        ],
        [
         "NO CHURN",
         "45"
        ],
        [
         "Y",
         "39"
        ]
       ],
       "shape": {
        "columns": 1,
        "rows": 7
       }
      },
      "text/plain": [
       "Churn\n",
       "No          37057\n",
       "Yes         32713\n",
       "Unknown        54\n",
       "CHURNED        46\n",
       "N              46\n",
       "NO CHURN       45\n",
       "Y              39\n",
       "Name: count, dtype: int64"
      ]
     },
     "execution_count": 223,
     "metadata": {},
     "output_type": "execute_result"
    }
   ],
   "source": [
    "data['Churn'].value_counts()"
   ]
  },
  {
   "cell_type": "code",
   "execution_count": 224,
   "id": "4d835e11",
   "metadata": {},
   "outputs": [
    {
     "data": {
      "application/vnd.microsoft.datawrangler.viewer.v0+json": {
       "columns": [
        {
         "name": "Churn",
         "rawType": "object",
         "type": "string"
        },
        {
         "name": "count",
         "rawType": "int64",
         "type": "integer"
        }
       ],
       "ref": "55f6e3ca-bee8-4b19-834f-106d4976810b",
       "rows": [
        [
         "no",
         "37057"
        ],
        [
         "yes",
         "32713"
        ],
        [
         "unknown",
         "54"
        ],
        [
         "churned",
         "46"
        ],
        [
         "n",
         "46"
        ],
        [
         "no churn",
         "45"
        ],
        [
         "y",
         "39"
        ]
       ],
       "shape": {
        "columns": 1,
        "rows": 7
       }
      },
      "text/plain": [
       "Churn\n",
       "no          37057\n",
       "yes         32713\n",
       "unknown        54\n",
       "churned        46\n",
       "n              46\n",
       "no churn       45\n",
       "y              39\n",
       "Name: count, dtype: int64"
      ]
     },
     "execution_count": 224,
     "metadata": {},
     "output_type": "execute_result"
    }
   ],
   "source": [
    "data['Churn'] = data['Churn'].astype(str).str.lower().str.strip()\n",
    "data['Churn'].value_counts()"
   ]
  },
  {
   "cell_type": "code",
   "execution_count": 225,
   "id": "7f2389be",
   "metadata": {},
   "outputs": [],
   "source": [
    "churn_map = {\n",
    "    'yes': 'Yes', 'y': 'Yes', 'churned': 'Yes',\n",
    "    'no': 'No', 'n': 'No', 'no churn': 'No',\n",
    "}"
   ]
  },
  {
   "cell_type": "code",
   "execution_count": 226,
   "id": "1e26be44",
   "metadata": {},
   "outputs": [
    {
     "data": {
      "application/vnd.microsoft.datawrangler.viewer.v0+json": {
       "columns": [
        {
         "name": "Churn",
         "rawType": "object",
         "type": "string"
        },
        {
         "name": "count",
         "rawType": "int64",
         "type": "integer"
        }
       ],
       "ref": "a6f36542-f0db-4214-9fdd-205ea72641e7",
       "rows": [
        [
         "No",
         "37148"
        ],
        [
         "Yes",
         "32798"
        ]
       ],
       "shape": {
        "columns": 1,
        "rows": 2
       }
      },
      "text/plain": [
       "Churn\n",
       "No     37148\n",
       "Yes    32798\n",
       "Name: count, dtype: int64"
      ]
     },
     "execution_count": 226,
     "metadata": {},
     "output_type": "execute_result"
    }
   ],
   "source": [
    "data['Churn'] = data['Churn'].map(churn_map).dropna().fillna('Unknown')\n",
    "data['Churn'].value_counts()"
   ]
  },
  {
   "cell_type": "markdown",
   "id": "af8f07f1",
   "metadata": {},
   "source": [
    "Handle Noisy Data"
   ]
  },
  {
   "cell_type": "code",
   "execution_count": 227,
   "id": "56c4f498",
   "metadata": {},
   "outputs": [
    {
     "data": {
      "application/vnd.microsoft.datawrangler.viewer.v0+json": {
       "columns": [
        {
         "name": "index",
         "rawType": "int64",
         "type": "integer"
        },
        {
         "name": "customerID",
         "rawType": "object",
         "type": "string"
        },
        {
         "name": "gender",
         "rawType": "object",
         "type": "string"
        },
        {
         "name": "SeniorCitizen",
         "rawType": "int64",
         "type": "integer"
        },
        {
         "name": "Partner",
         "rawType": "object",
         "type": "unknown"
        },
        {
         "name": "Dependents",
         "rawType": "object",
         "type": "unknown"
        },
        {
         "name": "tenure",
         "rawType": "float64",
         "type": "float"
        },
        {
         "name": "PhoneService",
         "rawType": "object",
         "type": "string"
        },
        {
         "name": "MultipleLines",
         "rawType": "object",
         "type": "string"
        },
        {
         "name": "InternetService",
         "rawType": "object",
         "type": "string"
        },
        {
         "name": "OnlineSecurity",
         "rawType": "object",
         "type": "string"
        },
        {
         "name": "OnlineBackup",
         "rawType": "object",
         "type": "string"
        },
        {
         "name": "DeviceProtection",
         "rawType": "object",
         "type": "string"
        },
        {
         "name": "TechSupport",
         "rawType": "object",
         "type": "string"
        },
        {
         "name": "StreamingTV",
         "rawType": "object",
         "type": "string"
        },
        {
         "name": "StreamingMovies",
         "rawType": "object",
         "type": "string"
        },
        {
         "name": "Contract",
         "rawType": "object",
         "type": "string"
        },
        {
         "name": "PaperlessBilling",
         "rawType": "object",
         "type": "string"
        },
        {
         "name": "PaymentMethod",
         "rawType": "object",
         "type": "string"
        },
        {
         "name": "MonthlyCharges",
         "rawType": "float64",
         "type": "float"
        },
        {
         "name": "TotalCharges",
         "rawType": "object",
         "type": "unknown"
        },
        {
         "name": "Churn",
         "rawType": "object",
         "type": "unknown"
        }
       ],
       "ref": "272fccb2-b550-4fd5-976f-52a3f54b6f53",
       "rows": [
        [
         "0",
         "CUST00001",
         "Male",
         "0",
         "No",
         "Yes",
         "3.0",
         "Yes",
         "Yes",
         "No",
         "No",
         "No",
         "No",
         "No",
         "No",
         "No",
         "Month-to-Month",
         "No",
         "Mailed check",
         "68.61",
         "205.83",
         "Yes"
        ],
        [
         "1",
         "CUST00002",
         "Male",
         "1",
         "Yes",
         "No",
         "2.0",
         "Yes",
         "Yes",
         "DSL",
         "No",
         "No",
         "No",
         "Yes",
         "Unknown",
         "No",
         "One year",
         "Yes",
         "Bank transfer (automatic)",
         "23.15",
         "46.3",
         "No"
        ],
        [
         "2",
         "CUST00003",
         "Female",
         "0",
         "No",
         "No",
         "42.0",
         "Yes",
         "Yes",
         "DSL",
         "No",
         "Yes",
         "No",
         "Unknown",
         "Yes",
         "Yes",
         "Month-to-Month",
         "No",
         "Electronic check",
         "42.63",
         "1790.46",
         "Yes"
        ],
        [
         "3",
         "CUST00004",
         "Female",
         "0",
         "No",
         "Yes",
         "40.0",
         "Yes",
         "Yes",
         "Fiber optic",
         "No",
         "No",
         "Yes",
         "No",
         "No",
         "No",
         "Month-to-Month",
         "No",
         "Electronic check",
         "75.04",
         "3001.6",
         "No"
        ],
        [
         "4",
         "CUST00005",
         "Male",
         "1",
         "Yes",
         "Yes",
         "17.0",
         "Yes",
         "Unknown",
         "Fiber optic",
         "Yes",
         "No",
         "Yes",
         "No",
         "No",
         "No",
         "Two year",
         "Yes",
         "Electronic check",
         "22.38",
         "380.46",
         "Yes"
        ],
        [
         "5",
         "CUST00006",
         "Male",
         "0",
         "Yes",
         "No",
         "18.0",
         "Yes",
         "No",
         "Fiber optic",
         "No",
         "No",
         "Unknown",
         "Yes",
         "Unknown",
         "No",
         "One year",
         "No",
         "Electronic check",
         "37.23",
         "670.14",
         "Yes"
        ],
        [
         "6",
         "CUST00007",
         "Female",
         "0",
         "No",
         "No",
         "25.0",
         "Yes",
         "Yes",
         "No",
         "No",
         "No",
         "No",
         "No",
         "No",
         "No",
         "One year",
         "Yes",
         "Mailed check",
         "67.47",
         "1686.75",
         "No"
        ],
        [
         "7",
         "CUST00008",
         "Female",
         "0",
         "Yes",
         "No",
         "33.0",
         "Yes",
         "Yes",
         "Fiber optic",
         "No",
         "Unknown",
         "No",
         "No",
         "No",
         "Unknown",
         "Two year",
         "No",
         "Electronic check",
         "76.3",
         "2517.9",
         "No"
        ],
        [
         "8",
         "CUST00009",
         "Female",
         "0",
         "Yes",
         "No",
         "6.0",
         "Yes",
         "Yes",
         "DSL",
         "Yes",
         "No",
         "No",
         "No",
         "No",
         "No",
         "Month-to-Month",
         "No",
         "Electronic check",
         "64.86",
         "389.16",
         "No"
        ],
        [
         "9",
         "CUST00010",
         "Female",
         "0",
         "Yes",
         "No",
         "-5.0",
         "Yes",
         "No",
         "No",
         "No",
         "No",
         "No",
         "No",
         "No",
         "No",
         "Month-to-Month",
         "No",
         "Electronic check",
         "18.6",
         "0",
         "Yes"
        ],
        [
         "10",
         "CUST00011",
         "Female",
         "0",
         "No",
         "No",
         "18.0",
         "Yes",
         "No",
         "No",
         "No",
         "No",
         "No",
         "No",
         "No",
         "No",
         "One year",
         "No",
         "Electronic check",
         "49.17",
         "885.06",
         "No"
        ],
        [
         "11",
         "CUST00012",
         "Male",
         "0",
         "Yes",
         "No",
         "22.0",
         "Yes",
         "No",
         "No",
         "No",
         "No",
         "No",
         "No",
         "No",
         "No",
         "Month-to-Month",
         "Yes",
         "Mailed check",
         "23.2",
         "510.4",
         "Yes"
        ],
        [
         "12",
         "CUST00013",
         "Female",
         "1",
         "Yes",
         "No",
         "10.0",
         "Yes",
         "Yes",
         "DSL",
         "No",
         "No",
         "No",
         "Yes",
         "No",
         "No",
         "Month-to-Month",
         "Yes",
         "Electronic check",
         "34.57",
         "345.7",
         "No"
        ],
        [
         "13",
         "CUST00014",
         "Male",
         "0",
         "Yes",
         "No",
         "2.0",
         "Yes",
         "Unknown",
         "Fiber optic",
         "No",
         "No",
         "No",
         "Unknown",
         "No",
         "No",
         "Month-to-Month",
         "Yes",
         "Electronic check",
         "48.36",
         "96.72",
         "Yes"
        ],
        [
         "14",
         "CUST00015",
         "Male",
         "0",
         "Yes",
         "No",
         "8.0",
         "Yes",
         "Yes",
         "Fiber optic",
         "Yes",
         "No",
         "Yes",
         "No",
         "No",
         "No",
         "Two year",
         "No",
         "Credit card (automatic)",
         "53.36",
         "426.88",
         "No"
        ],
        [
         "15",
         "CUST00016",
         "Female",
         "0",
         "No",
         "No",
         "5.0",
         "No",
         "No",
         "Fiber optic",
         "Yes",
         "No",
         "Yes",
         "Yes",
         "No",
         "No",
         "One year",
         "No",
         "Credit card (automatic)",
         "39.14",
         "195.7",
         "No"
        ],
        [
         "16",
         "CUST00017",
         "Female",
         "0",
         "Yes",
         "No",
         "47.0",
         "Yes",
         "Yes",
         "No",
         "No",
         "No",
         "No",
         "No",
         "No",
         "No",
         "One year",
         "Yes",
         "Bank transfer (automatic)",
         "38.42",
         "1805.74",
         "No"
        ],
        [
         "17",
         "CUST00018",
         "Female",
         "0",
         "Yes",
         "No",
         "28.0",
         "Yes",
         "Yes",
         "No",
         "No",
         "No",
         "No",
         "No",
         "No",
         "No",
         "Two year",
         "No",
         "Electronic check",
         "99.53",
         "2786.84",
         "No"
        ],
        [
         "18",
         "CUST00019",
         "Female",
         "0",
         "Yes",
         "No",
         "44.0",
         "Yes",
         "No",
         "DSL",
         "No",
         "No",
         "No",
         "No",
         "Yes",
         "No",
         "One year",
         "No",
         "Electronic check",
         "22.64",
         "996.16",
         "No"
        ],
        [
         "19",
         "CUST00020",
         "Male",
         "0",
         "Yes",
         "Yes",
         "12.0",
         "Yes",
         "No",
         "No",
         "No",
         "No",
         "No",
         "No",
         "No",
         "No",
         "One year",
         "No",
         "Bank transfer (automatic)",
         "117.22",
         "1406.64",
         "No"
        ],
        [
         "20",
         "CUST00021",
         "Male",
         "0",
         "No",
         "Yes",
         "-10.0",
         "Yes",
         "No",
         "Fiber optic",
         "No",
         "No",
         "Yes",
         "Yes",
         "No",
         "Yes",
         "Month-to-Month",
         "Yes",
         "Electronic check",
         "102.35",
         "0",
         "Yes"
        ],
        [
         "21",
         "CUST00022",
         "Female",
         "0",
         "No",
         "No",
         "38.0",
         "Yes",
         "Yes",
         "No",
         "No",
         "No",
         "No",
         "No",
         "No",
         "No",
         "Month-to-Month",
         "No",
         "Mailed check",
         "61.27",
         "2328.26",
         "Yes"
        ],
        [
         "22",
         "CUST00023",
         "Male",
         "0",
         "Yes",
         "No",
         "21.0",
         "Yes",
         "Yes",
         "Fiber optic",
         "Yes",
         "No",
         "No",
         "Yes",
         "No",
         "No",
         "Two year",
         "Yes",
         "Bank transfer (automatic)",
         "36.96",
         "776.16",
         "Yes"
        ],
        [
         "23",
         "CUST00024",
         "Male",
         "0",
         "No",
         "No",
         "4.0",
         "Yes",
         "Unknown",
         "DSL",
         "Yes",
         "No",
         "No",
         "Yes",
         "Yes",
         "No",
         "Month-to-Month",
         "No",
         "Bank transfer (automatic)",
         "42.01",
         "168.04",
         "No"
        ],
        [
         "24",
         "CUST00025",
         "Male",
         "0",
         "Yes",
         "No",
         "16.0",
         "Yes",
         "No",
         "Fiber optic",
         "No",
         "No",
         "No",
         "No",
         "No",
         "Yes",
         "Month-to-Month",
         "No",
         "Electronic check",
         "1212.43",
         "19398.88",
         "Yes"
        ],
        [
         "25",
         "CUST00026",
         "Male",
         "1",
         "No",
         "No",
         "29.0",
         "Yes",
         "Yes",
         "DSL",
         "Yes",
         "No",
         "No",
         "Unknown",
         "Unknown",
         "Yes",
         "One year",
         "Yes",
         "Electronic check",
         "111.0",
         "3219.0",
         "No"
        ],
        [
         "26",
         "CUST00027",
         "Male",
         "0",
         "No",
         "No",
         "5.0",
         "Yes",
         "Yes",
         "No",
         "No",
         "No",
         "No",
         "No",
         "No",
         "No",
         "Two year",
         "Yes",
         "Mailed check",
         "43.36",
         "216.8",
         "No"
        ],
        [
         "27",
         "CUST00028",
         "Female",
         "0",
         "No",
         "No",
         "51.0",
         "Yes",
         "No",
         "Fiber optic",
         "No",
         "No",
         "No",
         "No",
         "Yes",
         "No",
         "Month-to-Month",
         "No",
         "Mailed check",
         "100.42",
         "5121.42",
         "Yes"
        ],
        [
         "28",
         "CUST00029",
         "Female",
         "0",
         "No",
         "No",
         "15.0",
         "Yes",
         "Yes",
         "Fiber optic",
         "No",
         "No",
         "No",
         "No",
         "No",
         "No",
         "Month-to-Month",
         "Yes",
         "Mailed check",
         "68.06",
         "1020.9",
         "Yes"
        ],
        [
         "29",
         "CUST00030",
         "Male",
         "0",
         "Yes",
         "No",
         "10.0",
         "Yes",
         "No",
         "Fiber optic",
         "Yes",
         "No",
         "Yes",
         "No",
         "No",
         "No",
         "Two year",
         "No",
         "Mailed check",
         "115.47",
         "1154.7",
         "No"
        ],
        [
         "30",
         "CUST00031",
         "Female",
         "1",
         "No",
         "No",
         "9.0",
         "Yes",
         "No",
         "DSL",
         "No",
         "No",
         "Unknown",
         "No",
         "Unknown",
         "No",
         "One year",
         "No",
         "Mailed check",
         "24.62",
         "221.58",
         "No"
        ],
        [
         "31",
         "CUST00032",
         "Male",
         "0",
         "No",
         "No",
         "23.0",
         "Yes",
         "No",
         "Fiber optic",
         "No",
         "No",
         "No",
         "No",
         "No",
         "Yes",
         "Month-to-Month",
         "Yes",
         "Credit card (automatic)",
         "49.92",
         "1148.16",
         "Yes"
        ],
        [
         "32",
         "CUST00033",
         "Female",
         "0",
         "No",
         "Yes",
         "43.0",
         "Yes",
         "Yes",
         "Fiber optic",
         "No",
         "No",
         "No",
         "No",
         "No",
         "Yes",
         "Month-to-Month",
         "No",
         "Mailed check",
         "77.96",
         "3352.28",
         "Yes"
        ],
        [
         "33",
         "CUST00034",
         "Male",
         "1",
         "Yes",
         "No",
         "34.0",
         "Yes",
         "Yes",
         "No",
         "No",
         "No",
         "No",
         "No",
         "No",
         "No",
         "Month-to-Month",
         "Yes",
         "Electronic check",
         "21.07",
         "716.38,USD",
         "Yes"
        ],
        [
         "34",
         "CUST00035",
         "Female",
         "0",
         "No",
         "Yes",
         "6.0",
         "Yes",
         "No",
         "DSL",
         "No",
         "No",
         "Yes",
         "No",
         "No",
         "Yes",
         "Month-to-Month",
         "No",
         "Electronic check",
         "99.14",
         "594.84",
         "Yes"
        ],
        [
         "35",
         "CUST00036",
         "Female",
         "0",
         "No",
         "Yes",
         "31.0",
         "Yes",
         "Yes",
         "No",
         "No",
         "No",
         "No",
         "No",
         "No",
         "No",
         "Month-to-Month",
         "No",
         "Electronic check",
         "85.96",
         "2664.76",
         "Yes"
        ],
        [
         "36",
         "CUST00037",
         "Male",
         "0",
         "Yes",
         "Yes",
         "31.0",
         "Yes",
         "Yes",
         "Fiber optic",
         "No",
         "Unknown",
         "No",
         "Yes",
         "Yes",
         "No",
         "Two year",
         "No",
         "Electronic check",
         "45.99",
         "1425.69",
         "No"
        ],
        [
         "37",
         "CUST00038",
         "Female",
         "0",
         "Yes",
         "Yes",
         "19.0",
         "Yes",
         "No",
         "DSL",
         "No",
         "No",
         "No",
         "No",
         "No",
         "No",
         "Two year",
         "Yes",
         "Electronic check",
         "23.12",
         "439.28",
         "No"
        ],
        [
         "38",
         "CUST00039",
         "Male",
         "0",
         "No",
         "No",
         "45.0",
         "Yes",
         "Yes",
         "No",
         "No",
         "No",
         "No",
         "No",
         "No",
         "No",
         "Month-to-Month",
         "No",
         "Bank transfer (automatic)",
         "37.07",
         "1668.15",
         "Yes"
        ],
        [
         "39",
         "CUST00040",
         "Male",
         "0",
         "No",
         "Yes",
         "29.0",
         "Yes",
         "No",
         "DSL",
         "No",
         "No",
         "No",
         "Yes",
         "No",
         "No",
         "Two year",
         "No",
         "Mailed check",
         "35.99",
         "1043.71",
         "No"
        ],
        [
         "40",
         "CUST00041",
         "Female",
         "0",
         "Yes",
         "Yes",
         "17.0",
         "Yes",
         "No",
         "Fiber optic",
         "No",
         "Yes",
         "No",
         "No",
         "No",
         "No",
         "Month-to-Month",
         "No",
         "Electronic check",
         "117.44",
         "1996.48",
         "Yes"
        ],
        [
         "41",
         "CUST00042",
         "Male",
         "0",
         "Yes",
         "Yes",
         "999.0",
         "Yes",
         "Yes",
         "Fiber optic",
         "No",
         "No",
         "Yes",
         "No",
         "No",
         "No",
         "Month-to-Month",
         "Yes",
         "Electronic check",
         "31.6",
         "31568.4",
         "No"
        ],
        [
         "42",
         "CUST00043",
         "Female",
         "0",
         "Yes",
         "Yes",
         "2.0",
         "Yes",
         "Unknown",
         "Fiber optic",
         "No",
         "Unknown",
         "No",
         "No",
         "Yes",
         "Yes",
         "One year",
         "Yes",
         "Mailed check",
         "44.4",
         "88.8",
         "No"
        ],
        [
         "43",
         "CUST00044",
         "Female",
         "0",
         "No",
         "No",
         "42.0",
         "Yes",
         "Yes",
         "No",
         "No",
         "No",
         "No",
         "No",
         "No",
         "No",
         "Month-to-Month",
         "Yes",
         "Bank transfer (automatic)",
         "18.33",
         "769.86",
         "Yes"
        ],
        [
         "44",
         "CUST00045",
         "Female",
         "0",
         null,
         "No",
         "29.0",
         "Yes",
         "No",
         "Fiber optic",
         "Yes",
         "Yes",
         "No",
         "No",
         "No",
         "No",
         "Two year",
         "No",
         "Mailed check",
         "50.0",
         "1450.0$",
         "No"
        ],
        [
         "45",
         "CUST00046",
         "Unknown",
         "0",
         "No",
         "No",
         "8.0",
         "Yes",
         "Yes",
         "DSL",
         "No",
         "Yes",
         "Yes",
         "No",
         "Yes",
         "No",
         "Month-to-Month",
         "Yes",
         "Mailed check",
         "48.06",
         "384.48",
         "Yes"
        ],
        [
         "46",
         "CUST00047",
         "Female",
         "0",
         "No",
         "Yes",
         "7.0",
         "Yes",
         "Yes",
         "No",
         "No",
         "No",
         "No",
         "No",
         "No",
         "No",
         "Month-to-Month",
         "Yes",
         "Bank transfer (automatic)",
         "102.27",
         "715.89",
         "Yes"
        ],
        [
         "47",
         "CUST00048",
         "Female",
         "0",
         "No",
         "Yes",
         "17.0",
         "Yes",
         "No",
         "Fiber optic",
         "No",
         "Yes",
         "No",
         "No",
         "Yes",
         "No",
         "Month-to-Month",
         "No",
         "Mailed check",
         "96.78",
         "1645.26",
         "No"
        ],
        [
         "48",
         "CUST00049",
         "Male",
         "0",
         "Yes",
         "Yes",
         "25.0",
         "Yes",
         "Yes",
         "No",
         "No",
         "No",
         "No",
         "No",
         "No",
         "No",
         "One year",
         "Yes",
         "Electronic check",
         "20.99",
         "524.75",
         "No"
        ],
        [
         "49",
         "CUST00050",
         "Male",
         "0",
         "No",
         "Yes",
         "16.0",
         "Yes",
         "No",
         "Fiber optic",
         "No",
         "Unknown",
         "Yes",
         "No",
         "Yes",
         "Unknown",
         "One year",
         "No",
         "Mailed check",
         "79.64",
         "1274.24",
         "No"
        ]
       ],
       "shape": {
        "columns": 21,
        "rows": 70000
       }
      },
      "text/html": [
       "<div>\n",
       "<style scoped>\n",
       "    .dataframe tbody tr th:only-of-type {\n",
       "        vertical-align: middle;\n",
       "    }\n",
       "\n",
       "    .dataframe tbody tr th {\n",
       "        vertical-align: top;\n",
       "    }\n",
       "\n",
       "    .dataframe thead th {\n",
       "        text-align: right;\n",
       "    }\n",
       "</style>\n",
       "<table border=\"1\" class=\"dataframe\">\n",
       "  <thead>\n",
       "    <tr style=\"text-align: right;\">\n",
       "      <th></th>\n",
       "      <th>customerID</th>\n",
       "      <th>gender</th>\n",
       "      <th>SeniorCitizen</th>\n",
       "      <th>Partner</th>\n",
       "      <th>Dependents</th>\n",
       "      <th>tenure</th>\n",
       "      <th>PhoneService</th>\n",
       "      <th>MultipleLines</th>\n",
       "      <th>InternetService</th>\n",
       "      <th>OnlineSecurity</th>\n",
       "      <th>...</th>\n",
       "      <th>DeviceProtection</th>\n",
       "      <th>TechSupport</th>\n",
       "      <th>StreamingTV</th>\n",
       "      <th>StreamingMovies</th>\n",
       "      <th>Contract</th>\n",
       "      <th>PaperlessBilling</th>\n",
       "      <th>PaymentMethod</th>\n",
       "      <th>MonthlyCharges</th>\n",
       "      <th>TotalCharges</th>\n",
       "      <th>Churn</th>\n",
       "    </tr>\n",
       "  </thead>\n",
       "  <tbody>\n",
       "    <tr>\n",
       "      <th>0</th>\n",
       "      <td>CUST00001</td>\n",
       "      <td>Male</td>\n",
       "      <td>0</td>\n",
       "      <td>No</td>\n",
       "      <td>Yes</td>\n",
       "      <td>3.0</td>\n",
       "      <td>Yes</td>\n",
       "      <td>Yes</td>\n",
       "      <td>No</td>\n",
       "      <td>No</td>\n",
       "      <td>...</td>\n",
       "      <td>No</td>\n",
       "      <td>No</td>\n",
       "      <td>No</td>\n",
       "      <td>No</td>\n",
       "      <td>Month-to-Month</td>\n",
       "      <td>No</td>\n",
       "      <td>Mailed check</td>\n",
       "      <td>68.61</td>\n",
       "      <td>205.83</td>\n",
       "      <td>Yes</td>\n",
       "    </tr>\n",
       "    <tr>\n",
       "      <th>1</th>\n",
       "      <td>CUST00002</td>\n",
       "      <td>Male</td>\n",
       "      <td>1</td>\n",
       "      <td>Yes</td>\n",
       "      <td>No</td>\n",
       "      <td>2.0</td>\n",
       "      <td>Yes</td>\n",
       "      <td>Yes</td>\n",
       "      <td>DSL</td>\n",
       "      <td>No</td>\n",
       "      <td>...</td>\n",
       "      <td>No</td>\n",
       "      <td>Yes</td>\n",
       "      <td>Unknown</td>\n",
       "      <td>No</td>\n",
       "      <td>One year</td>\n",
       "      <td>Yes</td>\n",
       "      <td>Bank transfer (automatic)</td>\n",
       "      <td>23.15</td>\n",
       "      <td>46.3</td>\n",
       "      <td>No</td>\n",
       "    </tr>\n",
       "    <tr>\n",
       "      <th>2</th>\n",
       "      <td>CUST00003</td>\n",
       "      <td>Female</td>\n",
       "      <td>0</td>\n",
       "      <td>No</td>\n",
       "      <td>No</td>\n",
       "      <td>42.0</td>\n",
       "      <td>Yes</td>\n",
       "      <td>Yes</td>\n",
       "      <td>DSL</td>\n",
       "      <td>No</td>\n",
       "      <td>...</td>\n",
       "      <td>No</td>\n",
       "      <td>Unknown</td>\n",
       "      <td>Yes</td>\n",
       "      <td>Yes</td>\n",
       "      <td>Month-to-Month</td>\n",
       "      <td>No</td>\n",
       "      <td>Electronic check</td>\n",
       "      <td>42.63</td>\n",
       "      <td>1790.46</td>\n",
       "      <td>Yes</td>\n",
       "    </tr>\n",
       "    <tr>\n",
       "      <th>3</th>\n",
       "      <td>CUST00004</td>\n",
       "      <td>Female</td>\n",
       "      <td>0</td>\n",
       "      <td>No</td>\n",
       "      <td>Yes</td>\n",
       "      <td>40.0</td>\n",
       "      <td>Yes</td>\n",
       "      <td>Yes</td>\n",
       "      <td>Fiber optic</td>\n",
       "      <td>No</td>\n",
       "      <td>...</td>\n",
       "      <td>Yes</td>\n",
       "      <td>No</td>\n",
       "      <td>No</td>\n",
       "      <td>No</td>\n",
       "      <td>Month-to-Month</td>\n",
       "      <td>No</td>\n",
       "      <td>Electronic check</td>\n",
       "      <td>75.04</td>\n",
       "      <td>3001.6</td>\n",
       "      <td>No</td>\n",
       "    </tr>\n",
       "    <tr>\n",
       "      <th>4</th>\n",
       "      <td>CUST00005</td>\n",
       "      <td>Male</td>\n",
       "      <td>1</td>\n",
       "      <td>Yes</td>\n",
       "      <td>Yes</td>\n",
       "      <td>17.0</td>\n",
       "      <td>Yes</td>\n",
       "      <td>Unknown</td>\n",
       "      <td>Fiber optic</td>\n",
       "      <td>Yes</td>\n",
       "      <td>...</td>\n",
       "      <td>Yes</td>\n",
       "      <td>No</td>\n",
       "      <td>No</td>\n",
       "      <td>No</td>\n",
       "      <td>Two year</td>\n",
       "      <td>Yes</td>\n",
       "      <td>Electronic check</td>\n",
       "      <td>22.38</td>\n",
       "      <td>380.46</td>\n",
       "      <td>Yes</td>\n",
       "    </tr>\n",
       "    <tr>\n",
       "      <th>...</th>\n",
       "      <td>...</td>\n",
       "      <td>...</td>\n",
       "      <td>...</td>\n",
       "      <td>...</td>\n",
       "      <td>...</td>\n",
       "      <td>...</td>\n",
       "      <td>...</td>\n",
       "      <td>...</td>\n",
       "      <td>...</td>\n",
       "      <td>...</td>\n",
       "      <td>...</td>\n",
       "      <td>...</td>\n",
       "      <td>...</td>\n",
       "      <td>...</td>\n",
       "      <td>...</td>\n",
       "      <td>...</td>\n",
       "      <td>...</td>\n",
       "      <td>...</td>\n",
       "      <td>...</td>\n",
       "      <td>...</td>\n",
       "      <td>...</td>\n",
       "    </tr>\n",
       "    <tr>\n",
       "      <th>69995</th>\n",
       "      <td>CUST69996</td>\n",
       "      <td>Male</td>\n",
       "      <td>1</td>\n",
       "      <td>Yes</td>\n",
       "      <td>Yes</td>\n",
       "      <td>30.0</td>\n",
       "      <td>Yes</td>\n",
       "      <td>Yes</td>\n",
       "      <td>Fiber optic</td>\n",
       "      <td>Yes</td>\n",
       "      <td>...</td>\n",
       "      <td>No</td>\n",
       "      <td>Yes</td>\n",
       "      <td>No</td>\n",
       "      <td>No</td>\n",
       "      <td>Two year</td>\n",
       "      <td>No</td>\n",
       "      <td>Electronic check</td>\n",
       "      <td>74.85</td>\n",
       "      <td>2245.5</td>\n",
       "      <td>No</td>\n",
       "    </tr>\n",
       "    <tr>\n",
       "      <th>69996</th>\n",
       "      <td>CUST69997</td>\n",
       "      <td>Male</td>\n",
       "      <td>0</td>\n",
       "      <td>Yes</td>\n",
       "      <td>NaN</td>\n",
       "      <td>15.0</td>\n",
       "      <td>Yes</td>\n",
       "      <td>Yes</td>\n",
       "      <td>Fiber optic</td>\n",
       "      <td>No</td>\n",
       "      <td>...</td>\n",
       "      <td>No</td>\n",
       "      <td>No</td>\n",
       "      <td>No</td>\n",
       "      <td>No</td>\n",
       "      <td>Month-to-Month</td>\n",
       "      <td>Yes</td>\n",
       "      <td>Bank transfer (automatic)</td>\n",
       "      <td>40.67</td>\n",
       "      <td>610.05</td>\n",
       "      <td>Yes</td>\n",
       "    </tr>\n",
       "    <tr>\n",
       "      <th>69997</th>\n",
       "      <td>CUST69998</td>\n",
       "      <td>Male</td>\n",
       "      <td>0</td>\n",
       "      <td>NaN</td>\n",
       "      <td>No</td>\n",
       "      <td>20.0</td>\n",
       "      <td>Yes</td>\n",
       "      <td>No</td>\n",
       "      <td>DSL</td>\n",
       "      <td>Yes</td>\n",
       "      <td>...</td>\n",
       "      <td>No</td>\n",
       "      <td>No</td>\n",
       "      <td>Unknown</td>\n",
       "      <td>No</td>\n",
       "      <td>Month-to-Month</td>\n",
       "      <td>Yes</td>\n",
       "      <td>Mailed check</td>\n",
       "      <td>29.44</td>\n",
       "      <td>588.8</td>\n",
       "      <td>No</td>\n",
       "    </tr>\n",
       "    <tr>\n",
       "      <th>69998</th>\n",
       "      <td>CUST69999</td>\n",
       "      <td>Male</td>\n",
       "      <td>0</td>\n",
       "      <td>No</td>\n",
       "      <td>No</td>\n",
       "      <td>21.0</td>\n",
       "      <td>Yes</td>\n",
       "      <td>No</td>\n",
       "      <td>Fiber optic</td>\n",
       "      <td>No</td>\n",
       "      <td>...</td>\n",
       "      <td>No</td>\n",
       "      <td>No</td>\n",
       "      <td>Yes</td>\n",
       "      <td>No</td>\n",
       "      <td>Month-to-Month</td>\n",
       "      <td>Yes</td>\n",
       "      <td>Electronic check</td>\n",
       "      <td>46.77</td>\n",
       "      <td>982.17</td>\n",
       "      <td>No</td>\n",
       "    </tr>\n",
       "    <tr>\n",
       "      <th>69999</th>\n",
       "      <td>CUST70000</td>\n",
       "      <td>Female</td>\n",
       "      <td>0</td>\n",
       "      <td>No</td>\n",
       "      <td>No</td>\n",
       "      <td>3.0</td>\n",
       "      <td>Yes</td>\n",
       "      <td>Yes</td>\n",
       "      <td>No</td>\n",
       "      <td>No</td>\n",
       "      <td>...</td>\n",
       "      <td>No</td>\n",
       "      <td>No</td>\n",
       "      <td>No</td>\n",
       "      <td>No</td>\n",
       "      <td>Month-to-Month</td>\n",
       "      <td>No</td>\n",
       "      <td>Electronic check</td>\n",
       "      <td>72.41</td>\n",
       "      <td>217.23</td>\n",
       "      <td>Yes</td>\n",
       "    </tr>\n",
       "  </tbody>\n",
       "</table>\n",
       "<p>70000 rows × 21 columns</p>\n",
       "</div>"
      ],
      "text/plain": [
       "      customerID  gender  SeniorCitizen Partner Dependents  tenure  \\\n",
       "0      CUST00001    Male              0      No        Yes     3.0   \n",
       "1      CUST00002    Male              1     Yes         No     2.0   \n",
       "2      CUST00003  Female              0      No         No    42.0   \n",
       "3      CUST00004  Female              0      No        Yes    40.0   \n",
       "4      CUST00005    Male              1     Yes        Yes    17.0   \n",
       "...          ...     ...            ...     ...        ...     ...   \n",
       "69995  CUST69996    Male              1     Yes        Yes    30.0   \n",
       "69996  CUST69997    Male              0     Yes        NaN    15.0   \n",
       "69997  CUST69998    Male              0     NaN         No    20.0   \n",
       "69998  CUST69999    Male              0      No         No    21.0   \n",
       "69999  CUST70000  Female              0      No         No     3.0   \n",
       "\n",
       "      PhoneService MultipleLines InternetService OnlineSecurity  ...  \\\n",
       "0              Yes           Yes              No             No  ...   \n",
       "1              Yes           Yes             DSL             No  ...   \n",
       "2              Yes           Yes             DSL             No  ...   \n",
       "3              Yes           Yes     Fiber optic             No  ...   \n",
       "4              Yes       Unknown     Fiber optic            Yes  ...   \n",
       "...            ...           ...             ...            ...  ...   \n",
       "69995          Yes           Yes     Fiber optic            Yes  ...   \n",
       "69996          Yes           Yes     Fiber optic             No  ...   \n",
       "69997          Yes            No             DSL            Yes  ...   \n",
       "69998          Yes            No     Fiber optic             No  ...   \n",
       "69999          Yes           Yes              No             No  ...   \n",
       "\n",
       "      DeviceProtection TechSupport StreamingTV StreamingMovies  \\\n",
       "0                   No          No          No              No   \n",
       "1                   No         Yes     Unknown              No   \n",
       "2                   No     Unknown         Yes             Yes   \n",
       "3                  Yes          No          No              No   \n",
       "4                  Yes          No          No              No   \n",
       "...                ...         ...         ...             ...   \n",
       "69995               No         Yes          No              No   \n",
       "69996               No          No          No              No   \n",
       "69997               No          No     Unknown              No   \n",
       "69998               No          No         Yes              No   \n",
       "69999               No          No          No              No   \n",
       "\n",
       "             Contract PaperlessBilling              PaymentMethod  \\\n",
       "0      Month-to-Month               No               Mailed check   \n",
       "1            One year              Yes  Bank transfer (automatic)   \n",
       "2      Month-to-Month               No           Electronic check   \n",
       "3      Month-to-Month               No           Electronic check   \n",
       "4            Two year              Yes           Electronic check   \n",
       "...               ...              ...                        ...   \n",
       "69995        Two year               No           Electronic check   \n",
       "69996  Month-to-Month              Yes  Bank transfer (automatic)   \n",
       "69997  Month-to-Month              Yes               Mailed check   \n",
       "69998  Month-to-Month              Yes           Electronic check   \n",
       "69999  Month-to-Month               No           Electronic check   \n",
       "\n",
       "      MonthlyCharges  TotalCharges Churn  \n",
       "0              68.61        205.83   Yes  \n",
       "1              23.15          46.3    No  \n",
       "2              42.63       1790.46   Yes  \n",
       "3              75.04        3001.6    No  \n",
       "4              22.38        380.46   Yes  \n",
       "...              ...           ...   ...  \n",
       "69995          74.85        2245.5    No  \n",
       "69996          40.67        610.05   Yes  \n",
       "69997          29.44         588.8    No  \n",
       "69998          46.77        982.17    No  \n",
       "69999          72.41        217.23   Yes  \n",
       "\n",
       "[70000 rows x 21 columns]"
      ]
     },
     "execution_count": 227,
     "metadata": {},
     "output_type": "execute_result"
    }
   ],
   "source": [
    "data"
   ]
  },
  {
   "cell_type": "code",
   "execution_count": 228,
   "id": "876ddbcf",
   "metadata": {},
   "outputs": [],
   "source": [
    "# Tenure: convert to float, fix negatives to absolute value (the positive version of the number), cap at 72\n",
    "# get to 72 beacuse 6 years * 12 months = 72 months. its oftern used as a reasonable maximum for residential customer tenure\n",
    "data['tenure'] = pd.to_numeric(data['tenure'], errors='coerce') # convert to numeric, coerce errors to NaN\n"
   ]
  },
  {
   "cell_type": "code",
   "execution_count": 229,
   "id": "5daf6d2a",
   "metadata": {},
   "outputs": [
    {
     "data": {
      "application/vnd.microsoft.datawrangler.viewer.v0+json": {
       "columns": [
        {
         "name": "index",
         "rawType": "int64",
         "type": "integer"
        },
        {
         "name": "tenure",
         "rawType": "float64",
         "type": "float"
        }
       ],
       "ref": "8aabeddf-4068-4a9a-8d5e-f28b2cd2d4bc",
       "rows": [
        [
         "0",
         "3.0"
        ],
        [
         "1",
         "2.0"
        ],
        [
         "2",
         "42.0"
        ],
        [
         "3",
         "40.0"
        ],
        [
         "4",
         "17.0"
        ],
        [
         "5",
         "18.0"
        ],
        [
         "6",
         "25.0"
        ],
        [
         "7",
         "33.0"
        ],
        [
         "8",
         "6.0"
        ],
        [
         "9",
         "-5.0"
        ],
        [
         "10",
         "18.0"
        ],
        [
         "11",
         "22.0"
        ],
        [
         "12",
         "10.0"
        ],
        [
         "13",
         "2.0"
        ],
        [
         "14",
         "8.0"
        ],
        [
         "15",
         "5.0"
        ],
        [
         "16",
         "47.0"
        ],
        [
         "17",
         "28.0"
        ],
        [
         "18",
         "44.0"
        ],
        [
         "19",
         "12.0"
        ],
        [
         "20",
         "-10.0"
        ],
        [
         "21",
         "38.0"
        ],
        [
         "22",
         "21.0"
        ],
        [
         "23",
         "4.0"
        ],
        [
         "24",
         "16.0"
        ],
        [
         "25",
         "29.0"
        ],
        [
         "26",
         "5.0"
        ],
        [
         "27",
         "51.0"
        ],
        [
         "28",
         "15.0"
        ],
        [
         "29",
         "10.0"
        ],
        [
         "30",
         "9.0"
        ],
        [
         "31",
         "23.0"
        ],
        [
         "32",
         "43.0"
        ],
        [
         "33",
         "34.0"
        ],
        [
         "34",
         "6.0"
        ],
        [
         "35",
         "31.0"
        ],
        [
         "36",
         "31.0"
        ],
        [
         "37",
         "19.0"
        ],
        [
         "38",
         "45.0"
        ],
        [
         "39",
         "29.0"
        ],
        [
         "40",
         "17.0"
        ],
        [
         "41",
         "999.0"
        ],
        [
         "42",
         "2.0"
        ],
        [
         "43",
         "42.0"
        ],
        [
         "44",
         "29.0"
        ],
        [
         "45",
         "8.0"
        ],
        [
         "46",
         "7.0"
        ],
        [
         "47",
         "17.0"
        ],
        [
         "48",
         "25.0"
        ],
        [
         "49",
         "16.0"
        ]
       ],
       "shape": {
        "columns": 1,
        "rows": 70000
       }
      },
      "text/plain": [
       "0         3.0\n",
       "1         2.0\n",
       "2        42.0\n",
       "3        40.0\n",
       "4        17.0\n",
       "         ... \n",
       "69995    30.0\n",
       "69996    15.0\n",
       "69997    20.0\n",
       "69998    21.0\n",
       "69999     3.0\n",
       "Name: tenure, Length: 70000, dtype: float64"
      ]
     },
     "execution_count": 229,
     "metadata": {},
     "output_type": "execute_result"
    }
   ],
   "source": [
    "data['tenure']"
   ]
  },
  {
   "cell_type": "code",
   "execution_count": 230,
   "id": "435d6240",
   "metadata": {},
   "outputs": [
    {
     "data": {
      "application/vnd.microsoft.datawrangler.viewer.v0+json": {
       "columns": [
        {
         "name": "index",
         "rawType": "int64",
         "type": "integer"
        },
        {
         "name": "tenure",
         "rawType": "float64",
         "type": "float"
        }
       ],
       "ref": "7d9a2ce6-d77d-4dc9-a819-36ba4249aa9b",
       "rows": [
        [
         "0",
         "3.0"
        ],
        [
         "1",
         "2.0"
        ],
        [
         "2",
         "42.0"
        ],
        [
         "3",
         "40.0"
        ],
        [
         "4",
         "17.0"
        ],
        [
         "5",
         "18.0"
        ],
        [
         "6",
         "25.0"
        ],
        [
         "7",
         "33.0"
        ],
        [
         "8",
         "6.0"
        ],
        [
         "9",
         "5.0"
        ],
        [
         "10",
         "18.0"
        ],
        [
         "11",
         "22.0"
        ],
        [
         "12",
         "10.0"
        ],
        [
         "13",
         "2.0"
        ],
        [
         "14",
         "8.0"
        ],
        [
         "15",
         "5.0"
        ],
        [
         "16",
         "47.0"
        ],
        [
         "17",
         "28.0"
        ],
        [
         "18",
         "44.0"
        ],
        [
         "19",
         "12.0"
        ],
        [
         "20",
         "10.0"
        ],
        [
         "21",
         "38.0"
        ],
        [
         "22",
         "21.0"
        ],
        [
         "23",
         "4.0"
        ],
        [
         "24",
         "16.0"
        ],
        [
         "25",
         "29.0"
        ],
        [
         "26",
         "5.0"
        ],
        [
         "27",
         "51.0"
        ],
        [
         "28",
         "15.0"
        ],
        [
         "29",
         "10.0"
        ],
        [
         "30",
         "9.0"
        ],
        [
         "31",
         "23.0"
        ],
        [
         "32",
         "43.0"
        ],
        [
         "33",
         "34.0"
        ],
        [
         "34",
         "6.0"
        ],
        [
         "35",
         "31.0"
        ],
        [
         "36",
         "31.0"
        ],
        [
         "37",
         "19.0"
        ],
        [
         "38",
         "45.0"
        ],
        [
         "39",
         "29.0"
        ],
        [
         "40",
         "17.0"
        ],
        [
         "41",
         "999.0"
        ],
        [
         "42",
         "2.0"
        ],
        [
         "43",
         "42.0"
        ],
        [
         "44",
         "29.0"
        ],
        [
         "45",
         "8.0"
        ],
        [
         "46",
         "7.0"
        ],
        [
         "47",
         "17.0"
        ],
        [
         "48",
         "25.0"
        ],
        [
         "49",
         "16.0"
        ]
       ],
       "shape": {
        "columns": 1,
        "rows": 70000
       }
      },
      "text/plain": [
       "0         3.0\n",
       "1         2.0\n",
       "2        42.0\n",
       "3        40.0\n",
       "4        17.0\n",
       "         ... \n",
       "69995    30.0\n",
       "69996    15.0\n",
       "69997    20.0\n",
       "69998    21.0\n",
       "69999     3.0\n",
       "Name: tenure, Length: 70000, dtype: float64"
      ]
     },
     "execution_count": 230,
     "metadata": {},
     "output_type": "execute_result"
    }
   ],
   "source": [
    "data['tenure'] = data['tenure'].apply(lambda x: abs(x) if x < 0 else x) # fix negatives to absolute value (the positive version of the number)\n",
    "data['tenure']"
   ]
  },
  {
   "cell_type": "code",
   "execution_count": 231,
   "id": "a7adee81",
   "metadata": {},
   "outputs": [
    {
     "data": {
      "text/plain": [
       "np.float64(999.0)"
      ]
     },
     "execution_count": 231,
     "metadata": {},
     "output_type": "execute_result"
    }
   ],
   "source": [
    "data['tenure'].max()"
   ]
  },
  {
   "cell_type": "code",
   "execution_count": 232,
   "id": "86378a3e",
   "metadata": {},
   "outputs": [
    {
     "data": {
      "application/vnd.microsoft.datawrangler.viewer.v0+json": {
       "columns": [
        {
         "name": "index",
         "rawType": "int64",
         "type": "integer"
        },
        {
         "name": "tenure",
         "rawType": "float64",
         "type": "float"
        }
       ],
       "ref": "5c51aac6-1f0c-46c5-b378-da33b3560e5a",
       "rows": [
        [
         "0",
         "3.0"
        ],
        [
         "1",
         "2.0"
        ],
        [
         "2",
         "42.0"
        ],
        [
         "3",
         "40.0"
        ],
        [
         "4",
         "17.0"
        ],
        [
         "5",
         "18.0"
        ],
        [
         "6",
         "25.0"
        ],
        [
         "7",
         "33.0"
        ],
        [
         "8",
         "6.0"
        ],
        [
         "9",
         "5.0"
        ],
        [
         "10",
         "18.0"
        ],
        [
         "11",
         "22.0"
        ],
        [
         "12",
         "10.0"
        ],
        [
         "13",
         "2.0"
        ],
        [
         "14",
         "8.0"
        ],
        [
         "15",
         "5.0"
        ],
        [
         "16",
         "47.0"
        ],
        [
         "17",
         "28.0"
        ],
        [
         "18",
         "44.0"
        ],
        [
         "19",
         "12.0"
        ],
        [
         "20",
         "10.0"
        ],
        [
         "21",
         "38.0"
        ],
        [
         "22",
         "21.0"
        ],
        [
         "23",
         "4.0"
        ],
        [
         "24",
         "16.0"
        ],
        [
         "25",
         "29.0"
        ],
        [
         "26",
         "5.0"
        ],
        [
         "27",
         "51.0"
        ],
        [
         "28",
         "15.0"
        ],
        [
         "29",
         "10.0"
        ],
        [
         "30",
         "9.0"
        ],
        [
         "31",
         "23.0"
        ],
        [
         "32",
         "43.0"
        ],
        [
         "33",
         "34.0"
        ],
        [
         "34",
         "6.0"
        ],
        [
         "35",
         "31.0"
        ],
        [
         "36",
         "31.0"
        ],
        [
         "37",
         "19.0"
        ],
        [
         "38",
         "45.0"
        ],
        [
         "39",
         "29.0"
        ],
        [
         "40",
         "17.0"
        ],
        [
         "41",
         "72.0"
        ],
        [
         "42",
         "2.0"
        ],
        [
         "43",
         "42.0"
        ],
        [
         "44",
         "29.0"
        ],
        [
         "45",
         "8.0"
        ],
        [
         "46",
         "7.0"
        ],
        [
         "47",
         "17.0"
        ],
        [
         "48",
         "25.0"
        ],
        [
         "49",
         "16.0"
        ]
       ],
       "shape": {
        "columns": 1,
        "rows": 70000
       }
      },
      "text/plain": [
       "0         3.0\n",
       "1         2.0\n",
       "2        42.0\n",
       "3        40.0\n",
       "4        17.0\n",
       "         ... \n",
       "69995    30.0\n",
       "69996    15.0\n",
       "69997    20.0\n",
       "69998    21.0\n",
       "69999     3.0\n",
       "Name: tenure, Length: 70000, dtype: float64"
      ]
     },
     "execution_count": 232,
     "metadata": {},
     "output_type": "execute_result"
    }
   ],
   "source": [
    "data['tenure'] = data['tenure'].apply(lambda x: 72 if x > 72 else x)  # cap at 72 months\n",
    "data['tenure']"
   ]
  },
  {
   "cell_type": "code",
   "execution_count": 233,
   "id": "acae9a90",
   "metadata": {},
   "outputs": [
    {
     "data": {
      "text/plain": [
       "np.float64(72.0)"
      ]
     },
     "execution_count": 233,
     "metadata": {},
     "output_type": "execute_result"
    }
   ],
   "source": [
    "data['tenure'].max()"
   ]
  },
  {
   "cell_type": "code",
   "execution_count": 234,
   "id": "29d831a8",
   "metadata": {},
   "outputs": [],
   "source": [
    "data['tenure'] = data['tenure'].fillna(0)  # temporary fill for now"
   ]
  },
  {
   "cell_type": "code",
   "execution_count": 235,
   "id": "655d922b",
   "metadata": {},
   "outputs": [
    {
     "data": {
      "application/vnd.microsoft.datawrangler.viewer.v0+json": {
       "columns": [
        {
         "name": "index",
         "rawType": "int64",
         "type": "integer"
        },
        {
         "name": "TotalCharges",
         "rawType": "object",
         "type": "unknown"
        }
       ],
       "ref": "f7e9fe20-1da1-4d8b-9c5d-79828c980171",
       "rows": [
        [
         "0",
         "205.83"
        ],
        [
         "1",
         "46.3"
        ],
        [
         "2",
         "1790.46"
        ],
        [
         "3",
         "3001.6"
        ],
        [
         "4",
         "380.46"
        ],
        [
         "5",
         "670.14"
        ],
        [
         "6",
         "1686.75"
        ],
        [
         "7",
         "2517.9"
        ],
        [
         "8",
         "389.16"
        ],
        [
         "9",
         "0"
        ],
        [
         "10",
         "885.06"
        ],
        [
         "11",
         "510.4"
        ],
        [
         "12",
         "345.7"
        ],
        [
         "13",
         "96.72"
        ],
        [
         "14",
         "426.88"
        ],
        [
         "15",
         "195.7"
        ],
        [
         "16",
         "1805.74"
        ],
        [
         "17",
         "2786.84"
        ],
        [
         "18",
         "996.16"
        ],
        [
         "19",
         "1406.64"
        ],
        [
         "20",
         "0"
        ],
        [
         "21",
         "2328.26"
        ],
        [
         "22",
         "776.16"
        ],
        [
         "23",
         "168.04"
        ],
        [
         "24",
         "19398.88"
        ],
        [
         "25",
         "3219.0"
        ],
        [
         "26",
         "216.8"
        ],
        [
         "27",
         "5121.42"
        ],
        [
         "28",
         "1020.9"
        ],
        [
         "29",
         "1154.7"
        ],
        [
         "30",
         "221.58"
        ],
        [
         "31",
         "1148.16"
        ],
        [
         "32",
         "3352.28"
        ],
        [
         "33",
         "716.38,USD"
        ],
        [
         "34",
         "594.84"
        ],
        [
         "35",
         "2664.76"
        ],
        [
         "36",
         "1425.69"
        ],
        [
         "37",
         "439.28"
        ],
        [
         "38",
         "1668.15"
        ],
        [
         "39",
         "1043.71"
        ],
        [
         "40",
         "1996.48"
        ],
        [
         "41",
         "31568.4"
        ],
        [
         "42",
         "88.8"
        ],
        [
         "43",
         "769.86"
        ],
        [
         "44",
         "1450.0$"
        ],
        [
         "45",
         "384.48"
        ],
        [
         "46",
         "715.89"
        ],
        [
         "47",
         "1645.26"
        ],
        [
         "48",
         "524.75"
        ],
        [
         "49",
         "1274.24"
        ]
       ],
       "shape": {
        "columns": 1,
        "rows": 70000
       }
      },
      "text/plain": [
       "0         205.83\n",
       "1           46.3\n",
       "2        1790.46\n",
       "3         3001.6\n",
       "4         380.46\n",
       "          ...   \n",
       "69995     2245.5\n",
       "69996     610.05\n",
       "69997      588.8\n",
       "69998     982.17\n",
       "69999     217.23\n",
       "Name: TotalCharges, Length: 70000, dtype: object"
      ]
     },
     "execution_count": 235,
     "metadata": {},
     "output_type": "execute_result"
    }
   ],
   "source": [
    "# Charges: clean TotalCharges\n",
    "data['TotalCharges']"
   ]
  },
  {
   "cell_type": "code",
   "execution_count": 236,
   "id": "0ec191c5",
   "metadata": {},
   "outputs": [
    {
     "data": {
      "application/vnd.microsoft.datawrangler.viewer.v0+json": {
       "columns": [
        {
         "name": "index",
         "rawType": "int64",
         "type": "integer"
        },
        {
         "name": "TotalCharges",
         "rawType": "float64",
         "type": "float"
        }
       ],
       "ref": "be1801a2-9454-4dcf-a990-b49e008be252",
       "rows": [
        [
         "0",
         "205.83"
        ],
        [
         "1",
         "46.3"
        ],
        [
         "2",
         "1790.46"
        ],
        [
         "3",
         "3001.6"
        ],
        [
         "4",
         "380.46"
        ],
        [
         "5",
         "670.14"
        ],
        [
         "6",
         "1686.75"
        ],
        [
         "7",
         "2517.9"
        ],
        [
         "8",
         "389.16"
        ],
        [
         "9",
         "0.0"
        ],
        [
         "10",
         "885.06"
        ],
        [
         "11",
         "510.4"
        ],
        [
         "12",
         "345.7"
        ],
        [
         "13",
         "96.72"
        ],
        [
         "14",
         "426.88"
        ],
        [
         "15",
         "195.7"
        ],
        [
         "16",
         "1805.74"
        ],
        [
         "17",
         "2786.84"
        ],
        [
         "18",
         "996.16"
        ],
        [
         "19",
         "1406.64"
        ],
        [
         "20",
         "0.0"
        ],
        [
         "21",
         "2328.26"
        ],
        [
         "22",
         "776.16"
        ],
        [
         "23",
         "168.04"
        ],
        [
         "24",
         "19398.88"
        ],
        [
         "25",
         "3219.0"
        ],
        [
         "26",
         "216.8"
        ],
        [
         "27",
         "5121.42"
        ],
        [
         "28",
         "1020.9"
        ],
        [
         "29",
         "1154.7"
        ],
        [
         "30",
         "221.58"
        ],
        [
         "31",
         "1148.16"
        ],
        [
         "32",
         "3352.28"
        ],
        [
         "33",
         "716.38"
        ],
        [
         "34",
         "594.84"
        ],
        [
         "35",
         "2664.76"
        ],
        [
         "36",
         "1425.69"
        ],
        [
         "37",
         "439.28"
        ],
        [
         "38",
         "1668.15"
        ],
        [
         "39",
         "1043.71"
        ],
        [
         "40",
         "1996.48"
        ],
        [
         "41",
         "31568.4"
        ],
        [
         "42",
         "88.8"
        ],
        [
         "43",
         "769.86"
        ],
        [
         "44",
         "1450.0"
        ],
        [
         "45",
         "384.48"
        ],
        [
         "46",
         "715.89"
        ],
        [
         "47",
         "1645.26"
        ],
        [
         "48",
         "524.75"
        ],
        [
         "49",
         "1274.24"
        ]
       ],
       "shape": {
        "columns": 1,
        "rows": 70000
       }
      },
      "text/plain": [
       "0         205.83\n",
       "1          46.30\n",
       "2        1790.46\n",
       "3        3001.60\n",
       "4         380.46\n",
       "          ...   \n",
       "69995    2245.50\n",
       "69996     610.05\n",
       "69997     588.80\n",
       "69998     982.17\n",
       "69999     217.23\n",
       "Name: TotalCharges, Length: 70000, dtype: float64"
      ]
     },
     "execution_count": 236,
     "metadata": {},
     "output_type": "execute_result"
    }
   ],
   "source": [
    "data['TotalCharges'] = data['TotalCharges'].astype(str).str.replace(r'[^\\d.]', '', regex=True).replace('', np.nan).astype(float) # convert to float, coerce errors to NaN\n",
    "data['TotalCharges']"
   ]
  },
  {
   "cell_type": "code",
   "execution_count": 237,
   "id": "c2457501",
   "metadata": {},
   "outputs": [
    {
     "data": {
      "application/vnd.microsoft.datawrangler.viewer.v0+json": {
       "columns": [
        {
         "name": "index",
         "rawType": "int64",
         "type": "integer"
        },
        {
         "name": "MonthlyCharges",
         "rawType": "float64",
         "type": "float"
        }
       ],
       "ref": "a743d7db-5da5-4f10-8c3d-e28956a3bb26",
       "rows": [
        [
         "0",
         "68.61"
        ],
        [
         "1",
         "23.15"
        ],
        [
         "2",
         "42.63"
        ],
        [
         "3",
         "75.04"
        ],
        [
         "4",
         "22.38"
        ],
        [
         "5",
         "37.23"
        ],
        [
         "6",
         "67.47"
        ],
        [
         "7",
         "76.3"
        ],
        [
         "8",
         "64.86"
        ],
        [
         "9",
         "18.6"
        ],
        [
         "10",
         "49.17"
        ],
        [
         "11",
         "23.2"
        ],
        [
         "12",
         "34.57"
        ],
        [
         "13",
         "48.36"
        ],
        [
         "14",
         "53.36"
        ],
        [
         "15",
         "39.14"
        ],
        [
         "16",
         "38.42"
        ],
        [
         "17",
         "99.53"
        ],
        [
         "18",
         "22.64"
        ],
        [
         "19",
         "117.22"
        ],
        [
         "20",
         "102.35"
        ],
        [
         "21",
         "61.27"
        ],
        [
         "22",
         "36.96"
        ],
        [
         "23",
         "42.01"
        ],
        [
         "24",
         "1212.43"
        ],
        [
         "25",
         "111.0"
        ],
        [
         "26",
         "43.36"
        ],
        [
         "27",
         "100.42"
        ],
        [
         "28",
         "68.06"
        ],
        [
         "29",
         "115.47"
        ],
        [
         "30",
         "24.62"
        ],
        [
         "31",
         "49.92"
        ],
        [
         "32",
         "77.96"
        ],
        [
         "33",
         "21.07"
        ],
        [
         "34",
         "99.14"
        ],
        [
         "35",
         "85.96"
        ],
        [
         "36",
         "45.99"
        ],
        [
         "37",
         "23.12"
        ],
        [
         "38",
         "37.07"
        ],
        [
         "39",
         "35.99"
        ],
        [
         "40",
         "117.44"
        ],
        [
         "41",
         "31.6"
        ],
        [
         "42",
         "44.4"
        ],
        [
         "43",
         "18.33"
        ],
        [
         "44",
         "50.0"
        ],
        [
         "45",
         "48.06"
        ],
        [
         "46",
         "102.27"
        ],
        [
         "47",
         "96.78"
        ],
        [
         "48",
         "20.99"
        ],
        [
         "49",
         "79.64"
        ]
       ],
       "shape": {
        "columns": 1,
        "rows": 70000
       }
      },
      "text/plain": [
       "0        68.61\n",
       "1        23.15\n",
       "2        42.63\n",
       "3        75.04\n",
       "4        22.38\n",
       "         ...  \n",
       "69995    74.85\n",
       "69996    40.67\n",
       "69997    29.44\n",
       "69998    46.77\n",
       "69999    72.41\n",
       "Name: MonthlyCharges, Length: 70000, dtype: float64"
      ]
     },
     "execution_count": 237,
     "metadata": {},
     "output_type": "execute_result"
    }
   ],
   "source": [
    "# MonthlyCharges: to float\n",
    "data['MonthlyCharges']"
   ]
  },
  {
   "cell_type": "code",
   "execution_count": 238,
   "id": "8c4cee72",
   "metadata": {},
   "outputs": [
    {
     "data": {
      "application/vnd.microsoft.datawrangler.viewer.v0+json": {
       "columns": [
        {
         "name": "index",
         "rawType": "int64",
         "type": "integer"
        },
        {
         "name": "MonthlyCharges",
         "rawType": "float64",
         "type": "float"
        }
       ],
       "ref": "25db8082-57bb-4303-a62c-acd5ba83243b",
       "rows": [
        [
         "0",
         "68.61"
        ],
        [
         "1",
         "23.15"
        ],
        [
         "2",
         "42.63"
        ],
        [
         "3",
         "75.04"
        ],
        [
         "4",
         "22.38"
        ],
        [
         "5",
         "37.23"
        ],
        [
         "6",
         "67.47"
        ],
        [
         "7",
         "76.3"
        ],
        [
         "8",
         "64.86"
        ],
        [
         "9",
         "18.6"
        ],
        [
         "10",
         "49.17"
        ],
        [
         "11",
         "23.2"
        ],
        [
         "12",
         "34.57"
        ],
        [
         "13",
         "48.36"
        ],
        [
         "14",
         "53.36"
        ],
        [
         "15",
         "39.14"
        ],
        [
         "16",
         "38.42"
        ],
        [
         "17",
         "99.53"
        ],
        [
         "18",
         "22.64"
        ],
        [
         "19",
         "117.22"
        ],
        [
         "20",
         "102.35"
        ],
        [
         "21",
         "61.27"
        ],
        [
         "22",
         "36.96"
        ],
        [
         "23",
         "42.01"
        ],
        [
         "24",
         "1212.43"
        ],
        [
         "25",
         "111.0"
        ],
        [
         "26",
         "43.36"
        ],
        [
         "27",
         "100.42"
        ],
        [
         "28",
         "68.06"
        ],
        [
         "29",
         "115.47"
        ],
        [
         "30",
         "24.62"
        ],
        [
         "31",
         "49.92"
        ],
        [
         "32",
         "77.96"
        ],
        [
         "33",
         "21.07"
        ],
        [
         "34",
         "99.14"
        ],
        [
         "35",
         "85.96"
        ],
        [
         "36",
         "45.99"
        ],
        [
         "37",
         "23.12"
        ],
        [
         "38",
         "37.07"
        ],
        [
         "39",
         "35.99"
        ],
        [
         "40",
         "117.44"
        ],
        [
         "41",
         "31.6"
        ],
        [
         "42",
         "44.4"
        ],
        [
         "43",
         "18.33"
        ],
        [
         "44",
         "50.0"
        ],
        [
         "45",
         "48.06"
        ],
        [
         "46",
         "102.27"
        ],
        [
         "47",
         "96.78"
        ],
        [
         "48",
         "20.99"
        ],
        [
         "49",
         "79.64"
        ]
       ],
       "shape": {
        "columns": 1,
        "rows": 70000
       }
      },
      "text/plain": [
       "0        68.61\n",
       "1        23.15\n",
       "2        42.63\n",
       "3        75.04\n",
       "4        22.38\n",
       "         ...  \n",
       "69995    74.85\n",
       "69996    40.67\n",
       "69997    29.44\n",
       "69998    46.77\n",
       "69999    72.41\n",
       "Name: MonthlyCharges, Length: 70000, dtype: float64"
      ]
     },
     "execution_count": 238,
     "metadata": {},
     "output_type": "execute_result"
    }
   ],
   "source": [
    "data['MonthlyCharges'] = pd.to_numeric(data['MonthlyCharges'], errors='coerce')\n",
    "data['MonthlyCharges']"
   ]
  },
  {
   "cell_type": "code",
   "execution_count": 239,
   "id": "b8f22ef8",
   "metadata": {},
   "outputs": [],
   "source": [
    "# Function to smooth values by bin mean\n",
    "def smooth_by_bin_mean(series, bins=5):\n",
    "    # Create equal-frequency bins\n",
    "    cats = pd.qcut(series.rank(method=\"first\"), q=bins, labels=False, duplicates='drop')\n",
    "    bin_means = series.groupby(cats).transform('mean')\n",
    "    return bin_means\n",
    "\n",
    "\n",
    "# Apply smoothing for tenure, MonthlyCharges, TotalCharges\n",
    "data['tenure'] = smooth_by_bin_mean(data['tenure'], bins=7)\n",
    "data['MonthlyCharges'] = smooth_by_bin_mean(data['MonthlyCharges'], bins=7)\n",
    "data['TotalCharges'] = smooth_by_bin_mean(data['TotalCharges'], bins=7)"
   ]
  },
  {
   "cell_type": "code",
   "execution_count": 240,
   "id": "17e116d1",
   "metadata": {},
   "outputs": [
    {
     "data": {
      "application/vnd.microsoft.datawrangler.viewer.v0+json": {
       "columns": [
        {
         "name": "index",
         "rawType": "int64",
         "type": "integer"
        },
        {
         "name": "tenure",
         "rawType": "float64",
         "type": "float"
        }
       ],
       "ref": "1a56f4e2-2f2a-473f-885c-e0d7834a5191",
       "rows": [
        [
         "0",
         "3.0428"
        ],
        [
         "1",
         "3.0428"
        ],
        [
         "2",
         "36.87"
        ],
        [
         "3",
         "36.87"
        ],
        [
         "4",
         "14.1083"
        ],
        [
         "5",
         "20.0413"
        ],
        [
         "6",
         "27.0189"
        ],
        [
         "7",
         "36.87"
        ],
        [
         "8",
         "3.0428"
        ],
        [
         "9",
         "3.0428"
        ],
        [
         "10",
         "20.0413"
        ],
        [
         "11",
         "20.0413"
        ],
        [
         "12",
         "8.5125"
        ],
        [
         "13",
         "3.0428"
        ],
        [
         "14",
         "8.5125"
        ],
        [
         "15",
         "3.0428"
        ],
        [
         "16",
         "50.7354"
        ],
        [
         "17",
         "27.0189"
        ],
        [
         "18",
         "50.7354"
        ],
        [
         "19",
         "14.1083"
        ],
        [
         "20",
         "8.5125"
        ],
        [
         "21",
         "36.87"
        ],
        [
         "22",
         "20.0413"
        ],
        [
         "23",
         "3.0428"
        ],
        [
         "24",
         "14.1083"
        ],
        [
         "25",
         "27.0189"
        ],
        [
         "26",
         "3.0428"
        ],
        [
         "27",
         "50.7354"
        ],
        [
         "28",
         "14.1083"
        ],
        [
         "29",
         "8.5125"
        ],
        [
         "30",
         "8.5125"
        ],
        [
         "31",
         "20.0413"
        ],
        [
         "32",
         "50.7354"
        ],
        [
         "33",
         "36.87"
        ],
        [
         "34",
         "3.0428"
        ],
        [
         "35",
         "27.0189"
        ],
        [
         "36",
         "27.0189"
        ],
        [
         "37",
         "20.0413"
        ],
        [
         "38",
         "50.7354"
        ],
        [
         "39",
         "27.0189"
        ],
        [
         "40",
         "14.1083"
        ],
        [
         "41",
         "50.7354"
        ],
        [
         "42",
         "3.0428"
        ],
        [
         "43",
         "36.87"
        ],
        [
         "44",
         "27.0189"
        ],
        [
         "45",
         "8.5125"
        ],
        [
         "46",
         "8.5125"
        ],
        [
         "47",
         "14.1083"
        ],
        [
         "48",
         "27.0189"
        ],
        [
         "49",
         "14.1083"
        ]
       ],
       "shape": {
        "columns": 1,
        "rows": 70000
       }
      },
      "text/plain": [
       "0         3.0428\n",
       "1         3.0428\n",
       "2        36.8700\n",
       "3        36.8700\n",
       "4        14.1083\n",
       "          ...   \n",
       "69995    27.0189\n",
       "69996    14.1083\n",
       "69997    20.0413\n",
       "69998    20.0413\n",
       "69999     3.0428\n",
       "Name: tenure, Length: 70000, dtype: float64"
      ]
     },
     "execution_count": 240,
     "metadata": {},
     "output_type": "execute_result"
    }
   ],
   "source": [
    "data['tenure']"
   ]
  },
  {
   "cell_type": "code",
   "execution_count": 241,
   "id": "96ad18c5",
   "metadata": {},
   "outputs": [
    {
     "data": {
      "application/vnd.microsoft.datawrangler.viewer.v0+json": {
       "columns": [
        {
         "name": "index",
         "rawType": "int64",
         "type": "integer"
        },
        {
         "name": "MonthlyCharges",
         "rawType": "float64",
         "type": "float"
        }
       ],
       "ref": "e230e586-d1b6-4710-bce3-c51853270ed2",
       "rows": [
        [
         "0",
         "71.90797968624295"
        ],
        [
         "1",
         "21.35117747611865"
        ],
        [
         "2",
         "41.157793644408684"
        ],
        [
         "3",
         "71.90797968624295"
        ],
        [
         "4",
         "21.35117747611865"
        ],
        [
         "5",
         "34.567088989441935"
        ],
        [
         "6",
         "71.90797968624295"
        ],
        [
         "7",
         "71.90797968624295"
        ],
        [
         "8",
         "71.90797968624295"
        ],
        [
         "9",
         "21.35117747611865"
        ],
        [
         "10",
         "48.18418200100553"
        ],
        [
         "11",
         "21.35117747611865"
        ],
        [
         "12",
         "34.567088989441935"
        ],
        [
         "13",
         "48.18418200100553"
        ],
        [
         "14",
         "48.18418200100553"
        ],
        [
         "15",
         "41.157793644408684"
        ],
        [
         "16",
         "41.157793644408684"
        ],
        [
         "17",
         "178.95003821015584"
        ],
        [
         "18",
         "21.35117747611865"
        ],
        [
         "19",
         "178.95003821015584"
        ],
        [
         "20",
         "178.95003821015584"
        ],
        [
         "21",
         "71.90797968624295"
        ],
        [
         "22",
         "34.567088989441935"
        ],
        [
         "23",
         "41.157793644408684"
        ],
        [
         "24",
         "178.95003821015584"
        ],
        [
         "25",
         "178.95003821015584"
        ],
        [
         "26",
         "41.157793644408684"
        ],
        [
         "27",
         "178.95003821015584"
        ],
        [
         "28",
         "71.90797968624295"
        ],
        [
         "29",
         "178.95003821015584"
        ],
        [
         "30",
         "21.35117747611865"
        ],
        [
         "31",
         "48.18418200100553"
        ],
        [
         "32",
         "71.90797968624295"
        ],
        [
         "33",
         "21.35117747611865"
        ],
        [
         "34",
         "178.95003821015584"
        ],
        [
         "35",
         "71.90797968624295"
        ],
        [
         "36",
         "48.18418200100553"
        ],
        [
         "37",
         "21.35117747611865"
        ],
        [
         "38",
         "34.567088989441935"
        ],
        [
         "39",
         "34.567088989441935"
        ],
        [
         "40",
         "178.95003821015584"
        ],
        [
         "41",
         "34.567088989441935"
        ],
        [
         "42",
         "41.157793644408684"
        ],
        [
         "43",
         "21.35117747611865"
        ],
        [
         "44",
         "48.18418200100553"
        ],
        [
         "45",
         "48.18418200100553"
        ],
        [
         "46",
         "178.95003821015584"
        ],
        [
         "47",
         "178.95003821015584"
        ],
        [
         "48",
         "21.35117747611865"
        ],
        [
         "49",
         "71.90797968624295"
        ]
       ],
       "shape": {
        "columns": 1,
        "rows": 70000
       }
      },
      "text/plain": [
       "0        71.907980\n",
       "1        21.351177\n",
       "2        41.157794\n",
       "3        71.907980\n",
       "4        21.351177\n",
       "           ...    \n",
       "69995    71.907980\n",
       "69996    41.157794\n",
       "69997    27.997485\n",
       "69998    48.184182\n",
       "69999    71.907980\n",
       "Name: MonthlyCharges, Length: 70000, dtype: float64"
      ]
     },
     "execution_count": 241,
     "metadata": {},
     "output_type": "execute_result"
    }
   ],
   "source": [
    "data['MonthlyCharges']"
   ]
  },
  {
   "cell_type": "code",
   "execution_count": 242,
   "id": "a154101b",
   "metadata": {},
   "outputs": [
    {
     "data": {
      "application/vnd.microsoft.datawrangler.viewer.v0+json": {
       "columns": [
        {
         "name": "index",
         "rawType": "int64",
         "type": "integer"
        },
        {
         "name": "TotalCharges",
         "rawType": "float64",
         "type": "float"
        }
       ],
       "ref": "e24b02f4-f48a-4e38-bc6f-4b898a0cf96f",
       "rows": [
        [
         "0",
         "99.81018013433747"
        ],
        [
         "1",
         "99.81018013433747"
        ],
        [
         "2",
         "1727.3070384693672"
        ],
        [
         "3",
         "8097.2584223918575"
        ],
        [
         "4",
         "324.7893821882952"
        ],
        [
         "5",
         "556.8986605597964"
        ],
        [
         "6",
         "1727.3070384693672"
        ],
        [
         "7",
         "8097.2584223918575"
        ],
        [
         "8",
         "324.7893821882952"
        ],
        [
         "9",
         "99.81018013433747"
        ],
        [
         "10",
         "825.3176010178116"
        ],
        [
         "11",
         "556.8986605597964"
        ],
        [
         "12",
         "324.7893821882952"
        ],
        [
         "13",
         "99.81018013433747"
        ],
        [
         "14",
         "324.7893821882952"
        ],
        [
         "15",
         "99.81018013433747"
        ],
        [
         "16",
         "1727.3070384693672"
        ],
        [
         "17",
         "8097.2584223918575"
        ],
        [
         "18",
         "1173.0636471905536"
        ],
        [
         "19",
         "1727.3070384693672"
        ],
        [
         "20",
         "99.81018013433747"
        ],
        [
         "21",
         "8097.2584223918575"
        ],
        [
         "22",
         "825.3176010178116"
        ],
        [
         "23",
         "99.81018013433747"
        ],
        [
         "24",
         "8097.2584223918575"
        ],
        [
         "25",
         "8097.2584223918575"
        ],
        [
         "26",
         "324.7893821882952"
        ],
        [
         "27",
         "8097.2584223918575"
        ],
        [
         "28",
         "1173.0636471905536"
        ],
        [
         "29",
         "1173.0636471905536"
        ],
        [
         "30",
         "324.7893821882952"
        ],
        [
         "31",
         "1173.0636471905536"
        ],
        [
         "32",
         "8097.2584223918575"
        ],
        [
         "33",
         "825.3176010178116"
        ],
        [
         "34",
         "556.8986605597964"
        ],
        [
         "35",
         "8097.2584223918575"
        ],
        [
         "36",
         "1727.3070384693672"
        ],
        [
         "37",
         "556.8986605597964"
        ],
        [
         "38",
         "1727.3070384693672"
        ],
        [
         "39",
         "1173.0636471905536"
        ],
        [
         "40",
         "1727.3070384693672"
        ],
        [
         "41",
         "8097.2584223918575"
        ],
        [
         "42",
         "99.81018013433747"
        ],
        [
         "43",
         "825.3176010178116"
        ],
        [
         "44",
         "1727.3070384693672"
        ],
        [
         "45",
         "324.7893821882952"
        ],
        [
         "46",
         "825.3176010178116"
        ],
        [
         "47",
         "1727.3070384693672"
        ],
        [
         "48",
         "556.8986605597964"
        ],
        [
         "49",
         "1173.0636471905536"
        ]
       ],
       "shape": {
        "columns": 1,
        "rows": 70000
       }
      },
      "text/plain": [
       "0          99.810180\n",
       "1          99.810180\n",
       "2        1727.307038\n",
       "3        8097.258422\n",
       "4         324.789382\n",
       "            ...     \n",
       "69995    8097.258422\n",
       "69996     556.898661\n",
       "69997     556.898661\n",
       "69998    1173.063647\n",
       "69999     324.789382\n",
       "Name: TotalCharges, Length: 70000, dtype: float64"
      ]
     },
     "execution_count": 242,
     "metadata": {},
     "output_type": "execute_result"
    }
   ],
   "source": [
    "data['TotalCharges']"
   ]
  },
  {
   "cell_type": "code",
   "execution_count": 243,
   "id": "72ff33c1",
   "metadata": {},
   "outputs": [],
   "source": [
    "# 4. Outlier Handling using IQR\n",
    "numerical_cols = ['tenure', 'MonthlyCharges', 'TotalCharges']\n",
    "Q1 = data[numerical_cols].quantile(0.25)\n",
    "Q3 = data[numerical_cols].quantile(0.75)\n",
    "IQR = Q3 - Q1\n",
    "outlier_mask = ~((data[numerical_cols] < (Q1 - 1.5 * IQR)) | (data[numerical_cols] > (Q3 + 1.5 * IQR))).any(axis=1)\n",
    "data = data[outlier_mask]"
   ]
  },
  {
   "cell_type": "code",
   "execution_count": 244,
   "id": "e501c5c7",
   "metadata": {},
   "outputs": [
    {
     "data": {
      "application/vnd.microsoft.datawrangler.viewer.v0+json": {
       "columns": [
        {
         "name": "index",
         "rawType": "int64",
         "type": "integer"
        },
        {
         "name": "TotalCharges",
         "rawType": "float64",
         "type": "float"
        }
       ],
       "ref": "1db38ddb-f3aa-482e-b394-65220aa49ce0",
       "rows": [
        [
         "0",
         "99.81018013433747"
        ],
        [
         "1",
         "99.81018013433747"
        ],
        [
         "2",
         "1727.3070384693672"
        ],
        [
         "4",
         "324.7893821882952"
        ],
        [
         "5",
         "556.8986605597964"
        ],
        [
         "6",
         "1727.3070384693672"
        ],
        [
         "8",
         "324.7893821882952"
        ],
        [
         "9",
         "99.81018013433747"
        ],
        [
         "10",
         "825.3176010178116"
        ],
        [
         "11",
         "556.8986605597964"
        ],
        [
         "12",
         "324.7893821882952"
        ],
        [
         "13",
         "99.81018013433747"
        ],
        [
         "14",
         "324.7893821882952"
        ],
        [
         "15",
         "99.81018013433747"
        ],
        [
         "16",
         "1727.3070384693672"
        ],
        [
         "18",
         "1173.0636471905536"
        ],
        [
         "22",
         "825.3176010178116"
        ],
        [
         "23",
         "99.81018013433747"
        ],
        [
         "26",
         "324.7893821882952"
        ],
        [
         "28",
         "1173.0636471905536"
        ],
        [
         "30",
         "324.7893821882952"
        ],
        [
         "31",
         "1173.0636471905536"
        ],
        [
         "33",
         "825.3176010178116"
        ],
        [
         "36",
         "1727.3070384693672"
        ],
        [
         "37",
         "556.8986605597964"
        ],
        [
         "38",
         "1727.3070384693672"
        ],
        [
         "39",
         "1173.0636471905536"
        ],
        [
         "42",
         "99.81018013433747"
        ],
        [
         "43",
         "825.3176010178116"
        ],
        [
         "44",
         "1727.3070384693672"
        ],
        [
         "45",
         "324.7893821882952"
        ],
        [
         "48",
         "556.8986605597964"
        ],
        [
         "49",
         "1173.0636471905536"
        ],
        [
         "50",
         "99.81018013433747"
        ],
        [
         "51",
         "825.3176010178116"
        ],
        [
         "52",
         "1727.3070384693672"
        ],
        [
         "54",
         "1173.0636471905536"
        ],
        [
         "56",
         "99.81018013433747"
        ],
        [
         "57",
         "556.8986605597964"
        ],
        [
         "58",
         "1173.0636471905536"
        ],
        [
         "59",
         "1727.3070384693672"
        ],
        [
         "61",
         "99.81018013433747"
        ],
        [
         "63",
         "825.3176010178116"
        ],
        [
         "64",
         "1173.0636471905536"
        ],
        [
         "65",
         "825.3176010178116"
        ],
        [
         "66",
         "1727.3070384693672"
        ],
        [
         "67",
         "556.8986605597964"
        ],
        [
         "68",
         "324.7893821882952"
        ],
        [
         "69",
         "556.8986605597964"
        ],
        [
         "70",
         "556.8986605597964"
        ]
       ],
       "shape": {
        "columns": 1,
        "rows": 55280
       }
      },
      "text/plain": [
       "0          99.810180\n",
       "1          99.810180\n",
       "2        1727.307038\n",
       "4         324.789382\n",
       "5         556.898661\n",
       "            ...     \n",
       "69994     825.317601\n",
       "69996     556.898661\n",
       "69997     556.898661\n",
       "69998    1173.063647\n",
       "69999     324.789382\n",
       "Name: TotalCharges, Length: 55280, dtype: float64"
      ]
     },
     "execution_count": 244,
     "metadata": {},
     "output_type": "execute_result"
    }
   ],
   "source": [
    "data['TotalCharges']"
   ]
  },
  {
   "cell_type": "markdown",
   "id": "1a6fe06d",
   "metadata": {},
   "source": [
    "Handle Missing Data"
   ]
  },
  {
   "cell_type": "code",
   "execution_count": 245,
   "id": "bcc10cdc",
   "metadata": {},
   "outputs": [
    {
     "data": {
      "text/plain": [
       "np.int64(0)"
      ]
     },
     "execution_count": 245,
     "metadata": {},
     "output_type": "execute_result"
    }
   ],
   "source": [
    "data['tenure'].isna().sum()"
   ]
  },
  {
   "cell_type": "code",
   "execution_count": 246,
   "id": "8d222459",
   "metadata": {},
   "outputs": [],
   "source": [
    "for col in data.columns:\n",
    "\n",
    "    if data[col].dtype == \"object\" and col not in [\"customerID\", \"Churn\"]:\n",
    "        data.loc[:, col] = data[col].fillna(\"Unknown\")\n",
    "\n",
    "    elif data[col].dtype == \"object\":\n",
    "        data.loc[:, col] = data[col].fillna(\n",
    "            data[col].mode()[0] if not data[col].mode().empty else \"Unknown\"\n",
    "        )"
   ]
  },
  {
   "cell_type": "code",
   "execution_count": 247,
   "id": "e8f4006d",
   "metadata": {},
   "outputs": [],
   "source": [
    "# List of numerical columns to impute\n",
    "numerical_cols = ['tenure', 'MonthlyCharges', 'TotalCharges']\n",
    "\n",
    "# Median imputation grouped by Churn\n",
    "for col in numerical_cols:\n",
    "    data.loc[:, col] = data.groupby('Churn')[col].transform(lambda x: x.fillna(x.median()))\n"
   ]
  },
  {
   "cell_type": "code",
   "execution_count": 248,
   "id": "afc623f5",
   "metadata": {},
   "outputs": [
    {
     "data": {
      "application/vnd.microsoft.datawrangler.viewer.v0+json": {
       "columns": [
        {
         "name": "index",
         "rawType": "int64",
         "type": "integer"
        },
        {
         "name": "customerID",
         "rawType": "object",
         "type": "string"
        },
        {
         "name": "gender",
         "rawType": "object",
         "type": "string"
        },
        {
         "name": "SeniorCitizen",
         "rawType": "int64",
         "type": "integer"
        },
        {
         "name": "Partner",
         "rawType": "object",
         "type": "string"
        },
        {
         "name": "Dependents",
         "rawType": "object",
         "type": "string"
        },
        {
         "name": "tenure",
         "rawType": "float64",
         "type": "float"
        },
        {
         "name": "PhoneService",
         "rawType": "object",
         "type": "string"
        },
        {
         "name": "MultipleLines",
         "rawType": "object",
         "type": "string"
        },
        {
         "name": "InternetService",
         "rawType": "object",
         "type": "string"
        },
        {
         "name": "OnlineSecurity",
         "rawType": "object",
         "type": "string"
        },
        {
         "name": "OnlineBackup",
         "rawType": "object",
         "type": "string"
        },
        {
         "name": "DeviceProtection",
         "rawType": "object",
         "type": "string"
        },
        {
         "name": "TechSupport",
         "rawType": "object",
         "type": "string"
        },
        {
         "name": "StreamingTV",
         "rawType": "object",
         "type": "string"
        },
        {
         "name": "StreamingMovies",
         "rawType": "object",
         "type": "string"
        },
        {
         "name": "Contract",
         "rawType": "object",
         "type": "string"
        },
        {
         "name": "PaperlessBilling",
         "rawType": "object",
         "type": "string"
        },
        {
         "name": "PaymentMethod",
         "rawType": "object",
         "type": "string"
        },
        {
         "name": "MonthlyCharges",
         "rawType": "float64",
         "type": "float"
        },
        {
         "name": "TotalCharges",
         "rawType": "float64",
         "type": "float"
        },
        {
         "name": "Churn",
         "rawType": "object",
         "type": "string"
        }
       ],
       "ref": "b19c2d39-4829-455e-b98f-8bbc80838963",
       "rows": [
        [
         "0",
         "CUST00001",
         "Male",
         "0",
         "No",
         "Yes",
         "3.0428",
         "Yes",
         "Yes",
         "No",
         "No",
         "No",
         "No",
         "No",
         "No",
         "No",
         "Month-to-Month",
         "No",
         "Mailed check",
         "71.90797968624295",
         "99.81018013433747",
         "Yes"
        ],
        [
         "1",
         "CUST00002",
         "Male",
         "1",
         "Yes",
         "No",
         "3.0428",
         "Yes",
         "Yes",
         "DSL",
         "No",
         "No",
         "No",
         "Yes",
         "Unknown",
         "No",
         "One year",
         "Yes",
         "Bank transfer (automatic)",
         "21.35117747611865",
         "99.81018013433747",
         "No"
        ],
        [
         "2",
         "CUST00003",
         "Female",
         "0",
         "No",
         "No",
         "36.87",
         "Yes",
         "Yes",
         "DSL",
         "No",
         "Yes",
         "No",
         "Unknown",
         "Yes",
         "Yes",
         "Month-to-Month",
         "No",
         "Electronic check",
         "41.157793644408684",
         "1727.3070384693672",
         "Yes"
        ],
        [
         "4",
         "CUST00005",
         "Male",
         "1",
         "Yes",
         "Yes",
         "14.1083",
         "Yes",
         "Unknown",
         "Fiber optic",
         "Yes",
         "No",
         "Yes",
         "No",
         "No",
         "No",
         "Two year",
         "Yes",
         "Electronic check",
         "21.35117747611865",
         "324.7893821882952",
         "Yes"
        ],
        [
         "5",
         "CUST00006",
         "Male",
         "0",
         "Yes",
         "No",
         "20.0413",
         "Yes",
         "No",
         "Fiber optic",
         "No",
         "No",
         "Unknown",
         "Yes",
         "Unknown",
         "No",
         "One year",
         "No",
         "Electronic check",
         "34.567088989441935",
         "556.8986605597964",
         "Yes"
        ],
        [
         "6",
         "CUST00007",
         "Female",
         "0",
         "No",
         "No",
         "27.0189",
         "Yes",
         "Yes",
         "No",
         "No",
         "No",
         "No",
         "No",
         "No",
         "No",
         "One year",
         "Yes",
         "Mailed check",
         "71.90797968624295",
         "1727.3070384693672",
         "No"
        ],
        [
         "8",
         "CUST00009",
         "Female",
         "0",
         "Yes",
         "No",
         "3.0428",
         "Yes",
         "Yes",
         "DSL",
         "Yes",
         "No",
         "No",
         "No",
         "No",
         "No",
         "Month-to-Month",
         "No",
         "Electronic check",
         "71.90797968624295",
         "324.7893821882952",
         "No"
        ],
        [
         "9",
         "CUST00010",
         "Female",
         "0",
         "Yes",
         "No",
         "3.0428",
         "Yes",
         "No",
         "No",
         "No",
         "No",
         "No",
         "No",
         "No",
         "No",
         "Month-to-Month",
         "No",
         "Electronic check",
         "21.35117747611865",
         "99.81018013433747",
         "Yes"
        ],
        [
         "10",
         "CUST00011",
         "Female",
         "0",
         "No",
         "No",
         "20.0413",
         "Yes",
         "No",
         "No",
         "No",
         "No",
         "No",
         "No",
         "No",
         "No",
         "One year",
         "No",
         "Electronic check",
         "48.18418200100553",
         "825.3176010178116",
         "No"
        ],
        [
         "11",
         "CUST00012",
         "Male",
         "0",
         "Yes",
         "No",
         "20.0413",
         "Yes",
         "No",
         "No",
         "No",
         "No",
         "No",
         "No",
         "No",
         "No",
         "Month-to-Month",
         "Yes",
         "Mailed check",
         "21.35117747611865",
         "556.8986605597964",
         "Yes"
        ],
        [
         "12",
         "CUST00013",
         "Female",
         "1",
         "Yes",
         "No",
         "8.5125",
         "Yes",
         "Yes",
         "DSL",
         "No",
         "No",
         "No",
         "Yes",
         "No",
         "No",
         "Month-to-Month",
         "Yes",
         "Electronic check",
         "34.567088989441935",
         "324.7893821882952",
         "No"
        ],
        [
         "13",
         "CUST00014",
         "Male",
         "0",
         "Yes",
         "No",
         "3.0428",
         "Yes",
         "Unknown",
         "Fiber optic",
         "No",
         "No",
         "No",
         "Unknown",
         "No",
         "No",
         "Month-to-Month",
         "Yes",
         "Electronic check",
         "48.18418200100553",
         "99.81018013433747",
         "Yes"
        ],
        [
         "14",
         "CUST00015",
         "Male",
         "0",
         "Yes",
         "No",
         "8.5125",
         "Yes",
         "Yes",
         "Fiber optic",
         "Yes",
         "No",
         "Yes",
         "No",
         "No",
         "No",
         "Two year",
         "No",
         "Credit card (automatic)",
         "48.18418200100553",
         "324.7893821882952",
         "No"
        ],
        [
         "15",
         "CUST00016",
         "Female",
         "0",
         "No",
         "No",
         "3.0428",
         "No",
         "No",
         "Fiber optic",
         "Yes",
         "No",
         "Yes",
         "Yes",
         "No",
         "No",
         "One year",
         "No",
         "Credit card (automatic)",
         "41.157793644408684",
         "99.81018013433747",
         "No"
        ],
        [
         "16",
         "CUST00017",
         "Female",
         "0",
         "Yes",
         "No",
         "50.7354",
         "Yes",
         "Yes",
         "No",
         "No",
         "No",
         "No",
         "No",
         "No",
         "No",
         "One year",
         "Yes",
         "Bank transfer (automatic)",
         "41.157793644408684",
         "1727.3070384693672",
         "No"
        ],
        [
         "18",
         "CUST00019",
         "Female",
         "0",
         "Yes",
         "No",
         "50.7354",
         "Yes",
         "No",
         "DSL",
         "No",
         "No",
         "No",
         "No",
         "Yes",
         "No",
         "One year",
         "No",
         "Electronic check",
         "21.35117747611865",
         "1173.0636471905536",
         "No"
        ],
        [
         "22",
         "CUST00023",
         "Male",
         "0",
         "Yes",
         "No",
         "20.0413",
         "Yes",
         "Yes",
         "Fiber optic",
         "Yes",
         "No",
         "No",
         "Yes",
         "No",
         "No",
         "Two year",
         "Yes",
         "Bank transfer (automatic)",
         "34.567088989441935",
         "825.3176010178116",
         "Yes"
        ],
        [
         "23",
         "CUST00024",
         "Male",
         "0",
         "No",
         "No",
         "3.0428",
         "Yes",
         "Unknown",
         "DSL",
         "Yes",
         "No",
         "No",
         "Yes",
         "Yes",
         "No",
         "Month-to-Month",
         "No",
         "Bank transfer (automatic)",
         "41.157793644408684",
         "99.81018013433747",
         "No"
        ],
        [
         "26",
         "CUST00027",
         "Male",
         "0",
         "No",
         "No",
         "3.0428",
         "Yes",
         "Yes",
         "No",
         "No",
         "No",
         "No",
         "No",
         "No",
         "No",
         "Two year",
         "Yes",
         "Mailed check",
         "41.157793644408684",
         "324.7893821882952",
         "No"
        ],
        [
         "28",
         "CUST00029",
         "Female",
         "0",
         "No",
         "No",
         "14.1083",
         "Yes",
         "Yes",
         "Fiber optic",
         "No",
         "No",
         "No",
         "No",
         "No",
         "No",
         "Month-to-Month",
         "Yes",
         "Mailed check",
         "71.90797968624295",
         "1173.0636471905536",
         "Yes"
        ],
        [
         "30",
         "CUST00031",
         "Female",
         "1",
         "No",
         "No",
         "8.5125",
         "Yes",
         "No",
         "DSL",
         "No",
         "No",
         "Unknown",
         "No",
         "Unknown",
         "No",
         "One year",
         "No",
         "Mailed check",
         "21.35117747611865",
         "324.7893821882952",
         "No"
        ],
        [
         "31",
         "CUST00032",
         "Male",
         "0",
         "No",
         "No",
         "20.0413",
         "Yes",
         "No",
         "Fiber optic",
         "No",
         "No",
         "No",
         "No",
         "No",
         "Yes",
         "Month-to-Month",
         "Yes",
         "Credit card (automatic)",
         "48.18418200100553",
         "1173.0636471905536",
         "Yes"
        ],
        [
         "33",
         "CUST00034",
         "Male",
         "1",
         "Yes",
         "No",
         "36.87",
         "Yes",
         "Yes",
         "No",
         "No",
         "No",
         "No",
         "No",
         "No",
         "No",
         "Month-to-Month",
         "Yes",
         "Electronic check",
         "21.35117747611865",
         "825.3176010178116",
         "Yes"
        ],
        [
         "36",
         "CUST00037",
         "Male",
         "0",
         "Yes",
         "Yes",
         "27.0189",
         "Yes",
         "Yes",
         "Fiber optic",
         "No",
         "Unknown",
         "No",
         "Yes",
         "Yes",
         "No",
         "Two year",
         "No",
         "Electronic check",
         "48.18418200100553",
         "1727.3070384693672",
         "No"
        ],
        [
         "37",
         "CUST00038",
         "Female",
         "0",
         "Yes",
         "Yes",
         "20.0413",
         "Yes",
         "No",
         "DSL",
         "No",
         "No",
         "No",
         "No",
         "No",
         "No",
         "Two year",
         "Yes",
         "Electronic check",
         "21.35117747611865",
         "556.8986605597964",
         "No"
        ],
        [
         "38",
         "CUST00039",
         "Male",
         "0",
         "No",
         "No",
         "50.7354",
         "Yes",
         "Yes",
         "No",
         "No",
         "No",
         "No",
         "No",
         "No",
         "No",
         "Month-to-Month",
         "No",
         "Bank transfer (automatic)",
         "34.567088989441935",
         "1727.3070384693672",
         "Yes"
        ],
        [
         "39",
         "CUST00040",
         "Male",
         "0",
         "No",
         "Yes",
         "27.0189",
         "Yes",
         "No",
         "DSL",
         "No",
         "No",
         "No",
         "Yes",
         "No",
         "No",
         "Two year",
         "No",
         "Mailed check",
         "34.567088989441935",
         "1173.0636471905536",
         "No"
        ],
        [
         "42",
         "CUST00043",
         "Female",
         "0",
         "Yes",
         "Yes",
         "3.0428",
         "Yes",
         "Unknown",
         "Fiber optic",
         "No",
         "Unknown",
         "No",
         "No",
         "Yes",
         "Yes",
         "One year",
         "Yes",
         "Mailed check",
         "41.157793644408684",
         "99.81018013433747",
         "No"
        ],
        [
         "43",
         "CUST00044",
         "Female",
         "0",
         "No",
         "No",
         "36.87",
         "Yes",
         "Yes",
         "No",
         "No",
         "No",
         "No",
         "No",
         "No",
         "No",
         "Month-to-Month",
         "Yes",
         "Bank transfer (automatic)",
         "21.35117747611865",
         "825.3176010178116",
         "Yes"
        ],
        [
         "44",
         "CUST00045",
         "Female",
         "0",
         "Unknown",
         "No",
         "27.0189",
         "Yes",
         "No",
         "Fiber optic",
         "Yes",
         "Yes",
         "No",
         "No",
         "No",
         "No",
         "Two year",
         "No",
         "Mailed check",
         "48.18418200100553",
         "1727.3070384693672",
         "No"
        ],
        [
         "45",
         "CUST00046",
         "Unknown",
         "0",
         "No",
         "No",
         "8.5125",
         "Yes",
         "Yes",
         "DSL",
         "No",
         "Yes",
         "Yes",
         "No",
         "Yes",
         "No",
         "Month-to-Month",
         "Yes",
         "Mailed check",
         "48.18418200100553",
         "324.7893821882952",
         "Yes"
        ],
        [
         "48",
         "CUST00049",
         "Male",
         "0",
         "Yes",
         "Yes",
         "27.0189",
         "Yes",
         "Yes",
         "No",
         "No",
         "No",
         "No",
         "No",
         "No",
         "No",
         "One year",
         "Yes",
         "Electronic check",
         "21.35117747611865",
         "556.8986605597964",
         "No"
        ],
        [
         "49",
         "CUST00050",
         "Male",
         "0",
         "No",
         "Yes",
         "14.1083",
         "Yes",
         "No",
         "Fiber optic",
         "No",
         "Unknown",
         "Yes",
         "No",
         "Yes",
         "Unknown",
         "One year",
         "No",
         "Mailed check",
         "71.90797968624295",
         "1173.0636471905536",
         "No"
        ],
        [
         "50",
         "CUST00051",
         "Female",
         "0",
         "No",
         "Yes",
         "3.0428",
         "Yes",
         "Yes",
         "DSL",
         "No",
         "No",
         "Unknown",
         "No",
         "No",
         "No",
         "Month-to-Month",
         "No",
         "Bank transfer (automatic)",
         "27.99748491552695",
         "99.81018013433747",
         "No"
        ],
        [
         "51",
         "CUST00052",
         "Male",
         "0",
         "No",
         "No",
         "27.0189",
         "Yes",
         "No",
         "No",
         "No",
         "No",
         "No",
         "No",
         "No",
         "No",
         "Month-to-Month",
         "Yes",
         "Electronic check",
         "27.99748491552695",
         "825.3176010178116",
         "No"
        ],
        [
         "52",
         "CUST00053",
         "Male",
         "1",
         "Yes",
         "Yes",
         "50.7354",
         "Yes",
         "Yes",
         "Fiber optic",
         "Yes",
         "Unknown",
         "Yes",
         "Yes",
         "No",
         "No",
         "One year",
         "No",
         "Electronic check",
         "27.99748491552695",
         "1727.3070384693672",
         "No"
        ],
        [
         "54",
         "CUST00055",
         "Female",
         "0",
         "No",
         "No",
         "50.7354",
         "Yes",
         "No",
         "Fiber optic",
         "No",
         "No",
         "No",
         "No",
         "No",
         "No",
         "Month-to-Month",
         "Yes",
         "Electronic check",
         "21.35117747611865",
         "1173.0636471905536",
         "No"
        ],
        [
         "56",
         "CUST00057",
         "Male",
         "0",
         "No",
         "Unknown",
         "8.5125",
         "Yes",
         "No",
         "Fiber optic",
         "No",
         "No",
         "No",
         "No",
         "No",
         "No",
         "Two year",
         "Yes",
         "Mailed check",
         "21.35117747611865",
         "99.81018013433747",
         "Yes"
        ],
        [
         "57",
         "CUST00058",
         "Male",
         "0",
         "Yes",
         "No",
         "20.0413",
         "Yes",
         "Yes",
         "Fiber optic",
         "No",
         "Yes",
         "Yes",
         "No",
         "No",
         "Yes",
         "Month-to-Month",
         "No",
         "Bank transfer (automatic)",
         "27.99748491552695",
         "556.8986605597964",
         "No"
        ],
        [
         "58",
         "CUST00059",
         "Female",
         "0",
         "Yes",
         "No",
         "50.7354",
         "Yes",
         "Yes",
         "Fiber optic",
         "No",
         "Yes",
         "No",
         "No",
         "No",
         "No",
         "Two year",
         "Yes",
         "Electronic check",
         "34.567088989441935",
         "1173.0636471905536",
         "No"
        ],
        [
         "59",
         "CUST00060",
         "Female",
         "0",
         "Yes",
         "Yes",
         "36.87",
         "Yes",
         "Yes",
         "Fiber optic",
         "No",
         "No",
         "Yes",
         "No",
         "No",
         "No",
         "Month-to-Month",
         "Yes",
         "Electronic check",
         "41.157793644408684",
         "1727.3070384693672",
         "Yes"
        ],
        [
         "61",
         "CUST00062",
         "Male",
         "0",
         "Yes",
         "No",
         "3.0428",
         "Yes",
         "No",
         "DSL",
         "No",
         "No",
         "No",
         "No",
         "No",
         "Yes",
         "Month-to-Month",
         "No",
         "Mailed check",
         "48.18418200100553",
         "99.81018013433747",
         "Yes"
        ],
        [
         "63",
         "CUST00064",
         "Male",
         "0",
         "No",
         "No",
         "27.0189",
         "Yes",
         "Yes",
         "DSL",
         "Yes",
         "No",
         "Yes",
         "No",
         "No",
         "No",
         "Two year",
         "Yes",
         "Bank transfer (automatic)",
         "21.35117747611865",
         "825.3176010178116",
         "No"
        ],
        [
         "64",
         "CUST00065",
         "Male",
         "0",
         "Yes",
         "No",
         "14.1083",
         "No",
         "No",
         "DSL",
         "Yes",
         "No",
         "No",
         "No",
         "No",
         "No",
         "One year",
         "Yes",
         "Electronic check",
         "71.90797968624295",
         "1173.0636471905536",
         "No"
        ],
        [
         "65",
         "CUST00066",
         "Female",
         "0",
         "Yes",
         "Yes",
         "20.0413",
         "Yes",
         "Yes",
         "Fiber optic",
         "No",
         "No",
         "No",
         "No",
         "No",
         "No",
         "Month-to-Month",
         "Yes",
         "Credit card (automatic)",
         "41.157793644408684",
         "825.3176010178116",
         "Yes"
        ],
        [
         "66",
         "CUST00067",
         "Female",
         "0",
         "Yes",
         "No",
         "36.87",
         "Yes",
         "Yes",
         "DSL",
         "No",
         "Yes",
         "No",
         "No",
         "No",
         "No",
         "Month-to-Month",
         "No",
         "Credit card (automatic)",
         "41.157793644408684",
         "1727.3070384693672",
         "Yes"
        ],
        [
         "67",
         "CUST00068",
         "Male",
         "1",
         "No",
         "Yes",
         "8.5125",
         "Yes",
         "No",
         "Fiber optic",
         "Unknown",
         "Yes",
         "Yes",
         "No",
         "No",
         "No",
         "Month-to-Month",
         "Yes",
         "Electronic check",
         "48.18418200100553",
         "556.8986605597964",
         "Yes"
        ],
        [
         "68",
         "CUST00069",
         "Male",
         "0",
         "No",
         "Yes",
         "3.0428",
         "Yes",
         "No",
         "DSL",
         "No",
         "No",
         "No",
         "No",
         "No",
         "No",
         "Month-to-Month",
         "No",
         "Electronic check",
         "71.90797968624295",
         "324.7893821882952",
         "No"
        ],
        [
         "69",
         "CUST00070",
         "Female",
         "0",
         "Yes",
         "Yes",
         "20.0413",
         "No",
         "No",
         "Fiber optic",
         "No",
         "No",
         "No",
         "No",
         "No",
         "No",
         "Month-to-Month",
         "Yes",
         "Bank transfer (automatic)",
         "27.99748491552695",
         "556.8986605597964",
         "Yes"
        ],
        [
         "70",
         "CUST00071",
         "Male",
         "0",
         "No",
         "No",
         "20.0413",
         "Yes",
         "No",
         "Fiber optic",
         "No",
         "No",
         "No",
         "Yes",
         "No",
         "No",
         "Two year",
         "Yes",
         "Electronic check",
         "21.35117747611865",
         "556.8986605597964",
         "Yes"
        ]
       ],
       "shape": {
        "columns": 21,
        "rows": 55280
       }
      },
      "text/html": [
       "<div>\n",
       "<style scoped>\n",
       "    .dataframe tbody tr th:only-of-type {\n",
       "        vertical-align: middle;\n",
       "    }\n",
       "\n",
       "    .dataframe tbody tr th {\n",
       "        vertical-align: top;\n",
       "    }\n",
       "\n",
       "    .dataframe thead th {\n",
       "        text-align: right;\n",
       "    }\n",
       "</style>\n",
       "<table border=\"1\" class=\"dataframe\">\n",
       "  <thead>\n",
       "    <tr style=\"text-align: right;\">\n",
       "      <th></th>\n",
       "      <th>customerID</th>\n",
       "      <th>gender</th>\n",
       "      <th>SeniorCitizen</th>\n",
       "      <th>Partner</th>\n",
       "      <th>Dependents</th>\n",
       "      <th>tenure</th>\n",
       "      <th>PhoneService</th>\n",
       "      <th>MultipleLines</th>\n",
       "      <th>InternetService</th>\n",
       "      <th>OnlineSecurity</th>\n",
       "      <th>...</th>\n",
       "      <th>DeviceProtection</th>\n",
       "      <th>TechSupport</th>\n",
       "      <th>StreamingTV</th>\n",
       "      <th>StreamingMovies</th>\n",
       "      <th>Contract</th>\n",
       "      <th>PaperlessBilling</th>\n",
       "      <th>PaymentMethod</th>\n",
       "      <th>MonthlyCharges</th>\n",
       "      <th>TotalCharges</th>\n",
       "      <th>Churn</th>\n",
       "    </tr>\n",
       "  </thead>\n",
       "  <tbody>\n",
       "    <tr>\n",
       "      <th>0</th>\n",
       "      <td>CUST00001</td>\n",
       "      <td>Male</td>\n",
       "      <td>0</td>\n",
       "      <td>No</td>\n",
       "      <td>Yes</td>\n",
       "      <td>3.0428</td>\n",
       "      <td>Yes</td>\n",
       "      <td>Yes</td>\n",
       "      <td>No</td>\n",
       "      <td>No</td>\n",
       "      <td>...</td>\n",
       "      <td>No</td>\n",
       "      <td>No</td>\n",
       "      <td>No</td>\n",
       "      <td>No</td>\n",
       "      <td>Month-to-Month</td>\n",
       "      <td>No</td>\n",
       "      <td>Mailed check</td>\n",
       "      <td>71.907980</td>\n",
       "      <td>99.810180</td>\n",
       "      <td>Yes</td>\n",
       "    </tr>\n",
       "    <tr>\n",
       "      <th>1</th>\n",
       "      <td>CUST00002</td>\n",
       "      <td>Male</td>\n",
       "      <td>1</td>\n",
       "      <td>Yes</td>\n",
       "      <td>No</td>\n",
       "      <td>3.0428</td>\n",
       "      <td>Yes</td>\n",
       "      <td>Yes</td>\n",
       "      <td>DSL</td>\n",
       "      <td>No</td>\n",
       "      <td>...</td>\n",
       "      <td>No</td>\n",
       "      <td>Yes</td>\n",
       "      <td>Unknown</td>\n",
       "      <td>No</td>\n",
       "      <td>One year</td>\n",
       "      <td>Yes</td>\n",
       "      <td>Bank transfer (automatic)</td>\n",
       "      <td>21.351177</td>\n",
       "      <td>99.810180</td>\n",
       "      <td>No</td>\n",
       "    </tr>\n",
       "    <tr>\n",
       "      <th>2</th>\n",
       "      <td>CUST00003</td>\n",
       "      <td>Female</td>\n",
       "      <td>0</td>\n",
       "      <td>No</td>\n",
       "      <td>No</td>\n",
       "      <td>36.8700</td>\n",
       "      <td>Yes</td>\n",
       "      <td>Yes</td>\n",
       "      <td>DSL</td>\n",
       "      <td>No</td>\n",
       "      <td>...</td>\n",
       "      <td>No</td>\n",
       "      <td>Unknown</td>\n",
       "      <td>Yes</td>\n",
       "      <td>Yes</td>\n",
       "      <td>Month-to-Month</td>\n",
       "      <td>No</td>\n",
       "      <td>Electronic check</td>\n",
       "      <td>41.157794</td>\n",
       "      <td>1727.307038</td>\n",
       "      <td>Yes</td>\n",
       "    </tr>\n",
       "    <tr>\n",
       "      <th>4</th>\n",
       "      <td>CUST00005</td>\n",
       "      <td>Male</td>\n",
       "      <td>1</td>\n",
       "      <td>Yes</td>\n",
       "      <td>Yes</td>\n",
       "      <td>14.1083</td>\n",
       "      <td>Yes</td>\n",
       "      <td>Unknown</td>\n",
       "      <td>Fiber optic</td>\n",
       "      <td>Yes</td>\n",
       "      <td>...</td>\n",
       "      <td>Yes</td>\n",
       "      <td>No</td>\n",
       "      <td>No</td>\n",
       "      <td>No</td>\n",
       "      <td>Two year</td>\n",
       "      <td>Yes</td>\n",
       "      <td>Electronic check</td>\n",
       "      <td>21.351177</td>\n",
       "      <td>324.789382</td>\n",
       "      <td>Yes</td>\n",
       "    </tr>\n",
       "    <tr>\n",
       "      <th>5</th>\n",
       "      <td>CUST00006</td>\n",
       "      <td>Male</td>\n",
       "      <td>0</td>\n",
       "      <td>Yes</td>\n",
       "      <td>No</td>\n",
       "      <td>20.0413</td>\n",
       "      <td>Yes</td>\n",
       "      <td>No</td>\n",
       "      <td>Fiber optic</td>\n",
       "      <td>No</td>\n",
       "      <td>...</td>\n",
       "      <td>Unknown</td>\n",
       "      <td>Yes</td>\n",
       "      <td>Unknown</td>\n",
       "      <td>No</td>\n",
       "      <td>One year</td>\n",
       "      <td>No</td>\n",
       "      <td>Electronic check</td>\n",
       "      <td>34.567089</td>\n",
       "      <td>556.898661</td>\n",
       "      <td>Yes</td>\n",
       "    </tr>\n",
       "    <tr>\n",
       "      <th>...</th>\n",
       "      <td>...</td>\n",
       "      <td>...</td>\n",
       "      <td>...</td>\n",
       "      <td>...</td>\n",
       "      <td>...</td>\n",
       "      <td>...</td>\n",
       "      <td>...</td>\n",
       "      <td>...</td>\n",
       "      <td>...</td>\n",
       "      <td>...</td>\n",
       "      <td>...</td>\n",
       "      <td>...</td>\n",
       "      <td>...</td>\n",
       "      <td>...</td>\n",
       "      <td>...</td>\n",
       "      <td>...</td>\n",
       "      <td>...</td>\n",
       "      <td>...</td>\n",
       "      <td>...</td>\n",
       "      <td>...</td>\n",
       "      <td>...</td>\n",
       "    </tr>\n",
       "    <tr>\n",
       "      <th>69994</th>\n",
       "      <td>CUST69995</td>\n",
       "      <td>Female</td>\n",
       "      <td>1</td>\n",
       "      <td>No</td>\n",
       "      <td>Yes</td>\n",
       "      <td>20.0413</td>\n",
       "      <td>Yes</td>\n",
       "      <td>Yes</td>\n",
       "      <td>Fiber optic</td>\n",
       "      <td>No</td>\n",
       "      <td>...</td>\n",
       "      <td>No</td>\n",
       "      <td>No</td>\n",
       "      <td>Yes</td>\n",
       "      <td>No</td>\n",
       "      <td>One year</td>\n",
       "      <td>Yes</td>\n",
       "      <td>Electronic check</td>\n",
       "      <td>41.157794</td>\n",
       "      <td>825.317601</td>\n",
       "      <td>No</td>\n",
       "    </tr>\n",
       "    <tr>\n",
       "      <th>69996</th>\n",
       "      <td>CUST69997</td>\n",
       "      <td>Male</td>\n",
       "      <td>0</td>\n",
       "      <td>Yes</td>\n",
       "      <td>Unknown</td>\n",
       "      <td>14.1083</td>\n",
       "      <td>Yes</td>\n",
       "      <td>Yes</td>\n",
       "      <td>Fiber optic</td>\n",
       "      <td>No</td>\n",
       "      <td>...</td>\n",
       "      <td>No</td>\n",
       "      <td>No</td>\n",
       "      <td>No</td>\n",
       "      <td>No</td>\n",
       "      <td>Month-to-Month</td>\n",
       "      <td>Yes</td>\n",
       "      <td>Bank transfer (automatic)</td>\n",
       "      <td>41.157794</td>\n",
       "      <td>556.898661</td>\n",
       "      <td>Yes</td>\n",
       "    </tr>\n",
       "    <tr>\n",
       "      <th>69997</th>\n",
       "      <td>CUST69998</td>\n",
       "      <td>Male</td>\n",
       "      <td>0</td>\n",
       "      <td>Unknown</td>\n",
       "      <td>No</td>\n",
       "      <td>20.0413</td>\n",
       "      <td>Yes</td>\n",
       "      <td>No</td>\n",
       "      <td>DSL</td>\n",
       "      <td>Yes</td>\n",
       "      <td>...</td>\n",
       "      <td>No</td>\n",
       "      <td>No</td>\n",
       "      <td>Unknown</td>\n",
       "      <td>No</td>\n",
       "      <td>Month-to-Month</td>\n",
       "      <td>Yes</td>\n",
       "      <td>Mailed check</td>\n",
       "      <td>27.997485</td>\n",
       "      <td>556.898661</td>\n",
       "      <td>No</td>\n",
       "    </tr>\n",
       "    <tr>\n",
       "      <th>69998</th>\n",
       "      <td>CUST69999</td>\n",
       "      <td>Male</td>\n",
       "      <td>0</td>\n",
       "      <td>No</td>\n",
       "      <td>No</td>\n",
       "      <td>20.0413</td>\n",
       "      <td>Yes</td>\n",
       "      <td>No</td>\n",
       "      <td>Fiber optic</td>\n",
       "      <td>No</td>\n",
       "      <td>...</td>\n",
       "      <td>No</td>\n",
       "      <td>No</td>\n",
       "      <td>Yes</td>\n",
       "      <td>No</td>\n",
       "      <td>Month-to-Month</td>\n",
       "      <td>Yes</td>\n",
       "      <td>Electronic check</td>\n",
       "      <td>48.184182</td>\n",
       "      <td>1173.063647</td>\n",
       "      <td>No</td>\n",
       "    </tr>\n",
       "    <tr>\n",
       "      <th>69999</th>\n",
       "      <td>CUST70000</td>\n",
       "      <td>Female</td>\n",
       "      <td>0</td>\n",
       "      <td>No</td>\n",
       "      <td>No</td>\n",
       "      <td>3.0428</td>\n",
       "      <td>Yes</td>\n",
       "      <td>Yes</td>\n",
       "      <td>No</td>\n",
       "      <td>No</td>\n",
       "      <td>...</td>\n",
       "      <td>No</td>\n",
       "      <td>No</td>\n",
       "      <td>No</td>\n",
       "      <td>No</td>\n",
       "      <td>Month-to-Month</td>\n",
       "      <td>No</td>\n",
       "      <td>Electronic check</td>\n",
       "      <td>71.907980</td>\n",
       "      <td>324.789382</td>\n",
       "      <td>Yes</td>\n",
       "    </tr>\n",
       "  </tbody>\n",
       "</table>\n",
       "<p>55280 rows × 21 columns</p>\n",
       "</div>"
      ],
      "text/plain": [
       "      customerID  gender  SeniorCitizen  Partner Dependents   tenure  \\\n",
       "0      CUST00001    Male              0       No        Yes   3.0428   \n",
       "1      CUST00002    Male              1      Yes         No   3.0428   \n",
       "2      CUST00003  Female              0       No         No  36.8700   \n",
       "4      CUST00005    Male              1      Yes        Yes  14.1083   \n",
       "5      CUST00006    Male              0      Yes         No  20.0413   \n",
       "...          ...     ...            ...      ...        ...      ...   \n",
       "69994  CUST69995  Female              1       No        Yes  20.0413   \n",
       "69996  CUST69997    Male              0      Yes    Unknown  14.1083   \n",
       "69997  CUST69998    Male              0  Unknown         No  20.0413   \n",
       "69998  CUST69999    Male              0       No         No  20.0413   \n",
       "69999  CUST70000  Female              0       No         No   3.0428   \n",
       "\n",
       "      PhoneService MultipleLines InternetService OnlineSecurity  ...  \\\n",
       "0              Yes           Yes              No             No  ...   \n",
       "1              Yes           Yes             DSL             No  ...   \n",
       "2              Yes           Yes             DSL             No  ...   \n",
       "4              Yes       Unknown     Fiber optic            Yes  ...   \n",
       "5              Yes            No     Fiber optic             No  ...   \n",
       "...            ...           ...             ...            ...  ...   \n",
       "69994          Yes           Yes     Fiber optic             No  ...   \n",
       "69996          Yes           Yes     Fiber optic             No  ...   \n",
       "69997          Yes            No             DSL            Yes  ...   \n",
       "69998          Yes            No     Fiber optic             No  ...   \n",
       "69999          Yes           Yes              No             No  ...   \n",
       "\n",
       "      DeviceProtection TechSupport StreamingTV StreamingMovies  \\\n",
       "0                   No          No          No              No   \n",
       "1                   No         Yes     Unknown              No   \n",
       "2                   No     Unknown         Yes             Yes   \n",
       "4                  Yes          No          No              No   \n",
       "5              Unknown         Yes     Unknown              No   \n",
       "...                ...         ...         ...             ...   \n",
       "69994               No          No         Yes              No   \n",
       "69996               No          No          No              No   \n",
       "69997               No          No     Unknown              No   \n",
       "69998               No          No         Yes              No   \n",
       "69999               No          No          No              No   \n",
       "\n",
       "             Contract PaperlessBilling              PaymentMethod  \\\n",
       "0      Month-to-Month               No               Mailed check   \n",
       "1            One year              Yes  Bank transfer (automatic)   \n",
       "2      Month-to-Month               No           Electronic check   \n",
       "4            Two year              Yes           Electronic check   \n",
       "5            One year               No           Electronic check   \n",
       "...               ...              ...                        ...   \n",
       "69994        One year              Yes           Electronic check   \n",
       "69996  Month-to-Month              Yes  Bank transfer (automatic)   \n",
       "69997  Month-to-Month              Yes               Mailed check   \n",
       "69998  Month-to-Month              Yes           Electronic check   \n",
       "69999  Month-to-Month               No           Electronic check   \n",
       "\n",
       "      MonthlyCharges  TotalCharges  Churn  \n",
       "0          71.907980     99.810180    Yes  \n",
       "1          21.351177     99.810180     No  \n",
       "2          41.157794   1727.307038    Yes  \n",
       "4          21.351177    324.789382    Yes  \n",
       "5          34.567089    556.898661    Yes  \n",
       "...              ...           ...    ...  \n",
       "69994      41.157794    825.317601     No  \n",
       "69996      41.157794    556.898661    Yes  \n",
       "69997      27.997485    556.898661     No  \n",
       "69998      48.184182   1173.063647     No  \n",
       "69999      71.907980    324.789382    Yes  \n",
       "\n",
       "[55280 rows x 21 columns]"
      ]
     },
     "execution_count": 248,
     "metadata": {},
     "output_type": "execute_result"
    }
   ],
   "source": [
    "data"
   ]
  },
  {
   "cell_type": "code",
   "execution_count": 249,
   "id": "49045dec",
   "metadata": {},
   "outputs": [
    {
     "name": "stdout",
     "output_type": "stream",
     "text": [
      "\n",
      "Cleaned DataFrame Info:\n",
      "<class 'pandas.core.frame.DataFrame'>\n",
      "Index: 55280 entries, 0 to 69999\n",
      "Data columns (total 21 columns):\n",
      " #   Column            Non-Null Count  Dtype  \n",
      "---  ------            --------------  -----  \n",
      " 0   customerID        55280 non-null  object \n",
      " 1   gender            55280 non-null  object \n",
      " 2   SeniorCitizen     55280 non-null  int64  \n",
      " 3   Partner           55280 non-null  object \n",
      " 4   Dependents        55280 non-null  object \n",
      " 5   tenure            55280 non-null  float64\n",
      " 6   PhoneService      55280 non-null  object \n",
      " 7   MultipleLines     55280 non-null  object \n",
      " 8   InternetService   55280 non-null  object \n",
      " 9   OnlineSecurity    55280 non-null  object \n",
      " 10  OnlineBackup      55280 non-null  object \n",
      " 11  DeviceProtection  55280 non-null  object \n",
      " 12  TechSupport       55280 non-null  object \n",
      " 13  StreamingTV       55280 non-null  object \n",
      " 14  StreamingMovies   55280 non-null  object \n",
      " 15  Contract          55280 non-null  object \n",
      " 16  PaperlessBilling  55280 non-null  object \n",
      " 17  PaymentMethod     55280 non-null  object \n",
      " 18  MonthlyCharges    55280 non-null  float64\n",
      " 19  TotalCharges      55280 non-null  float64\n",
      " 20  Churn             55280 non-null  object \n",
      "dtypes: float64(3), int64(1), object(17)\n",
      "memory usage: 9.3+ MB\n",
      "None\n",
      "\n",
      "Cleaned Descriptive Statistics:\n",
      "       SeniorCitizen       tenure  MonthlyCharges  TotalCharges\n",
      "count   55280.000000  55280.00000    55280.000000  55280.000000\n",
      "mean        0.198915     20.96863       39.064587    757.681586\n",
      "std         0.399187     14.40140       15.197291    528.463533\n",
      "min         0.000000      3.04280       21.351177     99.810180\n",
      "25%         0.000000      8.51250       27.997485    324.789382\n",
      "50%         0.000000     20.04130       34.567089    556.898661\n",
      "75%         0.000000     27.01890       48.184182   1173.063647\n",
      "max         1.000000     50.73540       71.907980   1727.307038\n",
      "\n",
      "Cleaned Missing Values:\n",
      "customerID          0\n",
      "gender              0\n",
      "SeniorCitizen       0\n",
      "Partner             0\n",
      "Dependents          0\n",
      "tenure              0\n",
      "PhoneService        0\n",
      "MultipleLines       0\n",
      "InternetService     0\n",
      "OnlineSecurity      0\n",
      "OnlineBackup        0\n",
      "DeviceProtection    0\n",
      "TechSupport         0\n",
      "StreamingTV         0\n",
      "StreamingMovies     0\n",
      "Contract            0\n",
      "PaperlessBilling    0\n",
      "PaymentMethod       0\n",
      "MonthlyCharges      0\n",
      "TotalCharges        0\n",
      "Churn               0\n",
      "dtype: int64\n"
     ]
    }
   ],
   "source": [
    "print(\"\\nCleaned DataFrame Info:\")\n",
    "print(data.info())\n",
    "print(\"\\nCleaned Descriptive Statistics:\")\n",
    "print(data.describe())\n",
    "print(\"\\nCleaned Missing Values:\")\n",
    "print(data.isnull().sum())"
   ]
  },
  {
   "cell_type": "code",
   "execution_count": 250,
   "id": "ea04d052",
   "metadata": {},
   "outputs": [
    {
     "data": {
      "application/vnd.microsoft.datawrangler.viewer.v0+json": {
       "columns": [
        {
         "name": "Churn",
         "rawType": "object",
         "type": "string"
        },
        {
         "name": "count",
         "rawType": "int64",
         "type": "integer"
        }
       ],
       "ref": "b2ec3d97-d20e-4f74-9149-ce2e7477acee",
       "rows": [
        [
         "No",
         "29362"
        ],
        [
         "Yes",
         "25918"
        ]
       ],
       "shape": {
        "columns": 1,
        "rows": 2
       }
      },
      "text/plain": [
       "Churn\n",
       "No     29362\n",
       "Yes    25918\n",
       "Name: count, dtype: int64"
      ]
     },
     "execution_count": 250,
     "metadata": {},
     "output_type": "execute_result"
    }
   ],
   "source": [
    "data['Churn'].value_counts()"
   ]
  },
  {
   "cell_type": "code",
   "execution_count": 251,
   "id": "d2969372",
   "metadata": {},
   "outputs": [
    {
     "data": {
      "application/vnd.microsoft.datawrangler.viewer.v0+json": {
       "columns": [
        {
         "name": "index",
         "rawType": "int64",
         "type": "integer"
        },
        {
         "name": "customerID",
         "rawType": "object",
         "type": "string"
        },
        {
         "name": "gender",
         "rawType": "object",
         "type": "string"
        },
        {
         "name": "SeniorCitizen",
         "rawType": "int64",
         "type": "integer"
        },
        {
         "name": "Partner",
         "rawType": "object",
         "type": "string"
        },
        {
         "name": "Dependents",
         "rawType": "object",
         "type": "string"
        },
        {
         "name": "tenure",
         "rawType": "float64",
         "type": "float"
        },
        {
         "name": "PhoneService",
         "rawType": "object",
         "type": "string"
        },
        {
         "name": "MultipleLines",
         "rawType": "object",
         "type": "string"
        },
        {
         "name": "InternetService",
         "rawType": "object",
         "type": "string"
        },
        {
         "name": "OnlineSecurity",
         "rawType": "object",
         "type": "string"
        },
        {
         "name": "OnlineBackup",
         "rawType": "object",
         "type": "string"
        },
        {
         "name": "DeviceProtection",
         "rawType": "object",
         "type": "string"
        },
        {
         "name": "TechSupport",
         "rawType": "object",
         "type": "string"
        },
        {
         "name": "StreamingTV",
         "rawType": "object",
         "type": "string"
        },
        {
         "name": "StreamingMovies",
         "rawType": "object",
         "type": "string"
        },
        {
         "name": "Contract",
         "rawType": "object",
         "type": "string"
        },
        {
         "name": "PaperlessBilling",
         "rawType": "object",
         "type": "string"
        },
        {
         "name": "PaymentMethod",
         "rawType": "object",
         "type": "string"
        },
        {
         "name": "MonthlyCharges",
         "rawType": "float64",
         "type": "float"
        },
        {
         "name": "TotalCharges",
         "rawType": "float64",
         "type": "float"
        },
        {
         "name": "Churn",
         "rawType": "object",
         "type": "string"
        }
       ],
       "ref": "a3284941-63c5-4803-b480-3e732c6efdfb",
       "rows": [
        [
         "0",
         "CUST00001",
         "Male",
         "0",
         "No",
         "Yes",
         "3.0428",
         "Yes",
         "Yes",
         "No",
         "No",
         "No",
         "No",
         "No",
         "No",
         "No",
         "Month-to-Month",
         "No",
         "Mailed check",
         "71.90797968624295",
         "99.81018013433747",
         "Yes"
        ],
        [
         "1",
         "CUST00002",
         "Male",
         "1",
         "Yes",
         "No",
         "3.0428",
         "Yes",
         "Yes",
         "DSL",
         "No",
         "No",
         "No",
         "Yes",
         "Unknown",
         "No",
         "One year",
         "Yes",
         "Bank transfer (automatic)",
         "21.35117747611865",
         "99.81018013433747",
         "No"
        ],
        [
         "2",
         "CUST00003",
         "Female",
         "0",
         "No",
         "No",
         "36.87",
         "Yes",
         "Yes",
         "DSL",
         "No",
         "Yes",
         "No",
         "Unknown",
         "Yes",
         "Yes",
         "Month-to-Month",
         "No",
         "Electronic check",
         "41.157793644408684",
         "1727.3070384693672",
         "Yes"
        ],
        [
         "4",
         "CUST00005",
         "Male",
         "1",
         "Yes",
         "Yes",
         "14.1083",
         "Yes",
         "Unknown",
         "Fiber optic",
         "Yes",
         "No",
         "Yes",
         "No",
         "No",
         "No",
         "Two year",
         "Yes",
         "Electronic check",
         "21.35117747611865",
         "324.7893821882952",
         "Yes"
        ],
        [
         "5",
         "CUST00006",
         "Male",
         "0",
         "Yes",
         "No",
         "20.0413",
         "Yes",
         "No",
         "Fiber optic",
         "No",
         "No",
         "Unknown",
         "Yes",
         "Unknown",
         "No",
         "One year",
         "No",
         "Electronic check",
         "34.567088989441935",
         "556.8986605597964",
         "Yes"
        ],
        [
         "6",
         "CUST00007",
         "Female",
         "0",
         "No",
         "No",
         "27.0189",
         "Yes",
         "Yes",
         "No",
         "No",
         "No",
         "No",
         "No",
         "No",
         "No",
         "One year",
         "Yes",
         "Mailed check",
         "71.90797968624295",
         "1727.3070384693672",
         "No"
        ],
        [
         "8",
         "CUST00009",
         "Female",
         "0",
         "Yes",
         "No",
         "3.0428",
         "Yes",
         "Yes",
         "DSL",
         "Yes",
         "No",
         "No",
         "No",
         "No",
         "No",
         "Month-to-Month",
         "No",
         "Electronic check",
         "71.90797968624295",
         "324.7893821882952",
         "No"
        ],
        [
         "9",
         "CUST00010",
         "Female",
         "0",
         "Yes",
         "No",
         "3.0428",
         "Yes",
         "No",
         "No",
         "No",
         "No",
         "No",
         "No",
         "No",
         "No",
         "Month-to-Month",
         "No",
         "Electronic check",
         "21.35117747611865",
         "99.81018013433747",
         "Yes"
        ],
        [
         "10",
         "CUST00011",
         "Female",
         "0",
         "No",
         "No",
         "20.0413",
         "Yes",
         "No",
         "No",
         "No",
         "No",
         "No",
         "No",
         "No",
         "No",
         "One year",
         "No",
         "Electronic check",
         "48.18418200100553",
         "825.3176010178116",
         "No"
        ],
        [
         "11",
         "CUST00012",
         "Male",
         "0",
         "Yes",
         "No",
         "20.0413",
         "Yes",
         "No",
         "No",
         "No",
         "No",
         "No",
         "No",
         "No",
         "No",
         "Month-to-Month",
         "Yes",
         "Mailed check",
         "21.35117747611865",
         "556.8986605597964",
         "Yes"
        ],
        [
         "12",
         "CUST00013",
         "Female",
         "1",
         "Yes",
         "No",
         "8.5125",
         "Yes",
         "Yes",
         "DSL",
         "No",
         "No",
         "No",
         "Yes",
         "No",
         "No",
         "Month-to-Month",
         "Yes",
         "Electronic check",
         "34.567088989441935",
         "324.7893821882952",
         "No"
        ],
        [
         "13",
         "CUST00014",
         "Male",
         "0",
         "Yes",
         "No",
         "3.0428",
         "Yes",
         "Unknown",
         "Fiber optic",
         "No",
         "No",
         "No",
         "Unknown",
         "No",
         "No",
         "Month-to-Month",
         "Yes",
         "Electronic check",
         "48.18418200100553",
         "99.81018013433747",
         "Yes"
        ],
        [
         "14",
         "CUST00015",
         "Male",
         "0",
         "Yes",
         "No",
         "8.5125",
         "Yes",
         "Yes",
         "Fiber optic",
         "Yes",
         "No",
         "Yes",
         "No",
         "No",
         "No",
         "Two year",
         "No",
         "Credit card (automatic)",
         "48.18418200100553",
         "324.7893821882952",
         "No"
        ],
        [
         "15",
         "CUST00016",
         "Female",
         "0",
         "No",
         "No",
         "3.0428",
         "No",
         "No",
         "Fiber optic",
         "Yes",
         "No",
         "Yes",
         "Yes",
         "No",
         "No",
         "One year",
         "No",
         "Credit card (automatic)",
         "41.157793644408684",
         "99.81018013433747",
         "No"
        ],
        [
         "16",
         "CUST00017",
         "Female",
         "0",
         "Yes",
         "No",
         "50.7354",
         "Yes",
         "Yes",
         "No",
         "No",
         "No",
         "No",
         "No",
         "No",
         "No",
         "One year",
         "Yes",
         "Bank transfer (automatic)",
         "41.157793644408684",
         "1727.3070384693672",
         "No"
        ],
        [
         "18",
         "CUST00019",
         "Female",
         "0",
         "Yes",
         "No",
         "50.7354",
         "Yes",
         "No",
         "DSL",
         "No",
         "No",
         "No",
         "No",
         "Yes",
         "No",
         "One year",
         "No",
         "Electronic check",
         "21.35117747611865",
         "1173.0636471905536",
         "No"
        ],
        [
         "22",
         "CUST00023",
         "Male",
         "0",
         "Yes",
         "No",
         "20.0413",
         "Yes",
         "Yes",
         "Fiber optic",
         "Yes",
         "No",
         "No",
         "Yes",
         "No",
         "No",
         "Two year",
         "Yes",
         "Bank transfer (automatic)",
         "34.567088989441935",
         "825.3176010178116",
         "Yes"
        ],
        [
         "23",
         "CUST00024",
         "Male",
         "0",
         "No",
         "No",
         "3.0428",
         "Yes",
         "Unknown",
         "DSL",
         "Yes",
         "No",
         "No",
         "Yes",
         "Yes",
         "No",
         "Month-to-Month",
         "No",
         "Bank transfer (automatic)",
         "41.157793644408684",
         "99.81018013433747",
         "No"
        ],
        [
         "26",
         "CUST00027",
         "Male",
         "0",
         "No",
         "No",
         "3.0428",
         "Yes",
         "Yes",
         "No",
         "No",
         "No",
         "No",
         "No",
         "No",
         "No",
         "Two year",
         "Yes",
         "Mailed check",
         "41.157793644408684",
         "324.7893821882952",
         "No"
        ],
        [
         "28",
         "CUST00029",
         "Female",
         "0",
         "No",
         "No",
         "14.1083",
         "Yes",
         "Yes",
         "Fiber optic",
         "No",
         "No",
         "No",
         "No",
         "No",
         "No",
         "Month-to-Month",
         "Yes",
         "Mailed check",
         "71.90797968624295",
         "1173.0636471905536",
         "Yes"
        ],
        [
         "30",
         "CUST00031",
         "Female",
         "1",
         "No",
         "No",
         "8.5125",
         "Yes",
         "No",
         "DSL",
         "No",
         "No",
         "Unknown",
         "No",
         "Unknown",
         "No",
         "One year",
         "No",
         "Mailed check",
         "21.35117747611865",
         "324.7893821882952",
         "No"
        ],
        [
         "31",
         "CUST00032",
         "Male",
         "0",
         "No",
         "No",
         "20.0413",
         "Yes",
         "No",
         "Fiber optic",
         "No",
         "No",
         "No",
         "No",
         "No",
         "Yes",
         "Month-to-Month",
         "Yes",
         "Credit card (automatic)",
         "48.18418200100553",
         "1173.0636471905536",
         "Yes"
        ],
        [
         "33",
         "CUST00034",
         "Male",
         "1",
         "Yes",
         "No",
         "36.87",
         "Yes",
         "Yes",
         "No",
         "No",
         "No",
         "No",
         "No",
         "No",
         "No",
         "Month-to-Month",
         "Yes",
         "Electronic check",
         "21.35117747611865",
         "825.3176010178116",
         "Yes"
        ],
        [
         "36",
         "CUST00037",
         "Male",
         "0",
         "Yes",
         "Yes",
         "27.0189",
         "Yes",
         "Yes",
         "Fiber optic",
         "No",
         "Unknown",
         "No",
         "Yes",
         "Yes",
         "No",
         "Two year",
         "No",
         "Electronic check",
         "48.18418200100553",
         "1727.3070384693672",
         "No"
        ],
        [
         "37",
         "CUST00038",
         "Female",
         "0",
         "Yes",
         "Yes",
         "20.0413",
         "Yes",
         "No",
         "DSL",
         "No",
         "No",
         "No",
         "No",
         "No",
         "No",
         "Two year",
         "Yes",
         "Electronic check",
         "21.35117747611865",
         "556.8986605597964",
         "No"
        ],
        [
         "38",
         "CUST00039",
         "Male",
         "0",
         "No",
         "No",
         "50.7354",
         "Yes",
         "Yes",
         "No",
         "No",
         "No",
         "No",
         "No",
         "No",
         "No",
         "Month-to-Month",
         "No",
         "Bank transfer (automatic)",
         "34.567088989441935",
         "1727.3070384693672",
         "Yes"
        ],
        [
         "39",
         "CUST00040",
         "Male",
         "0",
         "No",
         "Yes",
         "27.0189",
         "Yes",
         "No",
         "DSL",
         "No",
         "No",
         "No",
         "Yes",
         "No",
         "No",
         "Two year",
         "No",
         "Mailed check",
         "34.567088989441935",
         "1173.0636471905536",
         "No"
        ],
        [
         "42",
         "CUST00043",
         "Female",
         "0",
         "Yes",
         "Yes",
         "3.0428",
         "Yes",
         "Unknown",
         "Fiber optic",
         "No",
         "Unknown",
         "No",
         "No",
         "Yes",
         "Yes",
         "One year",
         "Yes",
         "Mailed check",
         "41.157793644408684",
         "99.81018013433747",
         "No"
        ],
        [
         "43",
         "CUST00044",
         "Female",
         "0",
         "No",
         "No",
         "36.87",
         "Yes",
         "Yes",
         "No",
         "No",
         "No",
         "No",
         "No",
         "No",
         "No",
         "Month-to-Month",
         "Yes",
         "Bank transfer (automatic)",
         "21.35117747611865",
         "825.3176010178116",
         "Yes"
        ],
        [
         "44",
         "CUST00045",
         "Female",
         "0",
         "Unknown",
         "No",
         "27.0189",
         "Yes",
         "No",
         "Fiber optic",
         "Yes",
         "Yes",
         "No",
         "No",
         "No",
         "No",
         "Two year",
         "No",
         "Mailed check",
         "48.18418200100553",
         "1727.3070384693672",
         "No"
        ],
        [
         "45",
         "CUST00046",
         "Unknown",
         "0",
         "No",
         "No",
         "8.5125",
         "Yes",
         "Yes",
         "DSL",
         "No",
         "Yes",
         "Yes",
         "No",
         "Yes",
         "No",
         "Month-to-Month",
         "Yes",
         "Mailed check",
         "48.18418200100553",
         "324.7893821882952",
         "Yes"
        ],
        [
         "48",
         "CUST00049",
         "Male",
         "0",
         "Yes",
         "Yes",
         "27.0189",
         "Yes",
         "Yes",
         "No",
         "No",
         "No",
         "No",
         "No",
         "No",
         "No",
         "One year",
         "Yes",
         "Electronic check",
         "21.35117747611865",
         "556.8986605597964",
         "No"
        ],
        [
         "49",
         "CUST00050",
         "Male",
         "0",
         "No",
         "Yes",
         "14.1083",
         "Yes",
         "No",
         "Fiber optic",
         "No",
         "Unknown",
         "Yes",
         "No",
         "Yes",
         "Unknown",
         "One year",
         "No",
         "Mailed check",
         "71.90797968624295",
         "1173.0636471905536",
         "No"
        ],
        [
         "50",
         "CUST00051",
         "Female",
         "0",
         "No",
         "Yes",
         "3.0428",
         "Yes",
         "Yes",
         "DSL",
         "No",
         "No",
         "Unknown",
         "No",
         "No",
         "No",
         "Month-to-Month",
         "No",
         "Bank transfer (automatic)",
         "27.99748491552695",
         "99.81018013433747",
         "No"
        ],
        [
         "51",
         "CUST00052",
         "Male",
         "0",
         "No",
         "No",
         "27.0189",
         "Yes",
         "No",
         "No",
         "No",
         "No",
         "No",
         "No",
         "No",
         "No",
         "Month-to-Month",
         "Yes",
         "Electronic check",
         "27.99748491552695",
         "825.3176010178116",
         "No"
        ],
        [
         "52",
         "CUST00053",
         "Male",
         "1",
         "Yes",
         "Yes",
         "50.7354",
         "Yes",
         "Yes",
         "Fiber optic",
         "Yes",
         "Unknown",
         "Yes",
         "Yes",
         "No",
         "No",
         "One year",
         "No",
         "Electronic check",
         "27.99748491552695",
         "1727.3070384693672",
         "No"
        ],
        [
         "54",
         "CUST00055",
         "Female",
         "0",
         "No",
         "No",
         "50.7354",
         "Yes",
         "No",
         "Fiber optic",
         "No",
         "No",
         "No",
         "No",
         "No",
         "No",
         "Month-to-Month",
         "Yes",
         "Electronic check",
         "21.35117747611865",
         "1173.0636471905536",
         "No"
        ],
        [
         "56",
         "CUST00057",
         "Male",
         "0",
         "No",
         "Unknown",
         "8.5125",
         "Yes",
         "No",
         "Fiber optic",
         "No",
         "No",
         "No",
         "No",
         "No",
         "No",
         "Two year",
         "Yes",
         "Mailed check",
         "21.35117747611865",
         "99.81018013433747",
         "Yes"
        ],
        [
         "57",
         "CUST00058",
         "Male",
         "0",
         "Yes",
         "No",
         "20.0413",
         "Yes",
         "Yes",
         "Fiber optic",
         "No",
         "Yes",
         "Yes",
         "No",
         "No",
         "Yes",
         "Month-to-Month",
         "No",
         "Bank transfer (automatic)",
         "27.99748491552695",
         "556.8986605597964",
         "No"
        ],
        [
         "58",
         "CUST00059",
         "Female",
         "0",
         "Yes",
         "No",
         "50.7354",
         "Yes",
         "Yes",
         "Fiber optic",
         "No",
         "Yes",
         "No",
         "No",
         "No",
         "No",
         "Two year",
         "Yes",
         "Electronic check",
         "34.567088989441935",
         "1173.0636471905536",
         "No"
        ],
        [
         "59",
         "CUST00060",
         "Female",
         "0",
         "Yes",
         "Yes",
         "36.87",
         "Yes",
         "Yes",
         "Fiber optic",
         "No",
         "No",
         "Yes",
         "No",
         "No",
         "No",
         "Month-to-Month",
         "Yes",
         "Electronic check",
         "41.157793644408684",
         "1727.3070384693672",
         "Yes"
        ],
        [
         "61",
         "CUST00062",
         "Male",
         "0",
         "Yes",
         "No",
         "3.0428",
         "Yes",
         "No",
         "DSL",
         "No",
         "No",
         "No",
         "No",
         "No",
         "Yes",
         "Month-to-Month",
         "No",
         "Mailed check",
         "48.18418200100553",
         "99.81018013433747",
         "Yes"
        ],
        [
         "63",
         "CUST00064",
         "Male",
         "0",
         "No",
         "No",
         "27.0189",
         "Yes",
         "Yes",
         "DSL",
         "Yes",
         "No",
         "Yes",
         "No",
         "No",
         "No",
         "Two year",
         "Yes",
         "Bank transfer (automatic)",
         "21.35117747611865",
         "825.3176010178116",
         "No"
        ],
        [
         "64",
         "CUST00065",
         "Male",
         "0",
         "Yes",
         "No",
         "14.1083",
         "No",
         "No",
         "DSL",
         "Yes",
         "No",
         "No",
         "No",
         "No",
         "No",
         "One year",
         "Yes",
         "Electronic check",
         "71.90797968624295",
         "1173.0636471905536",
         "No"
        ],
        [
         "65",
         "CUST00066",
         "Female",
         "0",
         "Yes",
         "Yes",
         "20.0413",
         "Yes",
         "Yes",
         "Fiber optic",
         "No",
         "No",
         "No",
         "No",
         "No",
         "No",
         "Month-to-Month",
         "Yes",
         "Credit card (automatic)",
         "41.157793644408684",
         "825.3176010178116",
         "Yes"
        ],
        [
         "66",
         "CUST00067",
         "Female",
         "0",
         "Yes",
         "No",
         "36.87",
         "Yes",
         "Yes",
         "DSL",
         "No",
         "Yes",
         "No",
         "No",
         "No",
         "No",
         "Month-to-Month",
         "No",
         "Credit card (automatic)",
         "41.157793644408684",
         "1727.3070384693672",
         "Yes"
        ],
        [
         "67",
         "CUST00068",
         "Male",
         "1",
         "No",
         "Yes",
         "8.5125",
         "Yes",
         "No",
         "Fiber optic",
         "Unknown",
         "Yes",
         "Yes",
         "No",
         "No",
         "No",
         "Month-to-Month",
         "Yes",
         "Electronic check",
         "48.18418200100553",
         "556.8986605597964",
         "Yes"
        ],
        [
         "68",
         "CUST00069",
         "Male",
         "0",
         "No",
         "Yes",
         "3.0428",
         "Yes",
         "No",
         "DSL",
         "No",
         "No",
         "No",
         "No",
         "No",
         "No",
         "Month-to-Month",
         "No",
         "Electronic check",
         "71.90797968624295",
         "324.7893821882952",
         "No"
        ],
        [
         "69",
         "CUST00070",
         "Female",
         "0",
         "Yes",
         "Yes",
         "20.0413",
         "No",
         "No",
         "Fiber optic",
         "No",
         "No",
         "No",
         "No",
         "No",
         "No",
         "Month-to-Month",
         "Yes",
         "Bank transfer (automatic)",
         "27.99748491552695",
         "556.8986605597964",
         "Yes"
        ],
        [
         "70",
         "CUST00071",
         "Male",
         "0",
         "No",
         "No",
         "20.0413",
         "Yes",
         "No",
         "Fiber optic",
         "No",
         "No",
         "No",
         "Yes",
         "No",
         "No",
         "Two year",
         "Yes",
         "Electronic check",
         "21.35117747611865",
         "556.8986605597964",
         "Yes"
        ]
       ],
       "shape": {
        "columns": 21,
        "rows": 55280
       }
      },
      "text/html": [
       "<div>\n",
       "<style scoped>\n",
       "    .dataframe tbody tr th:only-of-type {\n",
       "        vertical-align: middle;\n",
       "    }\n",
       "\n",
       "    .dataframe tbody tr th {\n",
       "        vertical-align: top;\n",
       "    }\n",
       "\n",
       "    .dataframe thead th {\n",
       "        text-align: right;\n",
       "    }\n",
       "</style>\n",
       "<table border=\"1\" class=\"dataframe\">\n",
       "  <thead>\n",
       "    <tr style=\"text-align: right;\">\n",
       "      <th></th>\n",
       "      <th>customerID</th>\n",
       "      <th>gender</th>\n",
       "      <th>SeniorCitizen</th>\n",
       "      <th>Partner</th>\n",
       "      <th>Dependents</th>\n",
       "      <th>tenure</th>\n",
       "      <th>PhoneService</th>\n",
       "      <th>MultipleLines</th>\n",
       "      <th>InternetService</th>\n",
       "      <th>OnlineSecurity</th>\n",
       "      <th>...</th>\n",
       "      <th>DeviceProtection</th>\n",
       "      <th>TechSupport</th>\n",
       "      <th>StreamingTV</th>\n",
       "      <th>StreamingMovies</th>\n",
       "      <th>Contract</th>\n",
       "      <th>PaperlessBilling</th>\n",
       "      <th>PaymentMethod</th>\n",
       "      <th>MonthlyCharges</th>\n",
       "      <th>TotalCharges</th>\n",
       "      <th>Churn</th>\n",
       "    </tr>\n",
       "  </thead>\n",
       "  <tbody>\n",
       "    <tr>\n",
       "      <th>0</th>\n",
       "      <td>CUST00001</td>\n",
       "      <td>Male</td>\n",
       "      <td>0</td>\n",
       "      <td>No</td>\n",
       "      <td>Yes</td>\n",
       "      <td>3.0428</td>\n",
       "      <td>Yes</td>\n",
       "      <td>Yes</td>\n",
       "      <td>No</td>\n",
       "      <td>No</td>\n",
       "      <td>...</td>\n",
       "      <td>No</td>\n",
       "      <td>No</td>\n",
       "      <td>No</td>\n",
       "      <td>No</td>\n",
       "      <td>Month-to-Month</td>\n",
       "      <td>No</td>\n",
       "      <td>Mailed check</td>\n",
       "      <td>71.907980</td>\n",
       "      <td>99.810180</td>\n",
       "      <td>Yes</td>\n",
       "    </tr>\n",
       "    <tr>\n",
       "      <th>1</th>\n",
       "      <td>CUST00002</td>\n",
       "      <td>Male</td>\n",
       "      <td>1</td>\n",
       "      <td>Yes</td>\n",
       "      <td>No</td>\n",
       "      <td>3.0428</td>\n",
       "      <td>Yes</td>\n",
       "      <td>Yes</td>\n",
       "      <td>DSL</td>\n",
       "      <td>No</td>\n",
       "      <td>...</td>\n",
       "      <td>No</td>\n",
       "      <td>Yes</td>\n",
       "      <td>Unknown</td>\n",
       "      <td>No</td>\n",
       "      <td>One year</td>\n",
       "      <td>Yes</td>\n",
       "      <td>Bank transfer (automatic)</td>\n",
       "      <td>21.351177</td>\n",
       "      <td>99.810180</td>\n",
       "      <td>No</td>\n",
       "    </tr>\n",
       "    <tr>\n",
       "      <th>2</th>\n",
       "      <td>CUST00003</td>\n",
       "      <td>Female</td>\n",
       "      <td>0</td>\n",
       "      <td>No</td>\n",
       "      <td>No</td>\n",
       "      <td>36.8700</td>\n",
       "      <td>Yes</td>\n",
       "      <td>Yes</td>\n",
       "      <td>DSL</td>\n",
       "      <td>No</td>\n",
       "      <td>...</td>\n",
       "      <td>No</td>\n",
       "      <td>Unknown</td>\n",
       "      <td>Yes</td>\n",
       "      <td>Yes</td>\n",
       "      <td>Month-to-Month</td>\n",
       "      <td>No</td>\n",
       "      <td>Electronic check</td>\n",
       "      <td>41.157794</td>\n",
       "      <td>1727.307038</td>\n",
       "      <td>Yes</td>\n",
       "    </tr>\n",
       "    <tr>\n",
       "      <th>4</th>\n",
       "      <td>CUST00005</td>\n",
       "      <td>Male</td>\n",
       "      <td>1</td>\n",
       "      <td>Yes</td>\n",
       "      <td>Yes</td>\n",
       "      <td>14.1083</td>\n",
       "      <td>Yes</td>\n",
       "      <td>Unknown</td>\n",
       "      <td>Fiber optic</td>\n",
       "      <td>Yes</td>\n",
       "      <td>...</td>\n",
       "      <td>Yes</td>\n",
       "      <td>No</td>\n",
       "      <td>No</td>\n",
       "      <td>No</td>\n",
       "      <td>Two year</td>\n",
       "      <td>Yes</td>\n",
       "      <td>Electronic check</td>\n",
       "      <td>21.351177</td>\n",
       "      <td>324.789382</td>\n",
       "      <td>Yes</td>\n",
       "    </tr>\n",
       "    <tr>\n",
       "      <th>5</th>\n",
       "      <td>CUST00006</td>\n",
       "      <td>Male</td>\n",
       "      <td>0</td>\n",
       "      <td>Yes</td>\n",
       "      <td>No</td>\n",
       "      <td>20.0413</td>\n",
       "      <td>Yes</td>\n",
       "      <td>No</td>\n",
       "      <td>Fiber optic</td>\n",
       "      <td>No</td>\n",
       "      <td>...</td>\n",
       "      <td>Unknown</td>\n",
       "      <td>Yes</td>\n",
       "      <td>Unknown</td>\n",
       "      <td>No</td>\n",
       "      <td>One year</td>\n",
       "      <td>No</td>\n",
       "      <td>Electronic check</td>\n",
       "      <td>34.567089</td>\n",
       "      <td>556.898661</td>\n",
       "      <td>Yes</td>\n",
       "    </tr>\n",
       "    <tr>\n",
       "      <th>...</th>\n",
       "      <td>...</td>\n",
       "      <td>...</td>\n",
       "      <td>...</td>\n",
       "      <td>...</td>\n",
       "      <td>...</td>\n",
       "      <td>...</td>\n",
       "      <td>...</td>\n",
       "      <td>...</td>\n",
       "      <td>...</td>\n",
       "      <td>...</td>\n",
       "      <td>...</td>\n",
       "      <td>...</td>\n",
       "      <td>...</td>\n",
       "      <td>...</td>\n",
       "      <td>...</td>\n",
       "      <td>...</td>\n",
       "      <td>...</td>\n",
       "      <td>...</td>\n",
       "      <td>...</td>\n",
       "      <td>...</td>\n",
       "      <td>...</td>\n",
       "    </tr>\n",
       "    <tr>\n",
       "      <th>69994</th>\n",
       "      <td>CUST69995</td>\n",
       "      <td>Female</td>\n",
       "      <td>1</td>\n",
       "      <td>No</td>\n",
       "      <td>Yes</td>\n",
       "      <td>20.0413</td>\n",
       "      <td>Yes</td>\n",
       "      <td>Yes</td>\n",
       "      <td>Fiber optic</td>\n",
       "      <td>No</td>\n",
       "      <td>...</td>\n",
       "      <td>No</td>\n",
       "      <td>No</td>\n",
       "      <td>Yes</td>\n",
       "      <td>No</td>\n",
       "      <td>One year</td>\n",
       "      <td>Yes</td>\n",
       "      <td>Electronic check</td>\n",
       "      <td>41.157794</td>\n",
       "      <td>825.317601</td>\n",
       "      <td>No</td>\n",
       "    </tr>\n",
       "    <tr>\n",
       "      <th>69996</th>\n",
       "      <td>CUST69997</td>\n",
       "      <td>Male</td>\n",
       "      <td>0</td>\n",
       "      <td>Yes</td>\n",
       "      <td>Unknown</td>\n",
       "      <td>14.1083</td>\n",
       "      <td>Yes</td>\n",
       "      <td>Yes</td>\n",
       "      <td>Fiber optic</td>\n",
       "      <td>No</td>\n",
       "      <td>...</td>\n",
       "      <td>No</td>\n",
       "      <td>No</td>\n",
       "      <td>No</td>\n",
       "      <td>No</td>\n",
       "      <td>Month-to-Month</td>\n",
       "      <td>Yes</td>\n",
       "      <td>Bank transfer (automatic)</td>\n",
       "      <td>41.157794</td>\n",
       "      <td>556.898661</td>\n",
       "      <td>Yes</td>\n",
       "    </tr>\n",
       "    <tr>\n",
       "      <th>69997</th>\n",
       "      <td>CUST69998</td>\n",
       "      <td>Male</td>\n",
       "      <td>0</td>\n",
       "      <td>Unknown</td>\n",
       "      <td>No</td>\n",
       "      <td>20.0413</td>\n",
       "      <td>Yes</td>\n",
       "      <td>No</td>\n",
       "      <td>DSL</td>\n",
       "      <td>Yes</td>\n",
       "      <td>...</td>\n",
       "      <td>No</td>\n",
       "      <td>No</td>\n",
       "      <td>Unknown</td>\n",
       "      <td>No</td>\n",
       "      <td>Month-to-Month</td>\n",
       "      <td>Yes</td>\n",
       "      <td>Mailed check</td>\n",
       "      <td>27.997485</td>\n",
       "      <td>556.898661</td>\n",
       "      <td>No</td>\n",
       "    </tr>\n",
       "    <tr>\n",
       "      <th>69998</th>\n",
       "      <td>CUST69999</td>\n",
       "      <td>Male</td>\n",
       "      <td>0</td>\n",
       "      <td>No</td>\n",
       "      <td>No</td>\n",
       "      <td>20.0413</td>\n",
       "      <td>Yes</td>\n",
       "      <td>No</td>\n",
       "      <td>Fiber optic</td>\n",
       "      <td>No</td>\n",
       "      <td>...</td>\n",
       "      <td>No</td>\n",
       "      <td>No</td>\n",
       "      <td>Yes</td>\n",
       "      <td>No</td>\n",
       "      <td>Month-to-Month</td>\n",
       "      <td>Yes</td>\n",
       "      <td>Electronic check</td>\n",
       "      <td>48.184182</td>\n",
       "      <td>1173.063647</td>\n",
       "      <td>No</td>\n",
       "    </tr>\n",
       "    <tr>\n",
       "      <th>69999</th>\n",
       "      <td>CUST70000</td>\n",
       "      <td>Female</td>\n",
       "      <td>0</td>\n",
       "      <td>No</td>\n",
       "      <td>No</td>\n",
       "      <td>3.0428</td>\n",
       "      <td>Yes</td>\n",
       "      <td>Yes</td>\n",
       "      <td>No</td>\n",
       "      <td>No</td>\n",
       "      <td>...</td>\n",
       "      <td>No</td>\n",
       "      <td>No</td>\n",
       "      <td>No</td>\n",
       "      <td>No</td>\n",
       "      <td>Month-to-Month</td>\n",
       "      <td>No</td>\n",
       "      <td>Electronic check</td>\n",
       "      <td>71.907980</td>\n",
       "      <td>324.789382</td>\n",
       "      <td>Yes</td>\n",
       "    </tr>\n",
       "  </tbody>\n",
       "</table>\n",
       "<p>55280 rows × 21 columns</p>\n",
       "</div>"
      ],
      "text/plain": [
       "      customerID  gender  SeniorCitizen  Partner Dependents   tenure  \\\n",
       "0      CUST00001    Male              0       No        Yes   3.0428   \n",
       "1      CUST00002    Male              1      Yes         No   3.0428   \n",
       "2      CUST00003  Female              0       No         No  36.8700   \n",
       "4      CUST00005    Male              1      Yes        Yes  14.1083   \n",
       "5      CUST00006    Male              0      Yes         No  20.0413   \n",
       "...          ...     ...            ...      ...        ...      ...   \n",
       "69994  CUST69995  Female              1       No        Yes  20.0413   \n",
       "69996  CUST69997    Male              0      Yes    Unknown  14.1083   \n",
       "69997  CUST69998    Male              0  Unknown         No  20.0413   \n",
       "69998  CUST69999    Male              0       No         No  20.0413   \n",
       "69999  CUST70000  Female              0       No         No   3.0428   \n",
       "\n",
       "      PhoneService MultipleLines InternetService OnlineSecurity  ...  \\\n",
       "0              Yes           Yes              No             No  ...   \n",
       "1              Yes           Yes             DSL             No  ...   \n",
       "2              Yes           Yes             DSL             No  ...   \n",
       "4              Yes       Unknown     Fiber optic            Yes  ...   \n",
       "5              Yes            No     Fiber optic             No  ...   \n",
       "...            ...           ...             ...            ...  ...   \n",
       "69994          Yes           Yes     Fiber optic             No  ...   \n",
       "69996          Yes           Yes     Fiber optic             No  ...   \n",
       "69997          Yes            No             DSL            Yes  ...   \n",
       "69998          Yes            No     Fiber optic             No  ...   \n",
       "69999          Yes           Yes              No             No  ...   \n",
       "\n",
       "      DeviceProtection TechSupport StreamingTV StreamingMovies  \\\n",
       "0                   No          No          No              No   \n",
       "1                   No         Yes     Unknown              No   \n",
       "2                   No     Unknown         Yes             Yes   \n",
       "4                  Yes          No          No              No   \n",
       "5              Unknown         Yes     Unknown              No   \n",
       "...                ...         ...         ...             ...   \n",
       "69994               No          No         Yes              No   \n",
       "69996               No          No          No              No   \n",
       "69997               No          No     Unknown              No   \n",
       "69998               No          No         Yes              No   \n",
       "69999               No          No          No              No   \n",
       "\n",
       "             Contract PaperlessBilling              PaymentMethod  \\\n",
       "0      Month-to-Month               No               Mailed check   \n",
       "1            One year              Yes  Bank transfer (automatic)   \n",
       "2      Month-to-Month               No           Electronic check   \n",
       "4            Two year              Yes           Electronic check   \n",
       "5            One year               No           Electronic check   \n",
       "...               ...              ...                        ...   \n",
       "69994        One year              Yes           Electronic check   \n",
       "69996  Month-to-Month              Yes  Bank transfer (automatic)   \n",
       "69997  Month-to-Month              Yes               Mailed check   \n",
       "69998  Month-to-Month              Yes           Electronic check   \n",
       "69999  Month-to-Month               No           Electronic check   \n",
       "\n",
       "      MonthlyCharges  TotalCharges  Churn  \n",
       "0          71.907980     99.810180    Yes  \n",
       "1          21.351177     99.810180     No  \n",
       "2          41.157794   1727.307038    Yes  \n",
       "4          21.351177    324.789382    Yes  \n",
       "5          34.567089    556.898661    Yes  \n",
       "...              ...           ...    ...  \n",
       "69994      41.157794    825.317601     No  \n",
       "69996      41.157794    556.898661    Yes  \n",
       "69997      27.997485    556.898661     No  \n",
       "69998      48.184182   1173.063647     No  \n",
       "69999      71.907980    324.789382    Yes  \n",
       "\n",
       "[55280 rows x 21 columns]"
      ]
     },
     "execution_count": 251,
     "metadata": {},
     "output_type": "execute_result"
    }
   ],
   "source": [
    "data"
   ]
  },
  {
   "cell_type": "code",
   "execution_count": 252,
   "id": "74fa2ad1",
   "metadata": {},
   "outputs": [
    {
     "name": "stdout",
     "output_type": "stream",
     "text": [
      "\n",
      "Cleaned data saved to '01.cleaned_telco_customer_data.csv'\n"
     ]
    }
   ],
   "source": [
    "data.to_csv('01.cleaned_telco_customer_data.csv', index=False)\n",
    "print(\"\\nCleaned data saved to '01.cleaned_telco_customer_data.csv'\")"
   ]
  }
 ],
 "metadata": {
  "kernelspec": {
   "display_name": "venv_TensorFlow_cpu_1 (3.12.10)",
   "language": "python",
   "name": "python3"
  },
  "language_info": {
   "codemirror_mode": {
    "name": "ipython",
    "version": 3
   },
   "file_extension": ".py",
   "mimetype": "text/x-python",
   "name": "python",
   "nbconvert_exporter": "python",
   "pygments_lexer": "ipython3",
   "version": "3.12.10"
  }
 },
 "nbformat": 4,
 "nbformat_minor": 5
}
