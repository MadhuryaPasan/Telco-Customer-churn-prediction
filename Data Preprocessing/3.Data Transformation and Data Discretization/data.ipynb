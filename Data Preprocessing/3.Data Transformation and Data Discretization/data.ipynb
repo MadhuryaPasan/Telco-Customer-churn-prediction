{
 "cells": [
  {
   "cell_type": "code",
   "execution_count": 16,
   "id": "696e747d",
   "metadata": {},
   "outputs": [],
   "source": [
    "import pandas as pd\n",
    "import numpy as np\n",
    "from sklearn.preprocessing import MinMaxScaler, StandardScaler\n",
    "from sklearn.linear_model import LinearRegression"
   ]
  },
  {
   "cell_type": "code",
   "execution_count": 17,
   "id": "c61368bc",
   "metadata": {},
   "outputs": [
    {
     "name": "stdout",
     "output_type": "stream",
     "text": [
      "Loaded integrated data: (55280, 21)\n"
     ]
    },
    {
     "data": {
      "application/vnd.microsoft.datawrangler.viewer.v0+json": {
       "columns": [
        {
         "name": "index",
         "rawType": "int64",
         "type": "integer"
        },
        {
         "name": "customerID",
         "rawType": "object",
         "type": "string"
        },
        {
         "name": "gender",
         "rawType": "object",
         "type": "string"
        },
        {
         "name": "SeniorCitizen",
         "rawType": "float64",
         "type": "float"
        },
        {
         "name": "Partner",
         "rawType": "object",
         "type": "string"
        },
        {
         "name": "Dependents",
         "rawType": "object",
         "type": "string"
        },
        {
         "name": "tenure",
         "rawType": "float64",
         "type": "float"
        },
        {
         "name": "PhoneService",
         "rawType": "object",
         "type": "string"
        },
        {
         "name": "MultipleLines",
         "rawType": "object",
         "type": "string"
        },
        {
         "name": "InternetService",
         "rawType": "object",
         "type": "string"
        },
        {
         "name": "OnlineSecurity",
         "rawType": "object",
         "type": "string"
        },
        {
         "name": "OnlineBackup",
         "rawType": "object",
         "type": "string"
        },
        {
         "name": "DeviceProtection",
         "rawType": "object",
         "type": "string"
        },
        {
         "name": "TechSupport",
         "rawType": "object",
         "type": "string"
        },
        {
         "name": "StreamingTV",
         "rawType": "object",
         "type": "string"
        },
        {
         "name": "StreamingMovies",
         "rawType": "object",
         "type": "string"
        },
        {
         "name": "Contract",
         "rawType": "object",
         "type": "string"
        },
        {
         "name": "PaperlessBilling",
         "rawType": "object",
         "type": "string"
        },
        {
         "name": "PaymentMethod",
         "rawType": "object",
         "type": "string"
        },
        {
         "name": "MonthlyCharges",
         "rawType": "float64",
         "type": "float"
        },
        {
         "name": "TotalCharges",
         "rawType": "float64",
         "type": "float"
        },
        {
         "name": "Churn",
         "rawType": "object",
         "type": "string"
        }
       ],
       "ref": "a19ca9ab-09c9-4e60-ab1e-f2710a526f5a",
       "rows": [
        [
         "0",
         "CUST00001",
         "Male",
         "0.0",
         "No",
         "Yes",
         "3.0428",
         "Yes",
         "Yes",
         "No",
         "No",
         "No",
         "No",
         "No",
         "No",
         "No",
         "Month-to-Month",
         "No",
         "Mailed check",
         "71.90797968624295",
         "159.30509006716875",
         "Yes"
        ],
        [
         "1",
         "CUST00002",
         "Male",
         "1.0",
         "Yes",
         "No",
         "3.0428",
         "Yes",
         "Yes",
         "DSL",
         "No",
         "No",
         "No",
         "Yes",
         "Unknown",
         "No",
         "One year",
         "Yes",
         "Bank transfer (automatic)",
         "21.35117747611865",
         "82.39009006716874",
         "No"
        ],
        [
         "2",
         "CUST00003",
         "Female",
         "0.0",
         "No",
         "No",
         "36.87",
         "Yes",
         "Yes",
         "DSL",
         "No",
         "Yes",
         "No",
         "Unknown",
         "Yes",
         "Yes",
         "Month-to-Month",
         "No",
         "Electronic check",
         "41.157793644408684",
         "1622.3985192346836",
         "Yes"
        ],
        [
         "3",
         "CUST00005",
         "Male",
         "1.0",
         "Yes",
         "Yes",
         "14.1083",
         "Yes",
         "Unknown",
         "Fiber optic",
         "Yes",
         "No",
         "Yes",
         "No",
         "No",
         "No",
         "Two year",
         "Yes",
         "Electronic check",
         "21.35117747611865",
         "313.0096910941476",
         "Yes"
        ],
        [
         "4",
         "CUST00006",
         "Male",
         "0.0",
         "Yes",
         "No",
         "20.0413",
         "Yes",
         "No",
         "Fiber optic",
         "No",
         "No",
         "Unknown",
         "Yes",
         "Unknown",
         "No",
         "One year",
         "No",
         "Electronic check",
         "34.567088989441935",
         "624.8343302798983",
         "Yes"
        ]
       ],
       "shape": {
        "columns": 21,
        "rows": 5
       }
      },
      "text/html": [
       "<div>\n",
       "<style scoped>\n",
       "    .dataframe tbody tr th:only-of-type {\n",
       "        vertical-align: middle;\n",
       "    }\n",
       "\n",
       "    .dataframe tbody tr th {\n",
       "        vertical-align: top;\n",
       "    }\n",
       "\n",
       "    .dataframe thead th {\n",
       "        text-align: right;\n",
       "    }\n",
       "</style>\n",
       "<table border=\"1\" class=\"dataframe\">\n",
       "  <thead>\n",
       "    <tr style=\"text-align: right;\">\n",
       "      <th></th>\n",
       "      <th>customerID</th>\n",
       "      <th>gender</th>\n",
       "      <th>SeniorCitizen</th>\n",
       "      <th>Partner</th>\n",
       "      <th>Dependents</th>\n",
       "      <th>tenure</th>\n",
       "      <th>PhoneService</th>\n",
       "      <th>MultipleLines</th>\n",
       "      <th>InternetService</th>\n",
       "      <th>OnlineSecurity</th>\n",
       "      <th>...</th>\n",
       "      <th>DeviceProtection</th>\n",
       "      <th>TechSupport</th>\n",
       "      <th>StreamingTV</th>\n",
       "      <th>StreamingMovies</th>\n",
       "      <th>Contract</th>\n",
       "      <th>PaperlessBilling</th>\n",
       "      <th>PaymentMethod</th>\n",
       "      <th>MonthlyCharges</th>\n",
       "      <th>TotalCharges</th>\n",
       "      <th>Churn</th>\n",
       "    </tr>\n",
       "  </thead>\n",
       "  <tbody>\n",
       "    <tr>\n",
       "      <th>0</th>\n",
       "      <td>CUST00001</td>\n",
       "      <td>Male</td>\n",
       "      <td>0.0</td>\n",
       "      <td>No</td>\n",
       "      <td>Yes</td>\n",
       "      <td>3.0428</td>\n",
       "      <td>Yes</td>\n",
       "      <td>Yes</td>\n",
       "      <td>No</td>\n",
       "      <td>No</td>\n",
       "      <td>...</td>\n",
       "      <td>No</td>\n",
       "      <td>No</td>\n",
       "      <td>No</td>\n",
       "      <td>No</td>\n",
       "      <td>Month-to-Month</td>\n",
       "      <td>No</td>\n",
       "      <td>Mailed check</td>\n",
       "      <td>71.907980</td>\n",
       "      <td>159.305090</td>\n",
       "      <td>Yes</td>\n",
       "    </tr>\n",
       "    <tr>\n",
       "      <th>1</th>\n",
       "      <td>CUST00002</td>\n",
       "      <td>Male</td>\n",
       "      <td>1.0</td>\n",
       "      <td>Yes</td>\n",
       "      <td>No</td>\n",
       "      <td>3.0428</td>\n",
       "      <td>Yes</td>\n",
       "      <td>Yes</td>\n",
       "      <td>DSL</td>\n",
       "      <td>No</td>\n",
       "      <td>...</td>\n",
       "      <td>No</td>\n",
       "      <td>Yes</td>\n",
       "      <td>Unknown</td>\n",
       "      <td>No</td>\n",
       "      <td>One year</td>\n",
       "      <td>Yes</td>\n",
       "      <td>Bank transfer (automatic)</td>\n",
       "      <td>21.351177</td>\n",
       "      <td>82.390090</td>\n",
       "      <td>No</td>\n",
       "    </tr>\n",
       "    <tr>\n",
       "      <th>2</th>\n",
       "      <td>CUST00003</td>\n",
       "      <td>Female</td>\n",
       "      <td>0.0</td>\n",
       "      <td>No</td>\n",
       "      <td>No</td>\n",
       "      <td>36.8700</td>\n",
       "      <td>Yes</td>\n",
       "      <td>Yes</td>\n",
       "      <td>DSL</td>\n",
       "      <td>No</td>\n",
       "      <td>...</td>\n",
       "      <td>No</td>\n",
       "      <td>Unknown</td>\n",
       "      <td>Yes</td>\n",
       "      <td>Yes</td>\n",
       "      <td>Month-to-Month</td>\n",
       "      <td>No</td>\n",
       "      <td>Electronic check</td>\n",
       "      <td>41.157794</td>\n",
       "      <td>1622.398519</td>\n",
       "      <td>Yes</td>\n",
       "    </tr>\n",
       "    <tr>\n",
       "      <th>3</th>\n",
       "      <td>CUST00005</td>\n",
       "      <td>Male</td>\n",
       "      <td>1.0</td>\n",
       "      <td>Yes</td>\n",
       "      <td>Yes</td>\n",
       "      <td>14.1083</td>\n",
       "      <td>Yes</td>\n",
       "      <td>Unknown</td>\n",
       "      <td>Fiber optic</td>\n",
       "      <td>Yes</td>\n",
       "      <td>...</td>\n",
       "      <td>Yes</td>\n",
       "      <td>No</td>\n",
       "      <td>No</td>\n",
       "      <td>No</td>\n",
       "      <td>Two year</td>\n",
       "      <td>Yes</td>\n",
       "      <td>Electronic check</td>\n",
       "      <td>21.351177</td>\n",
       "      <td>313.009691</td>\n",
       "      <td>Yes</td>\n",
       "    </tr>\n",
       "    <tr>\n",
       "      <th>4</th>\n",
       "      <td>CUST00006</td>\n",
       "      <td>Male</td>\n",
       "      <td>0.0</td>\n",
       "      <td>Yes</td>\n",
       "      <td>No</td>\n",
       "      <td>20.0413</td>\n",
       "      <td>Yes</td>\n",
       "      <td>No</td>\n",
       "      <td>Fiber optic</td>\n",
       "      <td>No</td>\n",
       "      <td>...</td>\n",
       "      <td>Unknown</td>\n",
       "      <td>Yes</td>\n",
       "      <td>Unknown</td>\n",
       "      <td>No</td>\n",
       "      <td>One year</td>\n",
       "      <td>No</td>\n",
       "      <td>Electronic check</td>\n",
       "      <td>34.567089</td>\n",
       "      <td>624.834330</td>\n",
       "      <td>Yes</td>\n",
       "    </tr>\n",
       "  </tbody>\n",
       "</table>\n",
       "<p>5 rows × 21 columns</p>\n",
       "</div>"
      ],
      "text/plain": [
       "  customerID  gender  SeniorCitizen Partner Dependents   tenure PhoneService  \\\n",
       "0  CUST00001    Male            0.0      No        Yes   3.0428          Yes   \n",
       "1  CUST00002    Male            1.0     Yes         No   3.0428          Yes   \n",
       "2  CUST00003  Female            0.0      No         No  36.8700          Yes   \n",
       "3  CUST00005    Male            1.0     Yes        Yes  14.1083          Yes   \n",
       "4  CUST00006    Male            0.0     Yes         No  20.0413          Yes   \n",
       "\n",
       "  MultipleLines InternetService OnlineSecurity  ... DeviceProtection  \\\n",
       "0           Yes              No             No  ...               No   \n",
       "1           Yes             DSL             No  ...               No   \n",
       "2           Yes             DSL             No  ...               No   \n",
       "3       Unknown     Fiber optic            Yes  ...              Yes   \n",
       "4            No     Fiber optic             No  ...          Unknown   \n",
       "\n",
       "  TechSupport StreamingTV StreamingMovies        Contract PaperlessBilling  \\\n",
       "0          No          No              No  Month-to-Month               No   \n",
       "1         Yes     Unknown              No        One year              Yes   \n",
       "2     Unknown         Yes             Yes  Month-to-Month               No   \n",
       "3          No          No              No        Two year              Yes   \n",
       "4         Yes     Unknown              No        One year               No   \n",
       "\n",
       "               PaymentMethod MonthlyCharges  TotalCharges  Churn  \n",
       "0               Mailed check      71.907980    159.305090    Yes  \n",
       "1  Bank transfer (automatic)      21.351177     82.390090     No  \n",
       "2           Electronic check      41.157794   1622.398519    Yes  \n",
       "3           Electronic check      21.351177    313.009691    Yes  \n",
       "4           Electronic check      34.567089    624.834330    Yes  \n",
       "\n",
       "[5 rows x 21 columns]"
      ]
     },
     "execution_count": 17,
     "metadata": {},
     "output_type": "execute_result"
    }
   ],
   "source": [
    "# Load Integrated Dataset (Member 2's Output)\n",
    "\n",
    "df = pd.read_csv(\"02.integrated_telco_data.csv\")\n",
    "print(\"Loaded integrated data:\", df.shape)\n",
    "df.head()"
   ]
  },
  {
   "cell_type": "markdown",
   "id": "88349ba2",
   "metadata": {},
   "source": [
    "Smoothing "
   ]
  },
  {
   "cell_type": "code",
   "execution_count": 18,
   "id": "51841c54",
   "metadata": {},
   "outputs": [],
   "source": [
    "#smoothing\n",
    "\n",
    "#remove noise in charges with regression\n",
    "\n",
    "def smooth_charges(df, charge_col):\n",
    "    valid = df[(df['tenure'].notna()) & (df['tenure'] > 0) & (df[charge_col].notna())]\n",
    "    if len(valid) > 1:\n",
    "        X = valid[['tenure']]\n",
    "        y = valid[charge_col]\n",
    "        reg = LinearRegression()\n",
    "        reg.fit(X, y)\n",
    "        y_pred = reg.predict(X)\n",
    "        residuals = y - y_pred\n",
    "        std_residuals = np.std(residuals)\n",
    "        outliers = np.abs(residuals) > 3 * std_residuals\n",
    "        if outliers.sum() > 0:\n",
    "            df.loc[valid[outliers].index, charge_col] = reg.predict(valid[outliers][['tenure']])\n",
    "            df[charge_col] = df[charge_col].clip(lower=0)  # Ensure non-negative\n",
    "            print(f\"Smoothed {outliers.sum()} outliers in {charge_col}\")\n",
    "    return df\n",
    "\n",
    "df = smooth_charges(df, 'MonthlyCharges')\n"
   ]
  },
  {
   "cell_type": "code",
   "execution_count": 19,
   "id": "4526d080",
   "metadata": {},
   "outputs": [
    {
     "name": "stdout",
     "output_type": "stream",
     "text": [
      "Smoothed 169 outliers in TotalCharges\n"
     ]
    }
   ],
   "source": [
    "df = smooth_charges(df, 'TotalCharges')"
   ]
  },
  {
   "cell_type": "markdown",
   "id": "9894a724",
   "metadata": {},
   "source": [
    "Normalization"
   ]
  },
  {
   "cell_type": "code",
   "execution_count": 20,
   "id": "0a555751",
   "metadata": {},
   "outputs": [
    {
     "data": {
      "application/vnd.microsoft.datawrangler.viewer.v0+json": {
       "columns": [
        {
         "name": "index",
         "rawType": "int64",
         "type": "integer"
        },
        {
         "name": "tenure",
         "rawType": "float64",
         "type": "float"
        },
        {
         "name": "MonthlyCharges",
         "rawType": "float64",
         "type": "float"
        },
        {
         "name": "TotalCharges",
         "rawType": "float64",
         "type": "float"
        }
       ],
       "ref": "3be9d241-241d-46dd-adb5-2a92eba2501c",
       "rows": [
        [
         "0",
         "-1.2447395693060344",
         "0.9999999999999999",
         "0.03807297739202237"
        ],
        [
         "1",
         "-1.2447395693060344",
         "0.0",
         "0.0"
        ],
        [
         "2",
         "1.1041644266157484",
         "0.3917695602259361",
         "0.762305221442094"
        ],
        [
         "3",
         "-0.47636982049819665",
         "0.0",
         "0.1141568595990039"
        ],
        [
         "4",
         "-0.064392257832533",
         "0.26140718826312004",
         "0.2685102684008581"
        ]
       ],
       "shape": {
        "columns": 3,
        "rows": 5
       }
      },
      "text/html": [
       "<div>\n",
       "<style scoped>\n",
       "    .dataframe tbody tr th:only-of-type {\n",
       "        vertical-align: middle;\n",
       "    }\n",
       "\n",
       "    .dataframe tbody tr th {\n",
       "        vertical-align: top;\n",
       "    }\n",
       "\n",
       "    .dataframe thead th {\n",
       "        text-align: right;\n",
       "    }\n",
       "</style>\n",
       "<table border=\"1\" class=\"dataframe\">\n",
       "  <thead>\n",
       "    <tr style=\"text-align: right;\">\n",
       "      <th></th>\n",
       "      <th>tenure</th>\n",
       "      <th>MonthlyCharges</th>\n",
       "      <th>TotalCharges</th>\n",
       "    </tr>\n",
       "  </thead>\n",
       "  <tbody>\n",
       "    <tr>\n",
       "      <th>0</th>\n",
       "      <td>-1.244740</td>\n",
       "      <td>1.000000</td>\n",
       "      <td>0.038073</td>\n",
       "    </tr>\n",
       "    <tr>\n",
       "      <th>1</th>\n",
       "      <td>-1.244740</td>\n",
       "      <td>0.000000</td>\n",
       "      <td>0.000000</td>\n",
       "    </tr>\n",
       "    <tr>\n",
       "      <th>2</th>\n",
       "      <td>1.104164</td>\n",
       "      <td>0.391770</td>\n",
       "      <td>0.762305</td>\n",
       "    </tr>\n",
       "    <tr>\n",
       "      <th>3</th>\n",
       "      <td>-0.476370</td>\n",
       "      <td>0.000000</td>\n",
       "      <td>0.114157</td>\n",
       "    </tr>\n",
       "    <tr>\n",
       "      <th>4</th>\n",
       "      <td>-0.064392</td>\n",
       "      <td>0.261407</td>\n",
       "      <td>0.268510</td>\n",
       "    </tr>\n",
       "  </tbody>\n",
       "</table>\n",
       "</div>"
      ],
      "text/plain": [
       "     tenure  MonthlyCharges  TotalCharges\n",
       "0 -1.244740        1.000000      0.038073\n",
       "1 -1.244740        0.000000      0.000000\n",
       "2  1.104164        0.391770      0.762305\n",
       "3 -0.476370        0.000000      0.114157\n",
       "4 -0.064392        0.261407      0.268510"
      ]
     },
     "execution_count": 20,
     "metadata": {},
     "output_type": "execute_result"
    }
   ],
   "source": [
    "\n",
    "# Normalization\n",
    "\n",
    "# Min-Max scaling for MonthlyCharges, TotalCharges\n",
    "minmax = MinMaxScaler()\n",
    "df[['MonthlyCharges','TotalCharges']] = minmax.fit_transform(df[['MonthlyCharges','TotalCharges']])\n",
    "\n",
    "# Z-score scaling for tenure\n",
    "zscore = StandardScaler()\n",
    "df[['tenure']] = zscore.fit_transform(df[['tenure']])\n",
    "\n",
    "df[['tenure','MonthlyCharges','TotalCharges']].head()\n"
   ]
  },
  {
   "cell_type": "markdown",
   "id": "8281744f",
   "metadata": {},
   "source": [
    "Feature Construction"
   ]
  },
  {
   "cell_type": "code",
   "execution_count": 21,
   "id": "9e2c7259",
   "metadata": {},
   "outputs": [
    {
     "data": {
      "application/vnd.microsoft.datawrangler.viewer.v0+json": {
       "columns": [
        {
         "name": "index",
         "rawType": "int64",
         "type": "integer"
        },
        {
         "name": "AvgMonthlyCharge",
         "rawType": "float64",
         "type": "float"
        },
        {
         "name": "TotalServices",
         "rawType": "int64",
         "type": "integer"
        },
        {
         "name": "PremiumCustomer",
         "rawType": "int64",
         "type": "integer"
        },
        {
         "name": "ElectronicPayment",
         "rawType": "int64",
         "type": "integer"
        }
       ],
       "ref": "e943d8d1-e726-4252-8ceb-170ff76ab7cd",
       "rows": [
        [
         "0",
         "-0.03058734871482883",
         "2",
         "0",
         "0"
        ],
        [
         "1",
         "-0.0",
         "3",
         "0",
         "1"
        ],
        [
         "2",
         "0.690384782573284",
         "5",
         "1",
         "1"
        ],
        [
         "3",
         "-0.23964418216383987",
         "3",
         "0",
         "1"
        ],
        [
         "4",
         "-4.170563093628835",
         "2",
         "0",
         "1"
        ]
       ],
       "shape": {
        "columns": 4,
        "rows": 5
       }
      },
      "text/html": [
       "<div>\n",
       "<style scoped>\n",
       "    .dataframe tbody tr th:only-of-type {\n",
       "        vertical-align: middle;\n",
       "    }\n",
       "\n",
       "    .dataframe tbody tr th {\n",
       "        vertical-align: top;\n",
       "    }\n",
       "\n",
       "    .dataframe thead th {\n",
       "        text-align: right;\n",
       "    }\n",
       "</style>\n",
       "<table border=\"1\" class=\"dataframe\">\n",
       "  <thead>\n",
       "    <tr style=\"text-align: right;\">\n",
       "      <th></th>\n",
       "      <th>AvgMonthlyCharge</th>\n",
       "      <th>TotalServices</th>\n",
       "      <th>PremiumCustomer</th>\n",
       "      <th>ElectronicPayment</th>\n",
       "    </tr>\n",
       "  </thead>\n",
       "  <tbody>\n",
       "    <tr>\n",
       "      <th>0</th>\n",
       "      <td>-0.030587</td>\n",
       "      <td>2</td>\n",
       "      <td>0</td>\n",
       "      <td>0</td>\n",
       "    </tr>\n",
       "    <tr>\n",
       "      <th>1</th>\n",
       "      <td>-0.000000</td>\n",
       "      <td>3</td>\n",
       "      <td>0</td>\n",
       "      <td>1</td>\n",
       "    </tr>\n",
       "    <tr>\n",
       "      <th>2</th>\n",
       "      <td>0.690385</td>\n",
       "      <td>5</td>\n",
       "      <td>1</td>\n",
       "      <td>1</td>\n",
       "    </tr>\n",
       "    <tr>\n",
       "      <th>3</th>\n",
       "      <td>-0.239644</td>\n",
       "      <td>3</td>\n",
       "      <td>0</td>\n",
       "      <td>1</td>\n",
       "    </tr>\n",
       "    <tr>\n",
       "      <th>4</th>\n",
       "      <td>-4.170563</td>\n",
       "      <td>2</td>\n",
       "      <td>0</td>\n",
       "      <td>1</td>\n",
       "    </tr>\n",
       "  </tbody>\n",
       "</table>\n",
       "</div>"
      ],
      "text/plain": [
       "   AvgMonthlyCharge  TotalServices  PremiumCustomer  ElectronicPayment\n",
       "0         -0.030587              2                0                  0\n",
       "1         -0.000000              3                0                  1\n",
       "2          0.690385              5                1                  1\n",
       "3         -0.239644              3                0                  1\n",
       "4         -4.170563              2                0                  1"
      ]
     },
     "execution_count": 21,
     "metadata": {},
     "output_type": "execute_result"
    }
   ],
   "source": [
    "#Feature Construction\n",
    "\n",
    "# Average monthly charge\n",
    "df['AvgMonthlyCharge'] = df['TotalCharges'] / (df['tenure'].fillna(0) + 1e-5)\n",
    "\n",
    "# Count how many services a customer has\n",
    "service_cols = ['PhoneService','MultipleLines','OnlineSecurity','OnlineBackup',\n",
    "                'DeviceProtection','TechSupport','StreamingTV','StreamingMovies']\n",
    "\n",
    "df['TotalServices'] = df[service_cols].apply(lambda row: sum(row=='Yes'), axis=1).fillna(0)\n",
    "\n",
    "# Premium if more than 4 services\n",
    "df['PremiumCustomer'] = (df['TotalServices'] > 4).astype(int)\n",
    "\n",
    "# Indicator for electronic payment\n",
    "electronic_payments = ['Electronic check','Bank transfer (automatic)','Credit card (automatic)']\n",
    "df['ElectronicPayment'] = df['PaymentMethod'].isin(electronic_payments).astype(int)\n",
    "\n",
    "df[['AvgMonthlyCharge','TotalServices','PremiumCustomer','ElectronicPayment']].head()\n"
   ]
  },
  {
   "cell_type": "markdown",
   "id": "26d84fc4",
   "metadata": {},
   "source": [
    "Discretization (Binning)"
   ]
  },
  {
   "cell_type": "code",
   "execution_count": 22,
   "id": "bdc9c956",
   "metadata": {},
   "outputs": [
    {
     "data": {
      "application/vnd.microsoft.datawrangler.viewer.v0+json": {
       "columns": [
        {
         "name": "index",
         "rawType": "int64",
         "type": "integer"
        },
        {
         "name": "tenure",
         "rawType": "float64",
         "type": "float"
        },
        {
         "name": "TenureGroup",
         "rawType": "category",
         "type": "unknown"
        },
        {
         "name": "MonthlyCharges",
         "rawType": "float64",
         "type": "float"
        },
        {
         "name": "MonthlyChargeGroup",
         "rawType": "category",
         "type": "unknown"
        }
       ],
       "ref": "0129476d-bf50-4e34-a22a-bddccef52b4f",
       "rows": [
        [
         "0",
         "-1.2447395693060344",
         "Short",
         "0.9999999999999999",
         "High"
        ],
        [
         "1",
         "-1.2447395693060344",
         "Short",
         "0.0",
         "Low"
        ],
        [
         "2",
         "1.1041644266157484",
         "Long",
         "0.3917695602259361",
         "Medium"
        ],
        [
         "3",
         "-0.47636982049819665",
         "Short",
         "0.0",
         "Low"
        ],
        [
         "4",
         "-0.064392257832533",
         "Medium",
         "0.26140718826312004",
         "Medium"
        ]
       ],
       "shape": {
        "columns": 4,
        "rows": 5
       }
      },
      "text/html": [
       "<div>\n",
       "<style scoped>\n",
       "    .dataframe tbody tr th:only-of-type {\n",
       "        vertical-align: middle;\n",
       "    }\n",
       "\n",
       "    .dataframe tbody tr th {\n",
       "        vertical-align: top;\n",
       "    }\n",
       "\n",
       "    .dataframe thead th {\n",
       "        text-align: right;\n",
       "    }\n",
       "</style>\n",
       "<table border=\"1\" class=\"dataframe\">\n",
       "  <thead>\n",
       "    <tr style=\"text-align: right;\">\n",
       "      <th></th>\n",
       "      <th>tenure</th>\n",
       "      <th>TenureGroup</th>\n",
       "      <th>MonthlyCharges</th>\n",
       "      <th>MonthlyChargeGroup</th>\n",
       "    </tr>\n",
       "  </thead>\n",
       "  <tbody>\n",
       "    <tr>\n",
       "      <th>0</th>\n",
       "      <td>-1.244740</td>\n",
       "      <td>Short</td>\n",
       "      <td>1.000000</td>\n",
       "      <td>High</td>\n",
       "    </tr>\n",
       "    <tr>\n",
       "      <th>1</th>\n",
       "      <td>-1.244740</td>\n",
       "      <td>Short</td>\n",
       "      <td>0.000000</td>\n",
       "      <td>Low</td>\n",
       "    </tr>\n",
       "    <tr>\n",
       "      <th>2</th>\n",
       "      <td>1.104164</td>\n",
       "      <td>Long</td>\n",
       "      <td>0.391770</td>\n",
       "      <td>Medium</td>\n",
       "    </tr>\n",
       "    <tr>\n",
       "      <th>3</th>\n",
       "      <td>-0.476370</td>\n",
       "      <td>Short</td>\n",
       "      <td>0.000000</td>\n",
       "      <td>Low</td>\n",
       "    </tr>\n",
       "    <tr>\n",
       "      <th>4</th>\n",
       "      <td>-0.064392</td>\n",
       "      <td>Medium</td>\n",
       "      <td>0.261407</td>\n",
       "      <td>Medium</td>\n",
       "    </tr>\n",
       "  </tbody>\n",
       "</table>\n",
       "</div>"
      ],
      "text/plain": [
       "     tenure TenureGroup  MonthlyCharges MonthlyChargeGroup\n",
       "0 -1.244740       Short        1.000000               High\n",
       "1 -1.244740       Short        0.000000                Low\n",
       "2  1.104164        Long        0.391770             Medium\n",
       "3 -0.476370       Short        0.000000                Low\n",
       "4 -0.064392      Medium        0.261407             Medium"
      ]
     },
     "execution_count": 22,
     "metadata": {},
     "output_type": "execute_result"
    }
   ],
   "source": [
    "# Discretization\n",
    "\n",
    "# Discretize tenure into Short, Medium, Long\n",
    "df['TenureGroup'] = pd.qcut(df['tenure'], q=3, labels=['Short', 'Medium', 'Long'])\n",
    "\n",
    "# Discretize MonthlyCharges, TotalCharges, AvgMonthlyCharge into Low, Medium, High\n",
    "df['MonthlyChargeGroup'] = pd.qcut(df['MonthlyCharges'], 3, labels=['Low', 'Medium', 'High'])\n",
    "df['TotalChargeGroup'] = pd.qcut(df['TotalCharges'], 3, labels=['Low', 'Medium', 'High'])\n",
    "df['AvgMonthlyChargeGroup'] = pd.qcut(df['AvgMonthlyCharge'], 3, labels=['Low', 'Medium', 'High'])\n",
    "\n",
    "df[['tenure','TenureGroup','MonthlyCharges','MonthlyChargeGroup']].head()\n"
   ]
  },
  {
   "cell_type": "markdown",
   "id": "b2adc41b",
   "metadata": {},
   "source": [
    "Concept Hierarchy"
   ]
  },
  {
   "cell_type": "code",
   "execution_count": 23,
   "id": "2e725d35",
   "metadata": {},
   "outputs": [
    {
     "data": {
      "application/vnd.microsoft.datawrangler.viewer.v0+json": {
       "columns": [
        {
         "name": "index",
         "rawType": "int64",
         "type": "integer"
        },
        {
         "name": "Contract",
         "rawType": "object",
         "type": "string"
        },
        {
         "name": "ContractLevel",
         "rawType": "float64",
         "type": "float"
        },
        {
         "name": "InternetService",
         "rawType": "object",
         "type": "string"
        },
        {
         "name": "InternetServiceLevel",
         "rawType": "int64",
         "type": "integer"
        }
       ],
       "ref": "42d53b7c-5071-4e03-9def-7c550f0c6a2e",
       "rows": [
        [
         "0",
         "Month-to-Month",
         "0.0",
         "No",
         "1"
        ],
        [
         "1",
         "One year",
         "2.0",
         "DSL",
         "2"
        ],
        [
         "2",
         "Month-to-Month",
         "0.0",
         "DSL",
         "2"
        ],
        [
         "3",
         "Two year",
         "3.0",
         "Fiber optic",
         "3"
        ],
        [
         "4",
         "One year",
         "2.0",
         "Fiber optic",
         "3"
        ]
       ],
       "shape": {
        "columns": 4,
        "rows": 5
       }
      },
      "text/html": [
       "<div>\n",
       "<style scoped>\n",
       "    .dataframe tbody tr th:only-of-type {\n",
       "        vertical-align: middle;\n",
       "    }\n",
       "\n",
       "    .dataframe tbody tr th {\n",
       "        vertical-align: top;\n",
       "    }\n",
       "\n",
       "    .dataframe thead th {\n",
       "        text-align: right;\n",
       "    }\n",
       "</style>\n",
       "<table border=\"1\" class=\"dataframe\">\n",
       "  <thead>\n",
       "    <tr style=\"text-align: right;\">\n",
       "      <th></th>\n",
       "      <th>Contract</th>\n",
       "      <th>ContractLevel</th>\n",
       "      <th>InternetService</th>\n",
       "      <th>InternetServiceLevel</th>\n",
       "    </tr>\n",
       "  </thead>\n",
       "  <tbody>\n",
       "    <tr>\n",
       "      <th>0</th>\n",
       "      <td>Month-to-Month</td>\n",
       "      <td>0.0</td>\n",
       "      <td>No</td>\n",
       "      <td>1</td>\n",
       "    </tr>\n",
       "    <tr>\n",
       "      <th>1</th>\n",
       "      <td>One year</td>\n",
       "      <td>2.0</td>\n",
       "      <td>DSL</td>\n",
       "      <td>2</td>\n",
       "    </tr>\n",
       "    <tr>\n",
       "      <th>2</th>\n",
       "      <td>Month-to-Month</td>\n",
       "      <td>0.0</td>\n",
       "      <td>DSL</td>\n",
       "      <td>2</td>\n",
       "    </tr>\n",
       "    <tr>\n",
       "      <th>3</th>\n",
       "      <td>Two year</td>\n",
       "      <td>3.0</td>\n",
       "      <td>Fiber optic</td>\n",
       "      <td>3</td>\n",
       "    </tr>\n",
       "    <tr>\n",
       "      <th>4</th>\n",
       "      <td>One year</td>\n",
       "      <td>2.0</td>\n",
       "      <td>Fiber optic</td>\n",
       "      <td>3</td>\n",
       "    </tr>\n",
       "  </tbody>\n",
       "</table>\n",
       "</div>"
      ],
      "text/plain": [
       "         Contract  ContractLevel InternetService  InternetServiceLevel\n",
       "0  Month-to-Month            0.0              No                     1\n",
       "1        One year            2.0             DSL                     2\n",
       "2  Month-to-Month            0.0             DSL                     2\n",
       "3        Two year            3.0     Fiber optic                     3\n",
       "4        One year            2.0     Fiber optic                     3"
      ]
     },
     "execution_count": 23,
     "metadata": {},
     "output_type": "execute_result"
    }
   ],
   "source": [
    "#Concept Hierachy\n",
    "\n",
    "# Map Contract and InternetService to ordinal levels\n",
    "\n",
    "contract_hierarchy = {'Month-to-month': 1, 'One year': 2, 'Two year': 3}\n",
    "df['ContractLevel'] = df['Contract'].map(contract_hierarchy).fillna(0)\n",
    "\n",
    "internet_hierarchy = {'No': 1, 'DSL': 2, 'Fiber optic': 3}\n",
    "df['InternetServiceLevel'] = df['InternetService'].map(internet_hierarchy).fillna(0)\n",
    "\n",
    "df[['Contract','ContractLevel','InternetService','InternetServiceLevel']].head()\n"
   ]
  },
  {
   "cell_type": "markdown",
   "id": "ea5ae6ce",
   "metadata": {},
   "source": [
    "Encoding Categorical Variables"
   ]
  },
  {
   "cell_type": "code",
   "execution_count": 24,
   "id": "f20450a1",
   "metadata": {},
   "outputs": [
    {
     "data": {
      "application/vnd.microsoft.datawrangler.viewer.v0+json": {
       "columns": [
        {
         "name": "index",
         "rawType": "int64",
         "type": "integer"
        },
        {
         "name": "customerID",
         "rawType": "object",
         "type": "string"
        },
        {
         "name": "SeniorCitizen",
         "rawType": "float64",
         "type": "float"
        },
        {
         "name": "Partner",
         "rawType": "float64",
         "type": "float"
        },
        {
         "name": "Dependents",
         "rawType": "float64",
         "type": "float"
        },
        {
         "name": "tenure",
         "rawType": "float64",
         "type": "float"
        },
        {
         "name": "PhoneService",
         "rawType": "object",
         "type": "string"
        },
        {
         "name": "MultipleLines",
         "rawType": "object",
         "type": "string"
        },
        {
         "name": "OnlineSecurity",
         "rawType": "object",
         "type": "string"
        },
        {
         "name": "OnlineBackup",
         "rawType": "object",
         "type": "string"
        },
        {
         "name": "DeviceProtection",
         "rawType": "object",
         "type": "string"
        },
        {
         "name": "TechSupport",
         "rawType": "object",
         "type": "string"
        },
        {
         "name": "StreamingTV",
         "rawType": "object",
         "type": "string"
        },
        {
         "name": "StreamingMovies",
         "rawType": "object",
         "type": "string"
        },
        {
         "name": "PaperlessBilling",
         "rawType": "int64",
         "type": "integer"
        },
        {
         "name": "MonthlyCharges",
         "rawType": "float64",
         "type": "float"
        },
        {
         "name": "TotalCharges",
         "rawType": "float64",
         "type": "float"
        },
        {
         "name": "Churn",
         "rawType": "int64",
         "type": "integer"
        },
        {
         "name": "AvgMonthlyCharge",
         "rawType": "float64",
         "type": "float"
        },
        {
         "name": "TotalServices",
         "rawType": "int64",
         "type": "integer"
        },
        {
         "name": "PremiumCustomer",
         "rawType": "int64",
         "type": "integer"
        },
        {
         "name": "ElectronicPayment",
         "rawType": "int64",
         "type": "integer"
        },
        {
         "name": "ContractLevel",
         "rawType": "float64",
         "type": "float"
        },
        {
         "name": "InternetServiceLevel",
         "rawType": "int64",
         "type": "integer"
        },
        {
         "name": "gender_Male",
         "rawType": "bool",
         "type": "boolean"
        },
        {
         "name": "gender_Unknown",
         "rawType": "bool",
         "type": "boolean"
        },
        {
         "name": "InternetService_Fiber optic",
         "rawType": "bool",
         "type": "boolean"
        },
        {
         "name": "InternetService_No",
         "rawType": "bool",
         "type": "boolean"
        },
        {
         "name": "PaymentMethod_Credit card (automatic)",
         "rawType": "bool",
         "type": "boolean"
        },
        {
         "name": "PaymentMethod_Electronic check",
         "rawType": "bool",
         "type": "boolean"
        },
        {
         "name": "PaymentMethod_Mailed check",
         "rawType": "bool",
         "type": "boolean"
        },
        {
         "name": "PaymentMethod_Unknown",
         "rawType": "bool",
         "type": "boolean"
        },
        {
         "name": "Contract_One year",
         "rawType": "bool",
         "type": "boolean"
        },
        {
         "name": "Contract_Two year",
         "rawType": "bool",
         "type": "boolean"
        },
        {
         "name": "TenureGroup_Medium",
         "rawType": "bool",
         "type": "boolean"
        },
        {
         "name": "TenureGroup_Long",
         "rawType": "bool",
         "type": "boolean"
        },
        {
         "name": "MonthlyChargeGroup_Medium",
         "rawType": "bool",
         "type": "boolean"
        },
        {
         "name": "MonthlyChargeGroup_High",
         "rawType": "bool",
         "type": "boolean"
        },
        {
         "name": "TotalChargeGroup_Medium",
         "rawType": "bool",
         "type": "boolean"
        },
        {
         "name": "TotalChargeGroup_High",
         "rawType": "bool",
         "type": "boolean"
        },
        {
         "name": "AvgMonthlyChargeGroup_Medium",
         "rawType": "bool",
         "type": "boolean"
        },
        {
         "name": "AvgMonthlyChargeGroup_High",
         "rawType": "bool",
         "type": "boolean"
        }
       ],
       "ref": "918a0bf8-cf80-480b-ba21-29222f974892",
       "rows": [
        [
         "0",
         "CUST00001",
         "0.0",
         "0.0",
         "1.0",
         "-1.2447395693060344",
         "Yes",
         "Yes",
         "No",
         "No",
         "No",
         "No",
         "No",
         "No",
         "0",
         "0.9999999999999999",
         "0.03807297739202237",
         "1",
         "-0.03058734871482883",
         "2",
         "0",
         "0",
         "0.0",
         "1",
         "True",
         "False",
         "False",
         "True",
         "False",
         "False",
         "True",
         "False",
         "False",
         "False",
         "False",
         "False",
         "False",
         "True",
         "False",
         "False",
         "True",
         "False"
        ],
        [
         "1",
         "CUST00002",
         "1.0",
         "1.0",
         "0.0",
         "-1.2447395693060344",
         "Yes",
         "Yes",
         "No",
         "No",
         "No",
         "Yes",
         "Unknown",
         "No",
         "1",
         "0.0",
         "0.0",
         "0",
         "-0.0",
         "3",
         "0",
         "1",
         "2.0",
         "2",
         "True",
         "False",
         "False",
         "False",
         "False",
         "False",
         "False",
         "False",
         "True",
         "False",
         "False",
         "False",
         "False",
         "False",
         "False",
         "False",
         "True",
         "False"
        ],
        [
         "2",
         "CUST00003",
         "0.0",
         "0.0",
         "0.0",
         "1.1041644266157484",
         "Yes",
         "Yes",
         "No",
         "Yes",
         "No",
         "Unknown",
         "Yes",
         "Yes",
         "0",
         "0.3917695602259361",
         "0.762305221442094",
         "1",
         "0.690384782573284",
         "5",
         "1",
         "1",
         "0.0",
         "2",
         "False",
         "False",
         "False",
         "False",
         "False",
         "True",
         "False",
         "False",
         "False",
         "False",
         "False",
         "True",
         "True",
         "False",
         "False",
         "True",
         "False",
         "True"
        ],
        [
         "3",
         "CUST00005",
         "1.0",
         "1.0",
         "1.0",
         "-0.47636982049819665",
         "Yes",
         "Unknown",
         "Yes",
         "No",
         "Yes",
         "No",
         "No",
         "No",
         "1",
         "0.0",
         "0.1141568595990039",
         "1",
         "-0.23964418216383987",
         "3",
         "0",
         "1",
         "3.0",
         "3",
         "True",
         "False",
         "True",
         "False",
         "False",
         "True",
         "False",
         "False",
         "False",
         "True",
         "False",
         "False",
         "False",
         "False",
         "False",
         "False",
         "False",
         "False"
        ],
        [
         "4",
         "CUST00006",
         "0.0",
         "1.0",
         "0.0",
         "-0.064392257832533",
         "Yes",
         "No",
         "No",
         "No",
         "Unknown",
         "Yes",
         "Unknown",
         "No",
         "0",
         "0.26140718826312004",
         "0.2685102684008581",
         "1",
         "-4.170563093628835",
         "2",
         "0",
         "1",
         "2.0",
         "3",
         "True",
         "False",
         "True",
         "False",
         "False",
         "True",
         "False",
         "False",
         "True",
         "False",
         "True",
         "False",
         "True",
         "False",
         "True",
         "False",
         "False",
         "False"
        ]
       ],
       "shape": {
        "columns": 41,
        "rows": 5
       }
      },
      "text/html": [
       "<div>\n",
       "<style scoped>\n",
       "    .dataframe tbody tr th:only-of-type {\n",
       "        vertical-align: middle;\n",
       "    }\n",
       "\n",
       "    .dataframe tbody tr th {\n",
       "        vertical-align: top;\n",
       "    }\n",
       "\n",
       "    .dataframe thead th {\n",
       "        text-align: right;\n",
       "    }\n",
       "</style>\n",
       "<table border=\"1\" class=\"dataframe\">\n",
       "  <thead>\n",
       "    <tr style=\"text-align: right;\">\n",
       "      <th></th>\n",
       "      <th>customerID</th>\n",
       "      <th>SeniorCitizen</th>\n",
       "      <th>Partner</th>\n",
       "      <th>Dependents</th>\n",
       "      <th>tenure</th>\n",
       "      <th>PhoneService</th>\n",
       "      <th>MultipleLines</th>\n",
       "      <th>OnlineSecurity</th>\n",
       "      <th>OnlineBackup</th>\n",
       "      <th>DeviceProtection</th>\n",
       "      <th>...</th>\n",
       "      <th>Contract_One year</th>\n",
       "      <th>Contract_Two year</th>\n",
       "      <th>TenureGroup_Medium</th>\n",
       "      <th>TenureGroup_Long</th>\n",
       "      <th>MonthlyChargeGroup_Medium</th>\n",
       "      <th>MonthlyChargeGroup_High</th>\n",
       "      <th>TotalChargeGroup_Medium</th>\n",
       "      <th>TotalChargeGroup_High</th>\n",
       "      <th>AvgMonthlyChargeGroup_Medium</th>\n",
       "      <th>AvgMonthlyChargeGroup_High</th>\n",
       "    </tr>\n",
       "  </thead>\n",
       "  <tbody>\n",
       "    <tr>\n",
       "      <th>0</th>\n",
       "      <td>CUST00001</td>\n",
       "      <td>0.0</td>\n",
       "      <td>0.0</td>\n",
       "      <td>1.0</td>\n",
       "      <td>-1.244740</td>\n",
       "      <td>Yes</td>\n",
       "      <td>Yes</td>\n",
       "      <td>No</td>\n",
       "      <td>No</td>\n",
       "      <td>No</td>\n",
       "      <td>...</td>\n",
       "      <td>False</td>\n",
       "      <td>False</td>\n",
       "      <td>False</td>\n",
       "      <td>False</td>\n",
       "      <td>False</td>\n",
       "      <td>True</td>\n",
       "      <td>False</td>\n",
       "      <td>False</td>\n",
       "      <td>True</td>\n",
       "      <td>False</td>\n",
       "    </tr>\n",
       "    <tr>\n",
       "      <th>1</th>\n",
       "      <td>CUST00002</td>\n",
       "      <td>1.0</td>\n",
       "      <td>1.0</td>\n",
       "      <td>0.0</td>\n",
       "      <td>-1.244740</td>\n",
       "      <td>Yes</td>\n",
       "      <td>Yes</td>\n",
       "      <td>No</td>\n",
       "      <td>No</td>\n",
       "      <td>No</td>\n",
       "      <td>...</td>\n",
       "      <td>True</td>\n",
       "      <td>False</td>\n",
       "      <td>False</td>\n",
       "      <td>False</td>\n",
       "      <td>False</td>\n",
       "      <td>False</td>\n",
       "      <td>False</td>\n",
       "      <td>False</td>\n",
       "      <td>True</td>\n",
       "      <td>False</td>\n",
       "    </tr>\n",
       "    <tr>\n",
       "      <th>2</th>\n",
       "      <td>CUST00003</td>\n",
       "      <td>0.0</td>\n",
       "      <td>0.0</td>\n",
       "      <td>0.0</td>\n",
       "      <td>1.104164</td>\n",
       "      <td>Yes</td>\n",
       "      <td>Yes</td>\n",
       "      <td>No</td>\n",
       "      <td>Yes</td>\n",
       "      <td>No</td>\n",
       "      <td>...</td>\n",
       "      <td>False</td>\n",
       "      <td>False</td>\n",
       "      <td>False</td>\n",
       "      <td>True</td>\n",
       "      <td>True</td>\n",
       "      <td>False</td>\n",
       "      <td>False</td>\n",
       "      <td>True</td>\n",
       "      <td>False</td>\n",
       "      <td>True</td>\n",
       "    </tr>\n",
       "    <tr>\n",
       "      <th>3</th>\n",
       "      <td>CUST00005</td>\n",
       "      <td>1.0</td>\n",
       "      <td>1.0</td>\n",
       "      <td>1.0</td>\n",
       "      <td>-0.476370</td>\n",
       "      <td>Yes</td>\n",
       "      <td>Unknown</td>\n",
       "      <td>Yes</td>\n",
       "      <td>No</td>\n",
       "      <td>Yes</td>\n",
       "      <td>...</td>\n",
       "      <td>False</td>\n",
       "      <td>True</td>\n",
       "      <td>False</td>\n",
       "      <td>False</td>\n",
       "      <td>False</td>\n",
       "      <td>False</td>\n",
       "      <td>False</td>\n",
       "      <td>False</td>\n",
       "      <td>False</td>\n",
       "      <td>False</td>\n",
       "    </tr>\n",
       "    <tr>\n",
       "      <th>4</th>\n",
       "      <td>CUST00006</td>\n",
       "      <td>0.0</td>\n",
       "      <td>1.0</td>\n",
       "      <td>0.0</td>\n",
       "      <td>-0.064392</td>\n",
       "      <td>Yes</td>\n",
       "      <td>No</td>\n",
       "      <td>No</td>\n",
       "      <td>No</td>\n",
       "      <td>Unknown</td>\n",
       "      <td>...</td>\n",
       "      <td>True</td>\n",
       "      <td>False</td>\n",
       "      <td>True</td>\n",
       "      <td>False</td>\n",
       "      <td>True</td>\n",
       "      <td>False</td>\n",
       "      <td>True</td>\n",
       "      <td>False</td>\n",
       "      <td>False</td>\n",
       "      <td>False</td>\n",
       "    </tr>\n",
       "  </tbody>\n",
       "</table>\n",
       "<p>5 rows × 41 columns</p>\n",
       "</div>"
      ],
      "text/plain": [
       "  customerID  SeniorCitizen  Partner  Dependents    tenure PhoneService  \\\n",
       "0  CUST00001            0.0      0.0         1.0 -1.244740          Yes   \n",
       "1  CUST00002            1.0      1.0         0.0 -1.244740          Yes   \n",
       "2  CUST00003            0.0      0.0         0.0  1.104164          Yes   \n",
       "3  CUST00005            1.0      1.0         1.0 -0.476370          Yes   \n",
       "4  CUST00006            0.0      1.0         0.0 -0.064392          Yes   \n",
       "\n",
       "  MultipleLines OnlineSecurity OnlineBackup DeviceProtection  ...  \\\n",
       "0           Yes             No           No               No  ...   \n",
       "1           Yes             No           No               No  ...   \n",
       "2           Yes             No          Yes               No  ...   \n",
       "3       Unknown            Yes           No              Yes  ...   \n",
       "4            No             No           No          Unknown  ...   \n",
       "\n",
       "  Contract_One year Contract_Two year TenureGroup_Medium  TenureGroup_Long  \\\n",
       "0             False             False              False             False   \n",
       "1              True             False              False             False   \n",
       "2             False             False              False              True   \n",
       "3             False              True              False             False   \n",
       "4              True             False               True             False   \n",
       "\n",
       "   MonthlyChargeGroup_Medium  MonthlyChargeGroup_High  \\\n",
       "0                      False                     True   \n",
       "1                      False                    False   \n",
       "2                       True                    False   \n",
       "3                      False                    False   \n",
       "4                       True                    False   \n",
       "\n",
       "   TotalChargeGroup_Medium  TotalChargeGroup_High  \\\n",
       "0                    False                  False   \n",
       "1                    False                  False   \n",
       "2                    False                   True   \n",
       "3                    False                  False   \n",
       "4                     True                  False   \n",
       "\n",
       "   AvgMonthlyChargeGroup_Medium  AvgMonthlyChargeGroup_High  \n",
       "0                          True                       False  \n",
       "1                          True                       False  \n",
       "2                         False                        True  \n",
       "3                         False                       False  \n",
       "4                         False                       False  \n",
       "\n",
       "[5 rows x 41 columns]"
      ]
     },
     "execution_count": 24,
     "metadata": {},
     "output_type": "execute_result"
    }
   ],
   "source": [
    "# Encoding\n",
    "\n",
    "# One-hot encoding for categorical\n",
    "cat_cols = ['gender','InternetService','PaymentMethod','Contract',\n",
    "            'TenureGroup','MonthlyChargeGroup','TotalChargeGroup','AvgMonthlyChargeGroup']\n",
    "\n",
    "df = pd.get_dummies(df, columns=cat_cols, drop_first=True)\n",
    "\n",
    "# Convert Yes/No to 1/0\n",
    "binary_cols = ['Partner', 'Dependents', 'PaperlessBilling', 'Churn']\n",
    "for col in binary_cols:\n",
    "    if col in df.columns:\n",
    "        df[col] = df[col].map({'Yes': 1, 'No': 0}).fillna(0)\n",
    "\n",
    "df.head()\n"
   ]
  },
  {
   "cell_type": "code",
   "execution_count": 25,
   "id": "237105ab",
   "metadata": {},
   "outputs": [
    {
     "name": "stdout",
     "output_type": "stream",
     "text": [
      " Data Transformation & Discretization complete. Saved as 03.transformed_telco_data.csv\n",
      "Final dataset shape: (55280, 41)\n"
     ]
    }
   ],
   "source": [
    "\n",
    "df.to_csv(\"03.transformed_telco_data.csv\", index=False)\n",
    "\n",
    "print(\" Data Transformation & Discretization complete. Saved as 03.transformed_telco_data.csv\")\n",
    "print(\"Final dataset shape:\", df.shape)"
   ]
  }
 ],
 "metadata": {
  "kernelspec": {
   "display_name": "venv_TensorFlow_cpu_1 (3.12.10)",
   "language": "python",
   "name": "python3"
  },
  "language_info": {
   "codemirror_mode": {
    "name": "ipython",
    "version": 3
   },
   "file_extension": ".py",
   "mimetype": "text/x-python",
   "name": "python",
   "nbconvert_exporter": "python",
   "pygments_lexer": "ipython3",
   "version": "3.12.10"
  }
 },
 "nbformat": 4,
 "nbformat_minor": 5
}
